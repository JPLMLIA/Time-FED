{
 "cells": [
  {
   "cell_type": "markdown",
   "metadata": {
    "pycharm": {
     "name": "#%% md\n"
    }
   },
   "source": [
    "### import statements"
   ]
  },
  {
   "cell_type": "code",
   "execution_count": null,
   "metadata": {},
   "outputs": [],
   "source": [
    "%matplotlib inline\n",
    "import sys\n",
    "import os\n",
    "import pandas as pd\n",
    "sys.path.append('../src')\n",
    "import datetime\n",
    "import matplotlib.pyplot as plt\n",
    "import numpy as np\n",
    "import sklearn\n",
    "import pickle"
   ]
  },
  {
   "cell_type": "code",
   "execution_count": null,
   "metadata": {},
   "outputs": [],
   "source": [
    "from plot_utils import *"
   ]
  },
  {
   "cell_type": "markdown",
   "metadata": {
    "pycharm": {
     "name": "#%% md\n"
    }
   },
   "source": [
    "### constants"
   ]
  },
  {
   "cell_type": "code",
   "execution_count": null,
   "metadata": {},
   "outputs": [],
   "source": [
    "smooth_mins = [1, 2, 5, 10, 15, 20]\n",
    "r0_map = {'all':'r0_all','day':'r0_day','ngt':'r0_ngt'} # adn = all, day, ngt"
   ]
  },
  {
   "cell_type": "code",
   "execution_count": null,
   "metadata": {},
   "outputs": [],
   "source": [
    "feats_mnus_cn2 = ['pressure', 'relative_humidity', 'temperature', 'wind_speed', 'solar_zenith_angle','dayofyear', 'hour']\n",
    "feats_plus_cn2 = feats_mnus_cn2 + ['logCn2']\n",
    "feats_map = {'feats_plus_cn2': feats_plus_cn2, 'feats_mnus_cn2': feats_mnus_cn2}"
   ]
  },
  {
   "cell_type": "markdown",
   "metadata": {
    "pycharm": {
     "name": "#%% md\n"
    }
   },
   "source": [
    "### read data"
   ]
  },
  {
   "cell_type": "code",
   "execution_count": null,
   "metadata": {},
   "outputs": [],
   "source": [
    "with open('results.r0.pkl', 'rb') as fh:\n",
    "    results = pickle.load(fh)"
   ]
  },
  {
   "cell_type": "code",
   "execution_count": null,
   "metadata": {},
   "outputs": [],
   "source": [
    "df_subset_resamp5 = pd.read_hdf('df_subset_resamp5.r0.h5')\n",
    "df_subset = df_subset_resamp5"
   ]
  },
  {
   "cell_type": "code",
   "execution_count": null,
   "metadata": {},
   "outputs": [],
   "source": [
    "with open('valid_masks.r0.pkl', 'rb') as fh:\n",
    "    valid_masks = pickle.load(fh)"
   ]
  },
  {
   "cell_type": "code",
   "execution_count": null,
   "metadata": {},
   "outputs": [],
   "source": [
    "split_date = '2019-12-31'\n",
    "train = df_subset.index <= split_date\n",
    "test  = df_subset.index > split_date"
   ]
  },
  {
   "cell_type": "markdown",
   "metadata": {},
   "source": [
    "### Compare the Results"
   ]
  },
  {
   "cell_type": "code",
   "execution_count": null,
   "metadata": {},
   "outputs": [],
   "source": [
    "results_by_smooth_sqerr = {}\n",
    "results_by_smooth_r2 = {}\n",
    "\n",
    "f = 'feats_plus_cn2'\n",
    "for m in smooth_mins:\n",
    "    results_by_smooth_sqerr[m] = []\n",
    "    results_by_smooth_sqerr[m].append(results[f]['all'][m]['sq_err'])\n",
    "    results_by_smooth_sqerr[m].append(results[f]['day'][m]['sq_err'])\n",
    "    results_by_smooth_sqerr[m].append(results[f]['ngt'][m]['sq_err'])\n",
    "    \n",
    "    results_by_smooth_r2[m] = []\n",
    "    results_by_smooth_r2[m].append(results[f]['all'][m]['r2'])\n",
    "    results_by_smooth_r2[m].append(results[f]['day'][m]['r2'])\n",
    "    results_by_smooth_r2[m].append(results[f]['ngt'][m]['r2'])"
   ]
  },
  {
   "cell_type": "code",
   "execution_count": null,
   "metadata": {},
   "outputs": [],
   "source": [
    "for r in ['all', 'day', 'ngt']:\n",
    "    for m in [10]: #results_by_smooth_sqerr.keys():\n",
    "        valid = valid_masks[f][r][m]\n",
    "        label = '{}_{}T'.format(r0_map[r], str(m))\n",
    "        var = np.var(df_subset.loc[test&valid, label])\n",
    "        if r == 'all':\n",
    "            i = 0\n",
    "        if r == 'day':\n",
    "            i = 1\n",
    "        if r == 'ngt':\n",
    "            i = 2\n",
    "        print(\"{}, {:2}, {:.5}, {:.5}, {:.5}\".format(r, m, results_by_smooth_sqerr[m][i], var, results_by_smooth_r2[m][i]))"
   ]
  }
 ],
 "metadata": {
  "kernelspec": {
   "display_name": "Python 3",
   "language": "python",
   "name": "python3"
  },
  "language_info": {
   "codemirror_mode": {
    "name": "ipython",
    "version": 3
   },
   "file_extension": ".py",
   "mimetype": "text/x-python",
   "name": "python",
   "nbconvert_exporter": "python",
   "pygments_lexer": "ipython3",
   "version": "3.8.5"
  }
 },
 "nbformat": 4,
 "nbformat_minor": 2
}
