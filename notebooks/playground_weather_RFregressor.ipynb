{
 "cells": [
  {
   "cell_type": "code",
   "execution_count": 1,
   "metadata": {
    "pycharm": {
     "is_executing": false
    }
   },
   "outputs": [],
   "source": [
    "import sys\n",
    "import os\n",
    "import pandas as pd\n",
    "sys.path.append('../src')\n",
    "from utils import load_weather"
   ]
  },
  {
   "cell_type": "code",
   "execution_count": 2,
   "metadata": {},
   "outputs": [],
   "source": [
    "D_WEATHER = '../../data/weather'\n",
    "F_WEATHER = os.path.join(D_WEATHER, 'weather.h5')"
   ]
  },
  {
   "cell_type": "code",
   "execution_count": 3,
   "metadata": {
    "pycharm": {
     "is_executing": true,
     "name": "#%%\n"
    }
   },
   "outputs": [
    {
     "name": "stdout",
     "output_type": "stream",
     "text": [
      "10-28 10:30 numexpr.utils INFO     NumExpr defaulting to 8 threads.\n"
     ]
    }
   ],
   "source": [
    "if os.path.exists(F_WEATHER):\n",
    "    df = pd.read_hdf(F_WEATHER)\n",
    "else:\n",
    "    df = load_weather(path=D_WEATHER)\n",
    "    df.interpolate(method='linear', inplace=True) # or any other method\n",
    "    # optional, improves read in speed later\n",
    "    df.to_hdf('weather.h5', 'data')"
   ]
  },
  {
   "cell_type": "code",
   "execution_count": 5,
   "metadata": {
    "pycharm": {
     "is_executing": true,
     "name": "#%%\n"
    }
   },
   "outputs": [
    {
     "data": {
      "text/html": [
       "<div>\n",
       "<style scoped>\n",
       "    .dataframe tbody tr th:only-of-type {\n",
       "        vertical-align: middle;\n",
       "    }\n",
       "\n",
       "    .dataframe tbody tr th {\n",
       "        vertical-align: top;\n",
       "    }\n",
       "\n",
       "    .dataframe thead th {\n",
       "        text-align: right;\n",
       "    }\n",
       "</style>\n",
       "<table border=\"1\" class=\"dataframe\">\n",
       "  <thead>\n",
       "    <tr style=\"text-align: right;\">\n",
       "      <th></th>\n",
       "      <th>pressure</th>\n",
       "      <th>relative_humidity</th>\n",
       "      <th>temperature</th>\n",
       "      <th>wind_direction</th>\n",
       "      <th>wind_speed</th>\n",
       "    </tr>\n",
       "  </thead>\n",
       "  <tbody>\n",
       "    <tr>\n",
       "      <th>count</th>\n",
       "      <td>1.732170e+06</td>\n",
       "      <td>1.732170e+06</td>\n",
       "      <td>1.732170e+06</td>\n",
       "      <td>1.732170e+06</td>\n",
       "      <td>1.732170e+06</td>\n",
       "    </tr>\n",
       "    <tr>\n",
       "      <th>mean</th>\n",
       "      <td>7.746562e+02</td>\n",
       "      <td>3.959259e+01</td>\n",
       "      <td>1.078939e+01</td>\n",
       "      <td>1.924083e+02</td>\n",
       "      <td>2.336270e+00</td>\n",
       "    </tr>\n",
       "    <tr>\n",
       "      <th>std</th>\n",
       "      <td>4.517165e+00</td>\n",
       "      <td>2.780114e+01</td>\n",
       "      <td>8.348050e+00</td>\n",
       "      <td>8.100490e+01</td>\n",
       "      <td>1.698604e+00</td>\n",
       "    </tr>\n",
       "    <tr>\n",
       "      <th>min</th>\n",
       "      <td>7.516000e+02</td>\n",
       "      <td>1.000000e+00</td>\n",
       "      <td>-1.300000e+01</td>\n",
       "      <td>1.450000e+00</td>\n",
       "      <td>7.500000e-02</td>\n",
       "    </tr>\n",
       "    <tr>\n",
       "      <th>25%</th>\n",
       "      <td>7.721000e+02</td>\n",
       "      <td>2.000000e+01</td>\n",
       "      <td>4.800000e+00</td>\n",
       "      <td>1.518333e+02</td>\n",
       "      <td>1.210000e+00</td>\n",
       "    </tr>\n",
       "    <tr>\n",
       "      <th>50%</th>\n",
       "      <td>7.753000e+02</td>\n",
       "      <td>3.150188e+01</td>\n",
       "      <td>1.090000e+01</td>\n",
       "      <td>1.882105e+02</td>\n",
       "      <td>1.900000e+00</td>\n",
       "    </tr>\n",
       "    <tr>\n",
       "      <th>75%</th>\n",
       "      <td>7.779000e+02</td>\n",
       "      <td>4.900000e+01</td>\n",
       "      <td>1.750000e+01</td>\n",
       "      <td>2.542000e+02</td>\n",
       "      <td>2.845000e+00</td>\n",
       "    </tr>\n",
       "    <tr>\n",
       "      <th>max</th>\n",
       "      <td>7.856000e+02</td>\n",
       "      <td>1.100000e+02</td>\n",
       "      <td>3.180000e+01</td>\n",
       "      <td>3.600000e+02</td>\n",
       "      <td>3.196667e+01</td>\n",
       "    </tr>\n",
       "  </tbody>\n",
       "</table>\n",
       "</div>"
      ],
      "text/plain": [
       "           pressure  relative_humidity   temperature  wind_direction  \\\n",
       "count  1.732170e+06       1.732170e+06  1.732170e+06    1.732170e+06   \n",
       "mean   7.746562e+02       3.959259e+01  1.078939e+01    1.924083e+02   \n",
       "std    4.517165e+00       2.780114e+01  8.348050e+00    8.100490e+01   \n",
       "min    7.516000e+02       1.000000e+00 -1.300000e+01    1.450000e+00   \n",
       "25%    7.721000e+02       2.000000e+01  4.800000e+00    1.518333e+02   \n",
       "50%    7.753000e+02       3.150188e+01  1.090000e+01    1.882105e+02   \n",
       "75%    7.779000e+02       4.900000e+01  1.750000e+01    2.542000e+02   \n",
       "max    7.856000e+02       1.100000e+02  3.180000e+01    3.600000e+02   \n",
       "\n",
       "         wind_speed  \n",
       "count  1.732170e+06  \n",
       "mean   2.336270e+00  \n",
       "std    1.698604e+00  \n",
       "min    7.500000e-02  \n",
       "25%    1.210000e+00  \n",
       "50%    1.900000e+00  \n",
       "75%    2.845000e+00  \n",
       "max    3.196667e+01  "
      ]
     },
     "execution_count": 5,
     "metadata": {},
     "output_type": "execute_result"
    }
   ],
   "source": [
    "df.describe()"
   ]
  },
  {
   "cell_type": "code",
   "execution_count": 9,
   "metadata": {
    "pycharm": {
     "is_executing": true,
     "name": "#%%\n"
    }
   },
   "outputs": [
    {
     "data": {
      "text/plain": [
       "(Timestamp('2017-05-17 19:36:00', freq='T'),\n",
       " Timestamp('2020-09-01 17:05:00', freq='T'))"
      ]
     },
     "execution_count": 9,
     "metadata": {},
     "output_type": "execute_result"
    }
   ],
   "source": [
    "df.index.min(), df.index.max()"
   ]
  },
  {
   "cell_type": "code",
   "execution_count": 14,
   "metadata": {},
   "outputs": [],
   "source": [
    "train = df[df.index < '2020-01-01']\n",
    "test = df[df.index >= '2020-01-01']"
   ]
  },
  {
   "cell_type": "code",
   "execution_count": 15,
   "metadata": {},
   "outputs": [
    {
     "data": {
      "text/plain": [
       "pressure             1379784\n",
       "relative_humidity    1379784\n",
       "temperature          1379784\n",
       "wind_direction       1379784\n",
       "wind_speed           1379784\n",
       "dtype: int64"
      ]
     },
     "execution_count": 15,
     "metadata": {},
     "output_type": "execute_result"
    }
   ],
   "source": [
    "train.count()"
   ]
  },
  {
   "cell_type": "code",
   "execution_count": 16,
   "metadata": {},
   "outputs": [
    {
     "data": {
      "text/plain": [
       "pressure             352386\n",
       "relative_humidity    352386\n",
       "temperature          352386\n",
       "wind_direction       352386\n",
       "wind_speed           352386\n",
       "dtype: int64"
      ]
     },
     "execution_count": 16,
     "metadata": {},
     "output_type": "execute_result"
    }
   ],
   "source": [
    "test.count()"
   ]
  },
  {
   "cell_type": "code",
   "execution_count": 17,
   "metadata": {},
   "outputs": [],
   "source": [
    "feats = ['pressure', 'relative_humidity','wind_direction', 'wind_speed']\n",
    "label = 'temperature'"
   ]
  },
  {
   "cell_type": "code",
   "execution_count": null,
   "metadata": {},
   "outputs": [],
   "source": [
    "from sklearn.ensemble import RandomForestRegressor\n",
    "from sklearn.datasets import make_regression\n",
    "X, y = make_regression(n_features=4, n_informative=2, random_state=0, shuffle=False)\n",
    "regr = RandomForestRegressor(max_depth=2, random_state=0)\n",
    "regr.fit(X, y)\n",
    "RandomForestRegressor(...)\n",
    "print(regr.predict([[0, 0, 0, 0]]))\n",
    "[-8.32987858]"
   ]
  }
 ],
 "metadata": {
  "kernelspec": {
   "display_name": "Python 3",
   "language": "python",
   "name": "python3"
  },
  "language_info": {
   "codemirror_mode": {
    "name": "ipython",
    "version": 3
   },
   "file_extension": ".py",
   "mimetype": "text/x-python",
   "name": "python",
   "nbconvert_exporter": "python",
   "pygments_lexer": "ipython3",
   "version": "3.8.5"
  }
 },
 "nbformat": 4,
 "nbformat_minor": 1
}