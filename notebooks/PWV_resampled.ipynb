{
 "cells": [
  {
   "cell_type": "code",
   "execution_count": null,
   "metadata": {
    "jupyter": {
     "outputs_hidden": false,
     "source_hidden": false
    },
    "nteract": {
     "transient": {
      "deleting": false
     }
    }
   },
   "outputs": [],
   "source": [
    "%matplotlib inline\n",
    "\n",
    "import logging\n",
    "import matplotlib.pyplot as plt\n",
    "import pandas as pd\n",
    "import seaborn as sns\n",
    "import warnings\n",
    "import sys\n",
    "sys.path.append('/Users/urebbapr/research/opticalcomm/MLOC/src')\n",
    "\n",
    "from functools          import partial\n",
    "from matplotlib.patches import Patch\n",
    "from matplotlib.ticker  import FormatStrFormatter\n",
    "from types              import SimpleNamespace as SN\n",
    "\n",
    "# Depending on how your environment is setup, may need to tweak the utils import\n",
    "from utils import (\n",
    "    load_pwv,\n",
    "    compile_datasets\n",
    ")\n",
    "\n",
    "# Disable warnings\n",
    "warnings.filterwarnings('ignore')\n",
    "\n",
    "# Disable logger except for errors/exceptions\n",
    "logger = logging.getLogger()\n",
    "logger.setLevel(logging.ERROR)\n",
    "\n",
    "# Set context of seaborn\n",
    "sns.set_context('talk')\n"
   ]
  },
  {
   "cell_type": "code",
   "execution_count": null,
   "metadata": {},
   "outputs": [],
   "source": [
    "def compile_pwv(path, h5=None, resample='30 min'):\n",
    "    \"\"\"\n",
    "    Ingests all of the raw data into dataframes then compiles them into a merged\n",
    "    dataframe.\n",
    "\n",
    "    Parameters\n",
    "    ----------\n",
    "    h5 : str\n",
    "        Optional path to an h5 to write to\n",
    "    resample : str\n",
    "        The rate to resample the merged dataframe\n",
    "    smooth : list of str\n",
    "        List of columns to apply smoothing on\n",
    "    \"\"\"\n",
    "\n",
    "    logger.debug('Loading datasets from their raw files')\n",
    "    # Load in the data\n",
    "    df = load_pwv(path)\n",
    "\n",
    "    # Save individual frames\n",
    "    if h5 is not None:\n",
    "        df.to_hdf(h5, 'pwv')\n",
    "\n",
    "    # Sort the datetime index\n",
    "    df.sort_index(inplace=True)\n",
    "\n",
    "    logger.debug(f'Resampling to {resample}')\n",
    "    df = df.resample(resample).median()#.apply(minobs)\n",
    "\n",
    "    # Save merged\n",
    "    df.to_hdf(h5, 'pwv')\n",
    "\n",
    "    return df"
   ]
  },
  {
   "cell_type": "code",
   "execution_count": null,
   "metadata": {},
   "outputs": [],
   "source": [
    "df = compile_pwv('/Users/urebbapr/research/opticalcomm/data/v3/PVWwithWeather.txt', 'pwv.h5')"
   ]
  },
  {
   "cell_type": "code",
   "execution_count": null,
   "metadata": {},
   "outputs": [],
   "source": [
    "df.describe()"
   ]
  },
  {
   "cell_type": "code",
   "execution_count": null,
   "metadata": {},
   "outputs": [],
   "source": [
    "a = pd.read_hdf('pwv.h5')\n",
    "a.describe()"
   ]
  },
  {
   "cell_type": "code",
   "execution_count": null,
   "metadata": {},
   "outputs": [],
   "source": [
    "%matplotlib inline\n",
    "import matplotlib.pyplot as plt\n",
    "\n",
    "fig, ax = plt.subplots(7, 1, figsize=(30,35))\n",
    "for i, year in enumerate(range(2009, 2016)):\n",
    "    ax[i].set_title(year)\n",
    "    mask = (a.index >= '{}-01-01'.format(year)) & (a.index <= '{}-12-31'.format(year))\n",
    "    ax[i].plot(df.loc[mask].index, df.loc[mask].water_vapor, 'r.')"
   ]
  },
  {
   "cell_type": "code",
   "execution_count": null,
   "metadata": {},
   "outputs": [],
   "source": []
  }
 ],
 "metadata": {
  "kernelspec": {
   "display_name": "Python 3",
   "language": "python",
   "name": "python3"
  },
  "language_info": {
   "codemirror_mode": {
    "name": "ipython",
    "version": 3
   },
   "file_extension": ".py",
   "mimetype": "text/x-python",
   "name": "python",
   "nbconvert_exporter": "python",
   "pygments_lexer": "ipython3",
   "version": "3.8.5"
  }
 },
 "nbformat": 4,
 "nbformat_minor": 1
}
