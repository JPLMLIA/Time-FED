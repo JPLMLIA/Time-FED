{
 "cells": [
  {
   "cell_type": "code",
   "execution_count": null,
   "id": "d235076d-3119-4ee6-965c-acf5b0daae07",
   "metadata": {},
   "outputs": [],
   "source": [
    "%matplotlib inline\n",
    "\n",
    "import logging\n",
    "import matplotlib.pyplot as plt\n",
    "import pandas as pd\n",
    "import seaborn as sns\n",
    "import warnings\n",
    "import sys\n",
    "sns.set_context('talk')\n",
    "# sys.path.append('/Users/urebbapr/research/opticalcomm/MLOC/src')\n",
    "\n",
    "# from functools          import partial\n",
    "# from matplotlib.patches import Patch\n",
    "# from matplotlib.ticker  import FormatStrFormatter\n",
    "# from types              import SimpleNamespace as SN\n"
   ]
  },
  {
   "cell_type": "code",
   "execution_count": null,
   "id": "e683516d-486a-4d77-99a6-78ba51e25493",
   "metadata": {},
   "outputs": [],
   "source": [
    "# a = pd.HDFStore('pwv.h5')\n",
    "# a.keys()\n",
    "# a.close()\n",
    "df_scores = pd.read_hdf('pwv.h5', 'scores')"
   ]
  },
  {
   "cell_type": "code",
   "execution_count": null,
   "id": "cd3da0cc-0ab0-4c36-bc93-98e4c9b26315",
   "metadata": {},
   "outputs": [],
   "source": [
    "df_scores"
   ]
  },
  {
   "cell_type": "code",
   "execution_count": null,
   "id": "4ab06897-d0c3-4db9-94ee-585db50caa6b",
   "metadata": {},
   "outputs": [],
   "source": [
    "d = {30: [0.030, 0.052, 0.995],\n",
    "     60: [0.057, 0.096, 0.983],\n",
    "     90: [0.075, 0.124, 0.970],\n",
    "     120: [0.090, 0.148, 0.958],\n",
    "     150: [0.103, 0.170, 0.945],\n",
    "     180: [0.115, 0.189, 0.932]}\n",
    "d = {'RMSE': [0.030, 0.057, 0.075, 0.090, 0.103, 0.115],\n",
    "     'MAPE': [0.052, 0.096, 0.124, 0.148, 0.170, 0.189],\n",
    "     'R2': [0.995, 0.983, 0.970, 0.958, 0.945, 0.932]}\n",
    "df_scores_with_hist = pd.DataFrame(index=df_scores.index[1:], data=d, columns=['RMSE', 'MAPE', 'R2'])\n",
    "df_scores_with_hist"
   ]
  },
  {
   "cell_type": "code",
   "execution_count": null,
   "id": "1f626dcc-33a2-4b7e-9279-d5c5557cf6a5",
   "metadata": {},
   "outputs": [],
   "source": [
    "fig, ax = plt.subplots(1, 3, figsize=(25, 7))\n",
    "\n",
    "ax[0].plot(df_scores.index, df_scores.RMSE)\n",
    "ax[0].set_ylabel('RMSE')\n",
    "ax[0].set_xlabel('Forecast (mins)')\n",
    "ax[0].set_xticks(range(0, 210, 30))\n",
    "\n",
    "ax[1].plot(df_scores.index, df_scores.MAPE*100)\n",
    "ax[1].set_ylabel('MAPE')\n",
    "ax[1].set_xlabel('Forecast (mins)')\n",
    "ax[1].set_xticks(range(0, 210, 30))\n",
    "\n",
    "ax[2].plot(df_scores.index, df_scores.R2)\n",
    "ax[2].set_ylabel('R2')\n",
    "ax[2].set_xlabel('Forecast (mins)')\n",
    "ax[2].set_xticks(range(0, 210, 30))\n",
    "plt.savefig('PWV_metrics.png')"
   ]
  },
  {
   "cell_type": "markdown",
   "id": "879de306-d7f2-4c26-8db3-2256a4b2a6d5",
   "metadata": {},
   "source": [
    "# Now include with historical"
   ]
  },
  {
   "cell_type": "code",
   "execution_count": null,
   "id": "b8307ebd-a54f-4d2a-b279-2f97854928c4",
   "metadata": {},
   "outputs": [],
   "source": [
    "fig, ax = plt.subplots(1, 3, figsize=(25, 7))\n",
    "\n",
    "ax[0].plot(df_scores.index, df_scores.RMSE, label='wo historical WV')\n",
    "ax[0].plot(df_scores_with_hist.index, df_scores_with_hist.RMSE, label='w/ historical WV')\n",
    "ax[0].set_ylabel('RMSE')\n",
    "ax[0].set_xlabel('Forecast (mins)')\n",
    "ax[0].set_xticks(range(0, 210, 30))\n",
    "ax[0].legend()\n",
    "\n",
    "ax[1].plot(df_scores.index, df_scores.MAPE*100, label='wo historical WV')\n",
    "ax[1].plot(df_scores_with_hist.index, df_scores_with_hist.MAPE*100, label='w/ historical WV')\n",
    "\n",
    "ax[1].set_ylabel('MAPE')\n",
    "ax[1].set_xlabel('Forecast (mins)')\n",
    "ax[1].set_xticks(range(0, 210, 30))\n",
    "\n",
    "ax[2].plot(df_scores.index, df_scores.R2, label='wo historical WV')\n",
    "ax[2].plot(df_scores_with_hist.index, df_scores_with_hist.R2, label='w/ historical WV')\n",
    "ax[2].set_ylabel('R2')\n",
    "ax[2].set_xlabel('Forecast (mins)')\n",
    "ax[2].set_xticks(range(0, 210, 30))\n",
    "plt.savefig('PWV_metrics_with_hist.png')"
   ]
  },
  {
   "cell_type": "code",
   "execution_count": null,
   "id": "8e426a86-7d7a-49f6-b13d-53d9403ba0be",
   "metadata": {},
   "outputs": [],
   "source": []
  }
 ],
 "metadata": {
  "kernelspec": {
   "display_name": "Python 3",
   "language": "python",
   "name": "python3"
  },
  "language_info": {
   "codemirror_mode": {
    "name": "ipython",
    "version": 3
   },
   "file_extension": ".py",
   "mimetype": "text/x-python",
   "name": "python",
   "nbconvert_exporter": "python",
   "pygments_lexer": "ipython3",
   "version": "3.7.4"
  }
 },
 "nbformat": 4,
 "nbformat_minor": 5
}
