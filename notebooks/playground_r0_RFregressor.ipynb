{
 "cells": [
  {
   "cell_type": "markdown",
   "metadata": {
    "pycharm": {
     "name": "#%% md\n"
    }
   },
   "source": [
    "### import statements"
   ]
  },
  {
   "cell_type": "code",
   "execution_count": 1,
   "metadata": {},
   "outputs": [],
   "source": [
    "%matplotlib inline\n",
    "import sys\n",
    "import os\n",
    "import pandas as pd\n",
    "sys.path.append('../src')\n",
    "import datetime\n",
    "import matplotlib.pyplot as plt\n",
    "import numpy as np\n",
    "import sklearn"
   ]
  },
  {
   "cell_type": "code",
   "execution_count": 2,
   "metadata": {},
   "outputs": [],
   "source": [
    "from sklearn.ensemble import RandomForestRegressor\n",
    "from sklearn.metrics import r2_score, mean_squared_error, mean_absolute_percentage_error\n",
    "from scipy.stats import gaussian_kde\n",
    "import seaborn as sns\n",
    "import scipy.stats as stats\n",
    "from mpl_toolkits.axes_grid1 import make_axes_locatable\n",
    "from plot_utils import *"
   ]
  },
  {
   "cell_type": "markdown",
   "metadata": {
    "pycharm": {
     "name": "#%% md\n"
    }
   },
   "source": [
    "### constants"
   ]
  },
  {
   "cell_type": "code",
   "execution_count": 3,
   "metadata": {},
   "outputs": [],
   "source": [
    "F_INPUT = '../../data/v2/data.h5'"
   ]
  },
  {
   "cell_type": "markdown",
   "metadata": {
    "pycharm": {
     "name": "#%% md\n"
    }
   },
   "source": [
    "### read data"
   ]
  },
  {
   "cell_type": "code",
   "execution_count": 4,
   "metadata": {
    "pycharm": {
     "name": "#%%\n"
    }
   },
   "outputs": [],
   "source": [
    "df = pd.read_hdf(F_INPUT, 'merged')"
   ]
  },
  {
   "cell_type": "markdown",
   "metadata": {
    "pycharm": {
     "name": "#%% md\n"
    }
   },
   "source": [
    "### add new features"
   ]
  },
  {
   "cell_type": "code",
   "execution_count": 5,
   "metadata": {},
   "outputs": [],
   "source": [
    "df['day'] = df.index.dayofyear\n",
    "df['logCn2'] = np.log10(df['Cn2'])"
   ]
  },
  {
   "cell_type": "code",
   "execution_count": 6,
   "metadata": {},
   "outputs": [],
   "source": [
    "df['r0_2T'] = df['r0'].rolling('2T').mean()\n",
    "df['r0_day_2T'] = df['r0_day'].rolling('2T').mean()\n",
    "df['r0_night_2T'] = df['r0_night'].rolling('2T').mean()"
   ]
  },
  {
   "cell_type": "code",
   "execution_count": 7,
   "metadata": {},
   "outputs": [],
   "source": [
    "df['r0_3T'] = df['r0'].rolling('3T').mean()\n",
    "df['r0_day_3T'] = df['r0_day'].rolling('3T').mean()\n",
    "df['r0_night_3T'] = df['r0_night'].rolling('3T').mean()"
   ]
  },
  {
   "cell_type": "code",
   "execution_count": 8,
   "metadata": {},
   "outputs": [],
   "source": [
    "df['r0_5T'] = df['r0'].rolling('5T').mean()\n",
    "df['r0_day_5T'] = df['r0_day'].rolling('5T').mean()\n",
    "df['r0_night_5T'] = df['r0_night'].rolling('5T').mean()"
   ]
  },
  {
   "cell_type": "code",
   "execution_count": 70,
   "metadata": {},
   "outputs": [],
   "source": [
    "df['r0_10T'] = df['r0'].rolling('10T').mean()\n",
    "df['r0_day_10T'] = df['r0_day'].rolling('10T').mean()\n",
    "df['r0_night_10T'] = df['r0_night'].rolling('10T').mean()"
   ]
  },
  {
   "cell_type": "code",
   "execution_count": 72,
   "metadata": {
    "pycharm": {
     "name": "#%%\n"
    }
   },
   "outputs": [],
   "source": [
    "feats = ['pressure', 'relative_humidity', 'temperature', 'wind_speed', 'logCn2', 'solar_zenith_angle','day']\n",
    "label_day = 'r0_day'\n",
    "label = 'r0'\n",
    "label_night = 'r0_night'\n",
    "feats_plus_r0 = feats + ['r0']\n",
    "feats_plus_r0day = feats + ['r0_day']\n",
    "feats_plus_r0night = feats + ['r0_night']"
   ]
  },
  {
   "cell_type": "code",
   "execution_count": 73,
   "metadata": {},
   "outputs": [],
   "source": [
    "xmin, ymin = 0, 0\n",
    "xmax, ymax = 20, 20"
   ]
  },
  {
   "cell_type": "markdown",
   "metadata": {
    "pycharm": {
     "name": "#%% md\n"
    }
   },
   "source": [
    "### restricting data to usable, relatively dense subset"
   ]
  },
  {
   "cell_type": "code",
   "execution_count": 74,
   "metadata": {
    "pycharm": {
     "name": "#%%\n"
    }
   },
   "outputs": [],
   "source": [
    "df_subset = df[(df.index > '2018-05-03') & (df.index < '2020-12-30')]"
   ]
  },
  {
   "cell_type": "code",
   "execution_count": 75,
   "metadata": {},
   "outputs": [
    {
     "data": {
      "text/html": [
       "<div>\n",
       "<style scoped>\n",
       "    .dataframe tbody tr th:only-of-type {\n",
       "        vertical-align: middle;\n",
       "    }\n",
       "\n",
       "    .dataframe tbody tr th {\n",
       "        vertical-align: top;\n",
       "    }\n",
       "\n",
       "    .dataframe thead th {\n",
       "        text-align: right;\n",
       "    }\n",
       "</style>\n",
       "<table border=\"1\" class=\"dataframe\">\n",
       "  <thead>\n",
       "    <tr style=\"text-align: right;\">\n",
       "      <th></th>\n",
       "      <th>o(I)_I</th>\n",
       "      <th>r0</th>\n",
       "      <th>solar_zenith_angle</th>\n",
       "      <th>r0_day</th>\n",
       "      <th>r0_night</th>\n",
       "      <th>pressure</th>\n",
       "      <th>relative_humidity</th>\n",
       "      <th>temperature</th>\n",
       "      <th>wind_direction</th>\n",
       "      <th>wind_speed</th>\n",
       "      <th>...</th>\n",
       "      <th>r0_night_2T</th>\n",
       "      <th>r0_3T</th>\n",
       "      <th>r0_day_3T</th>\n",
       "      <th>r0_night_3T</th>\n",
       "      <th>r0_5T</th>\n",
       "      <th>r0_day_5T</th>\n",
       "      <th>r0_night_5T</th>\n",
       "      <th>r0_10T</th>\n",
       "      <th>r0_day_10T</th>\n",
       "      <th>r0_night_10T</th>\n",
       "    </tr>\n",
       "  </thead>\n",
       "  <tbody>\n",
       "    <tr>\n",
       "      <th>count</th>\n",
       "      <td>273728.000000</td>\n",
       "      <td>413091.000000</td>\n",
       "      <td>413091.000000</td>\n",
       "      <td>273728.000000</td>\n",
       "      <td>139363.000000</td>\n",
       "      <td>1.252046e+06</td>\n",
       "      <td>1.164787e+06</td>\n",
       "      <td>1.164792e+06</td>\n",
       "      <td>1.280385e+06</td>\n",
       "      <td>1.280461e+06</td>\n",
       "      <td>...</td>\n",
       "      <td>228135.000000</td>\n",
       "      <td>537455.000000</td>\n",
       "      <td>295598.000000</td>\n",
       "      <td>241857.000000</td>\n",
       "      <td>563929.000000</td>\n",
       "      <td>309085.000000</td>\n",
       "      <td>254844.000000</td>\n",
       "      <td>598586.000000</td>\n",
       "      <td>331070.000000</td>\n",
       "      <td>267516.000000</td>\n",
       "    </tr>\n",
       "    <tr>\n",
       "      <th>mean</th>\n",
       "      <td>0.001382</td>\n",
       "      <td>4.871890</td>\n",
       "      <td>74.698190</td>\n",
       "      <td>3.607425</td>\n",
       "      <td>7.355473</td>\n",
       "      <td>7.744021e+02</td>\n",
       "      <td>3.532743e+01</td>\n",
       "      <td>1.104439e+01</td>\n",
       "      <td>1.747172e+02</td>\n",
       "      <td>2.327763e+00</td>\n",
       "      <td>...</td>\n",
       "      <td>7.357703</td>\n",
       "      <td>5.298633</td>\n",
       "      <td>3.614953</td>\n",
       "      <td>7.356429</td>\n",
       "      <td>5.306280</td>\n",
       "      <td>3.620901</td>\n",
       "      <td>7.350375</td>\n",
       "      <td>5.288679</td>\n",
       "      <td>3.633298</td>\n",
       "      <td>7.337330</td>\n",
       "    </tr>\n",
       "    <tr>\n",
       "      <th>std</th>\n",
       "      <td>0.000448</td>\n",
       "      <td>2.995811</td>\n",
       "      <td>43.192050</td>\n",
       "      <td>2.357307</td>\n",
       "      <td>2.525811</td>\n",
       "      <td>4.687234e+00</td>\n",
       "      <td>2.406511e+01</td>\n",
       "      <td>7.993629e+00</td>\n",
       "      <td>6.763609e+01</td>\n",
       "      <td>1.770945e+00</td>\n",
       "      <td>...</td>\n",
       "      <td>2.516584</td>\n",
       "      <td>3.117358</td>\n",
       "      <td>2.500932</td>\n",
       "      <td>2.500309</td>\n",
       "      <td>3.135924</td>\n",
       "      <td>2.567808</td>\n",
       "      <td>2.478042</td>\n",
       "      <td>3.153837</td>\n",
       "      <td>2.647643</td>\n",
       "      <td>2.448015</td>\n",
       "    </tr>\n",
       "    <tr>\n",
       "      <th>min</th>\n",
       "      <td>0.000102</td>\n",
       "      <td>0.821452</td>\n",
       "      <td>10.943276</td>\n",
       "      <td>0.821452</td>\n",
       "      <td>2.367400</td>\n",
       "      <td>7.516000e+02</td>\n",
       "      <td>1.000000e+00</td>\n",
       "      <td>-1.300000e+01</td>\n",
       "      <td>2.050000e+00</td>\n",
       "      <td>3.500000e-02</td>\n",
       "      <td>...</td>\n",
       "      <td>2.367400</td>\n",
       "      <td>0.821452</td>\n",
       "      <td>0.821452</td>\n",
       "      <td>2.367400</td>\n",
       "      <td>0.821452</td>\n",
       "      <td>0.821452</td>\n",
       "      <td>2.367400</td>\n",
       "      <td>0.821452</td>\n",
       "      <td>0.821452</td>\n",
       "      <td>2.367400</td>\n",
       "    </tr>\n",
       "    <tr>\n",
       "      <th>25%</th>\n",
       "      <td>0.001066</td>\n",
       "      <td>2.599046</td>\n",
       "      <td>42.089154</td>\n",
       "      <td>2.273231</td>\n",
       "      <td>5.509100</td>\n",
       "      <td>7.718000e+02</td>\n",
       "      <td>1.900000e+01</td>\n",
       "      <td>5.200000e+00</td>\n",
       "      <td>1.163684e+02</td>\n",
       "      <td>1.163158e+00</td>\n",
       "      <td>...</td>\n",
       "      <td>5.526900</td>\n",
       "      <td>2.796983</td>\n",
       "      <td>2.297053</td>\n",
       "      <td>5.535800</td>\n",
       "      <td>2.794650</td>\n",
       "      <td>2.301819</td>\n",
       "      <td>5.544700</td>\n",
       "      <td>2.774620</td>\n",
       "      <td>2.302938</td>\n",
       "      <td>5.557414</td>\n",
       "    </tr>\n",
       "    <tr>\n",
       "      <th>50%</th>\n",
       "      <td>0.001360</td>\n",
       "      <td>3.969400</td>\n",
       "      <td>58.682654</td>\n",
       "      <td>2.966270</td>\n",
       "      <td>7.066600</td>\n",
       "      <td>7.751000e+02</td>\n",
       "      <td>2.900000e+01</td>\n",
       "      <td>1.110000e+01</td>\n",
       "      <td>1.835500e+02</td>\n",
       "      <td>1.826316e+00</td>\n",
       "      <td>...</td>\n",
       "      <td>7.075500</td>\n",
       "      <td>4.610200</td>\n",
       "      <td>2.952146</td>\n",
       "      <td>7.079950</td>\n",
       "      <td>4.622270</td>\n",
       "      <td>2.943144</td>\n",
       "      <td>7.084400</td>\n",
       "      <td>4.590917</td>\n",
       "      <td>2.927821</td>\n",
       "      <td>7.087367</td>\n",
       "    </tr>\n",
       "    <tr>\n",
       "      <th>75%</th>\n",
       "      <td>0.001653</td>\n",
       "      <td>6.553345</td>\n",
       "      <td>118.005308</td>\n",
       "      <td>4.196203</td>\n",
       "      <td>8.926700</td>\n",
       "      <td>7.779000e+02</td>\n",
       "      <td>4.500000e+01</td>\n",
       "      <td>1.750000e+01</td>\n",
       "      <td>2.090526e+02</td>\n",
       "      <td>2.880000e+00</td>\n",
       "      <td>...</td>\n",
       "      <td>8.917800</td>\n",
       "      <td>7.195650</td>\n",
       "      <td>4.118894</td>\n",
       "      <td>8.917800</td>\n",
       "      <td>7.217900</td>\n",
       "      <td>4.093722</td>\n",
       "      <td>8.905933</td>\n",
       "      <td>7.212560</td>\n",
       "      <td>4.079838</td>\n",
       "      <td>8.889617</td>\n",
       "    </tr>\n",
       "    <tr>\n",
       "      <th>max</th>\n",
       "      <td>0.003500</td>\n",
       "      <td>86.039498</td>\n",
       "      <td>169.053912</td>\n",
       "      <td>86.039498</td>\n",
       "      <td>24.857700</td>\n",
       "      <td>7.838000e+02</td>\n",
       "      <td>1.100000e+02</td>\n",
       "      <td>3.180000e+01</td>\n",
       "      <td>3.600000e+02</td>\n",
       "      <td>3.196667e+01</td>\n",
       "      <td>...</td>\n",
       "      <td>24.857700</td>\n",
       "      <td>86.039498</td>\n",
       "      <td>86.039498</td>\n",
       "      <td>24.857700</td>\n",
       "      <td>86.039498</td>\n",
       "      <td>86.039498</td>\n",
       "      <td>24.857700</td>\n",
       "      <td>86.039498</td>\n",
       "      <td>86.039498</td>\n",
       "      <td>22.076450</td>\n",
       "    </tr>\n",
       "  </tbody>\n",
       "</table>\n",
       "<p>8 rows × 25 columns</p>\n",
       "</div>"
      ],
      "text/plain": [
       "              o(I)_I             r0  solar_zenith_angle         r0_day  \\\n",
       "count  273728.000000  413091.000000       413091.000000  273728.000000   \n",
       "mean        0.001382       4.871890           74.698190       3.607425   \n",
       "std         0.000448       2.995811           43.192050       2.357307   \n",
       "min         0.000102       0.821452           10.943276       0.821452   \n",
       "25%         0.001066       2.599046           42.089154       2.273231   \n",
       "50%         0.001360       3.969400           58.682654       2.966270   \n",
       "75%         0.001653       6.553345          118.005308       4.196203   \n",
       "max         0.003500      86.039498          169.053912      86.039498   \n",
       "\n",
       "            r0_night      pressure  relative_humidity   temperature  \\\n",
       "count  139363.000000  1.252046e+06       1.164787e+06  1.164792e+06   \n",
       "mean        7.355473  7.744021e+02       3.532743e+01  1.104439e+01   \n",
       "std         2.525811  4.687234e+00       2.406511e+01  7.993629e+00   \n",
       "min         2.367400  7.516000e+02       1.000000e+00 -1.300000e+01   \n",
       "25%         5.509100  7.718000e+02       1.900000e+01  5.200000e+00   \n",
       "50%         7.066600  7.751000e+02       2.900000e+01  1.110000e+01   \n",
       "75%         8.926700  7.779000e+02       4.500000e+01  1.750000e+01   \n",
       "max        24.857700  7.838000e+02       1.100000e+02  3.180000e+01   \n",
       "\n",
       "       wind_direction    wind_speed  ...    r0_night_2T          r0_3T  \\\n",
       "count    1.280385e+06  1.280461e+06  ...  228135.000000  537455.000000   \n",
       "mean     1.747172e+02  2.327763e+00  ...       7.357703       5.298633   \n",
       "std      6.763609e+01  1.770945e+00  ...       2.516584       3.117358   \n",
       "min      2.050000e+00  3.500000e-02  ...       2.367400       0.821452   \n",
       "25%      1.163684e+02  1.163158e+00  ...       5.526900       2.796983   \n",
       "50%      1.835500e+02  1.826316e+00  ...       7.075500       4.610200   \n",
       "75%      2.090526e+02  2.880000e+00  ...       8.917800       7.195650   \n",
       "max      3.600000e+02  3.196667e+01  ...      24.857700      86.039498   \n",
       "\n",
       "           r0_day_3T    r0_night_3T          r0_5T      r0_day_5T  \\\n",
       "count  295598.000000  241857.000000  563929.000000  309085.000000   \n",
       "mean        3.614953       7.356429       5.306280       3.620901   \n",
       "std         2.500932       2.500309       3.135924       2.567808   \n",
       "min         0.821452       2.367400       0.821452       0.821452   \n",
       "25%         2.297053       5.535800       2.794650       2.301819   \n",
       "50%         2.952146       7.079950       4.622270       2.943144   \n",
       "75%         4.118894       8.917800       7.217900       4.093722   \n",
       "max        86.039498      24.857700      86.039498      86.039498   \n",
       "\n",
       "         r0_night_5T         r0_10T     r0_day_10T   r0_night_10T  \n",
       "count  254844.000000  598586.000000  331070.000000  267516.000000  \n",
       "mean        7.350375       5.288679       3.633298       7.337330  \n",
       "std         2.478042       3.153837       2.647643       2.448015  \n",
       "min         2.367400       0.821452       0.821452       2.367400  \n",
       "25%         5.544700       2.774620       2.302938       5.557414  \n",
       "50%         7.084400       4.590917       2.927821       7.087367  \n",
       "75%         8.905933       7.212560       4.079838       8.889617  \n",
       "max        24.857700      86.039498      86.039498      22.076450  \n",
       "\n",
       "[8 rows x 25 columns]"
      ]
     },
     "execution_count": 75,
     "metadata": {},
     "output_type": "execute_result"
    }
   ],
   "source": [
    "df_subset.describe()"
   ]
  },
  {
   "cell_type": "markdown",
   "metadata": {
    "pycharm": {
     "name": "#%% md\n"
    }
   },
   "source": [
    "### finding non-nan values"
   ]
  },
  {
   "cell_type": "code",
   "execution_count": 77,
   "metadata": {},
   "outputs": [],
   "source": [
    "valid = ~df_subset[feats_plus_r0].isnull().any(axis=1)"
   ]
  },
  {
   "cell_type": "code",
   "execution_count": 78,
   "metadata": {},
   "outputs": [
    {
     "data": {
      "text/plain": [
       "pressure              350540\n",
       "relative_humidity     350540\n",
       "temperature           350540\n",
       "wind_speed            350540\n",
       "logCn2                350540\n",
       "solar_zenith_angle    350540\n",
       "day                   350540\n",
       "r0                    350540\n",
       "dtype: int64"
      ]
     },
     "execution_count": 78,
     "metadata": {},
     "output_type": "execute_result"
    }
   ],
   "source": [
    "df_subset.loc[valid, feats_plus_r0].count()"
   ]
  },
  {
   "cell_type": "code",
   "execution_count": 79,
   "metadata": {
    "pycharm": {
     "name": "#%%\n"
    }
   },
   "outputs": [],
   "source": [
    "valid_day = ~df_subset[feats_plus_r0day].isnull().any(axis=1)"
   ]
  },
  {
   "cell_type": "code",
   "execution_count": 80,
   "metadata": {},
   "outputs": [
    {
     "data": {
      "text/plain": [
       "pressure              227118\n",
       "relative_humidity     227118\n",
       "temperature           227118\n",
       "wind_speed            227118\n",
       "logCn2                227118\n",
       "solar_zenith_angle    227118\n",
       "day                   227118\n",
       "r0_day                227118\n",
       "dtype: int64"
      ]
     },
     "execution_count": 80,
     "metadata": {},
     "output_type": "execute_result"
    }
   ],
   "source": [
    "df_subset.loc[valid_day, feats_plus_r0day].count()"
   ]
  },
  {
   "cell_type": "code",
   "execution_count": 81,
   "metadata": {},
   "outputs": [],
   "source": [
    "valid_night = ~df_subset[feats_plus_r0night].isnull().any(axis=1)"
   ]
  },
  {
   "cell_type": "code",
   "execution_count": 82,
   "metadata": {},
   "outputs": [
    {
     "data": {
      "text/plain": [
       "pressure              123422\n",
       "relative_humidity     123422\n",
       "temperature           123422\n",
       "wind_speed            123422\n",
       "logCn2                123422\n",
       "solar_zenith_angle    123422\n",
       "day                   123422\n",
       "r0_night              123422\n",
       "dtype: int64"
      ]
     },
     "execution_count": 82,
     "metadata": {},
     "output_type": "execute_result"
    }
   ],
   "source": [
    "df_subset.loc[valid_night,feats_plus_r0night].count()"
   ]
  },
  {
   "cell_type": "code",
   "execution_count": 87,
   "metadata": {},
   "outputs": [
    {
     "data": {
      "text/plain": [
       "pressure              123422\n",
       "relative_humidity     123422\n",
       "temperature           123422\n",
       "wind_speed            123422\n",
       "logCn2                123422\n",
       "solar_zenith_angle    123422\n",
       "day                   123422\n",
       "r0_night_10T          123422\n",
       "dtype: int64"
      ]
     },
     "execution_count": 87,
     "metadata": {},
     "output_type": "execute_result"
    }
   ],
   "source": [
    "df_subset.loc[valid_night,feats + ['r0_night_10T']].count()"
   ]
  },
  {
   "cell_type": "code",
   "execution_count": 88,
   "metadata": {},
   "outputs": [
    {
     "data": {
      "text/plain": [
       "pressure              227118\n",
       "relative_humidity     227118\n",
       "temperature           227118\n",
       "wind_speed            227118\n",
       "logCn2                227118\n",
       "solar_zenith_angle    227118\n",
       "day                   227118\n",
       "r0_day_10T            227118\n",
       "dtype: int64"
      ]
     },
     "execution_count": 88,
     "metadata": {},
     "output_type": "execute_result"
    }
   ],
   "source": [
    "df_subset.loc[valid_day,feats + ['r0_day_10T']].count()"
   ]
  },
  {
   "cell_type": "code",
   "execution_count": 89,
   "metadata": {},
   "outputs": [
    {
     "data": {
      "text/plain": [
       "pressure              350540\n",
       "relative_humidity     350540\n",
       "temperature           350540\n",
       "wind_speed            350540\n",
       "logCn2                350540\n",
       "solar_zenith_angle    350540\n",
       "day                   350540\n",
       "r0_10T                350540\n",
       "dtype: int64"
      ]
     },
     "execution_count": 89,
     "metadata": {},
     "output_type": "execute_result"
    }
   ],
   "source": [
    "df_subset.loc[valid,feats + ['r0_10T']].count()"
   ]
  },
  {
   "cell_type": "markdown",
   "metadata": {
    "pycharm": {
     "name": "#%% md\n"
    }
   },
   "source": [
    "### splitting into train and test"
   ]
  },
  {
   "cell_type": "code",
   "execution_count": 90,
   "metadata": {
    "pycharm": {
     "name": "#%%\n"
    }
   },
   "outputs": [],
   "source": [
    "split_date = '2019-12-31'\n",
    "train = df_subset.index <= split_date\n",
    "test  = df_subset.index > split_date"
   ]
  },
  {
   "cell_type": "code",
   "execution_count": 91,
   "metadata": {},
   "outputs": [],
   "source": [
    "test_truth_night = df_subset.loc[test&valid_night,label_night]\n",
    "test_truth_day = df_subset.loc[test&valid_day,label_day]\n",
    "test_truth_all = df_subset.loc[test&valid,label]"
   ]
  },
  {
   "cell_type": "code",
   "execution_count": 92,
   "metadata": {},
   "outputs": [
    {
     "data": {
      "text/plain": [
       "pressure              251681\n",
       "relative_humidity     251681\n",
       "temperature           251681\n",
       "wind_speed            251681\n",
       "logCn2                251681\n",
       "solar_zenith_angle    251681\n",
       "day                   251681\n",
       "r0                    251681\n",
       "dtype: int64"
      ]
     },
     "execution_count": 92,
     "metadata": {},
     "output_type": "execute_result"
    }
   ],
   "source": [
    "df_subset.loc[train&valid,feats_plus_r0].count()"
   ]
  },
  {
   "cell_type": "code",
   "execution_count": 93,
   "metadata": {},
   "outputs": [
    {
     "data": {
      "text/plain": [
       "pressure              98859\n",
       "relative_humidity     98859\n",
       "temperature           98859\n",
       "wind_speed            98859\n",
       "logCn2                98859\n",
       "solar_zenith_angle    98859\n",
       "day                   98859\n",
       "r0                    98859\n",
       "dtype: int64"
      ]
     },
     "execution_count": 93,
     "metadata": {},
     "output_type": "execute_result"
    }
   ],
   "source": [
    "df_subset.loc[test&valid,feats_plus_r0].count()"
   ]
  },
  {
   "cell_type": "code",
   "execution_count": 94,
   "metadata": {},
   "outputs": [
    {
     "data": {
      "text/plain": [
       "pressure              174044\n",
       "relative_humidity     174044\n",
       "temperature           174044\n",
       "wind_speed            174044\n",
       "logCn2                174044\n",
       "solar_zenith_angle    174044\n",
       "day                   174044\n",
       "r0_day                174044\n",
       "dtype: int64"
      ]
     },
     "execution_count": 94,
     "metadata": {},
     "output_type": "execute_result"
    }
   ],
   "source": [
    "df_subset.loc[train&valid_day,feats_plus_r0day].count()"
   ]
  },
  {
   "cell_type": "code",
   "execution_count": 95,
   "metadata": {},
   "outputs": [
    {
     "data": {
      "text/plain": [
       "pressure              53074\n",
       "relative_humidity     53074\n",
       "temperature           53074\n",
       "wind_speed            53074\n",
       "logCn2                53074\n",
       "solar_zenith_angle    53074\n",
       "day                   53074\n",
       "r0_day                53074\n",
       "dtype: int64"
      ]
     },
     "execution_count": 95,
     "metadata": {},
     "output_type": "execute_result"
    }
   ],
   "source": [
    "df_subset.loc[test&valid_day,feats_plus_r0day].count()"
   ]
  },
  {
   "cell_type": "code",
   "execution_count": 96,
   "metadata": {},
   "outputs": [
    {
     "data": {
      "text/plain": [
       "pressure              77637\n",
       "relative_humidity     77637\n",
       "temperature           77637\n",
       "wind_speed            77637\n",
       "logCn2                77637\n",
       "solar_zenith_angle    77637\n",
       "day                   77637\n",
       "r0_night              77637\n",
       "dtype: int64"
      ]
     },
     "execution_count": 96,
     "metadata": {},
     "output_type": "execute_result"
    }
   ],
   "source": [
    "df_subset.loc[train&valid_night,feats_plus_r0night].count()"
   ]
  },
  {
   "cell_type": "code",
   "execution_count": 97,
   "metadata": {},
   "outputs": [
    {
     "data": {
      "text/plain": [
       "pressure              45785\n",
       "relative_humidity     45785\n",
       "temperature           45785\n",
       "wind_speed            45785\n",
       "logCn2                45785\n",
       "solar_zenith_angle    45785\n",
       "day                   45785\n",
       "r0_night              45785\n",
       "dtype: int64"
      ]
     },
     "execution_count": 97,
     "metadata": {},
     "output_type": "execute_result"
    }
   ],
   "source": [
    "df_subset.loc[test&valid_night,feats_plus_r0night].count()"
   ]
  },
  {
   "cell_type": "markdown",
   "metadata": {},
   "source": [
    "### initializing the RF regressor"
   ]
  },
  {
   "cell_type": "code",
   "execution_count": 26,
   "metadata": {
    "pycharm": {
     "name": "#%%\n"
    }
   },
   "outputs": [],
   "source": [
    "regr = RandomForestRegressor(n_estimators=100, random_state=0)"
   ]
  },
  {
   "cell_type": "markdown",
   "metadata": {
    "pycharm": {
     "name": "#%% md\n"
    }
   },
   "source": [
    "### train and test subroutine"
   ]
  },
  {
   "cell_type": "code",
   "execution_count": 41,
   "metadata": {
    "pycharm": {
     "name": "#%%\n"
    }
   },
   "outputs": [],
   "source": [
    "def train_and_test(train_df, test_df, feats, label):\n",
    "    regr.fit(train_df[feats], train_df[label])\n",
    "#     r2 = regr.score(test_df[feats], test_df[label])\n",
    "    preds = regr.predict(test_df[feats])\n",
    "    r2 = r2_score(test_df[label], preds)\n",
    "    sq_err = mean_squared_error(test_df[label], preds)\n",
    "    perc_err = mean_absolute_percentage_error(test_df[label], preds)\n",
    "    return {'preds': preds, 'r2': r2, 'sq_err': sq_err, 'perc_err': perc_err}"
   ]
  },
  {
   "cell_type": "markdown",
   "metadata": {},
   "source": [
    "### Get All Results"
   ]
  },
  {
   "cell_type": "code",
   "execution_count": 54,
   "metadata": {
    "pycharm": {
     "name": "#%%\n"
    }
   },
   "outputs": [],
   "source": [
    "results_all_1T = train_and_test(df_subset.loc[train & valid], df_subset.loc[test & valid], feats, label)"
   ]
  },
  {
   "cell_type": "code",
   "execution_count": null,
   "metadata": {},
   "outputs": [],
   "source": [
    "# scatter_with_errors(test_truth, test_preds_day, test_perc_err_day, xmin, xmax, ymin, ymax)\n",
    "# plot_importance(regr, df_subset.loc[train&valid_day,feats], feats)"
   ]
  },
  {
   "cell_type": "code",
   "execution_count": 59,
   "metadata": {
    "pycharm": {
     "name": "#%%\n"
    }
   },
   "outputs": [],
   "source": [
    "results_day_1T = train_and_test(df_subset.loc[train & valid_day], df_subset.loc[test & valid_day], feats, label_day)"
   ]
  },
  {
   "cell_type": "code",
   "execution_count": null,
   "metadata": {},
   "outputs": [],
   "source": [
    "# scatter_with_errors(test_truth_day, test_preds_day, test_perc_err_day, xmin, xmax, ymin, ymax)\n",
    "# plot_importance(regr, df_subset.loc[train&valid_day,feats], feats)"
   ]
  },
  {
   "cell_type": "code",
   "execution_count": 60,
   "metadata": {},
   "outputs": [],
   "source": [
    "results_night_1T = train_and_test(df_subset.loc[train & valid_night], df_subset.loc[test & valid_night], feats, label_night)"
   ]
  },
  {
   "cell_type": "code",
   "execution_count": 47,
   "metadata": {},
   "outputs": [],
   "source": [
    "results_all_2T = train_and_test(df_subset.loc[train & valid], df_subset.loc[test & valid], feats, 'r0_2T')"
   ]
  },
  {
   "cell_type": "code",
   "execution_count": 48,
   "metadata": {},
   "outputs": [],
   "source": [
    "results_day_2T = train_and_test(df_subset.loc[train & valid_day], df_subset.loc[test & valid_day], feats, 'r0_day_2T')"
   ]
  },
  {
   "cell_type": "code",
   "execution_count": 49,
   "metadata": {},
   "outputs": [],
   "source": [
    "results_night_2T = train_and_test(df_subset.loc[train & valid_night], df_subset.loc[test & valid_night], feats, 'r0_night_2T')"
   ]
  },
  {
   "cell_type": "code",
   "execution_count": 50,
   "metadata": {},
   "outputs": [],
   "source": [
    "results_all_5T = train_and_test(df_subset.loc[train & valid], df_subset.loc[test & valid], feats, 'r0_5T')"
   ]
  },
  {
   "cell_type": "code",
   "execution_count": 51,
   "metadata": {},
   "outputs": [],
   "source": [
    "results_day_5T = train_and_test(df_subset.loc[train & valid_day], df_subset.loc[test & valid_day], feats, 'r0_day_5T')"
   ]
  },
  {
   "cell_type": "code",
   "execution_count": 52,
   "metadata": {},
   "outputs": [],
   "source": [
    "results_night_5T = train_and_test(df_subset.loc[train & valid_night], df_subset.loc[test & valid_night], feats, 'r0_night_5T')"
   ]
  },
  {
   "cell_type": "code",
   "execution_count": 98,
   "metadata": {},
   "outputs": [],
   "source": [
    "results_all_10T = train_and_test(df_subset.loc[train & valid], df_subset.loc[test & valid], feats, 'r0_10T')"
   ]
  },
  {
   "cell_type": "code",
   "execution_count": 99,
   "metadata": {},
   "outputs": [],
   "source": [
    "results_day_10T = train_and_test(df_subset.loc[train & valid_day], df_subset.loc[test & valid_day], feats, 'r0_day_10T')"
   ]
  },
  {
   "cell_type": "code",
   "execution_count": 100,
   "metadata": {},
   "outputs": [],
   "source": [
    "results_night_10T = train_and_test(df_subset.loc[train & valid_night], df_subset.loc[test & valid_night], feats, 'r0_night_10T')"
   ]
  },
  {
   "cell_type": "markdown",
   "metadata": {},
   "source": [
    "### Compare all Results"
   ]
  },
  {
   "cell_type": "code",
   "execution_count": 101,
   "metadata": {},
   "outputs": [
    {
     "name": "stdout",
     "output_type": "stream",
     "text": [
      "0.34246,6.1893,0.30759\n",
      "0.34541,5.9972,0.29592\n",
      "0.35381,5.6623,0.28418\n",
      "0.36844,5.3812,0.27501\n"
     ]
    }
   ],
   "source": [
    "for r in [ results_all_1T, results_all_2T, results_all_5T, results_all_10T ]:\n",
    "    print(f\"{r['r2']:.5},{r['sq_err']:.5},{r['perc_err']:.5}\")"
   ]
  },
  {
   "cell_type": "code",
   "execution_count": 102,
   "metadata": {},
   "outputs": [
    {
     "name": "stdout",
     "output_type": "stream",
     "text": [
      "0.17369,6.9019,0.32359\n",
      "0.16998,6.6112,0.30191\n",
      "0.13605,6.5074,0.28984\n",
      "0.17363,6.0437,0.27704\n"
     ]
    }
   ],
   "source": [
    "for r in [ results_day_1T, results_day_2T, results_day_5T, results_day_10T ]:\n",
    "    print(f\"{r['r2']:.5},{r['sq_err']:.5},{r['perc_err']:.5}\")"
   ]
  },
  {
   "cell_type": "code",
   "execution_count": 103,
   "metadata": {},
   "outputs": [
    {
     "name": "stdout",
     "output_type": "stream",
     "text": [
      "0.030069,5.2994,0.2799\n",
      "0.025733,5.2473,0.27779\n",
      "0.0047086,5.0569,0.2711\n",
      "0.019509,4.7986,0.26401\n"
     ]
    }
   ],
   "source": [
    "for r in [ results_night_1T, results_night_2T, results_night_5T, results_night_10T ]:\n",
    "    print(f\"{r['r2']:.5},{r['sq_err']:.5},{r['perc_err']:.5}\")"
   ]
  },
  {
   "cell_type": "code",
   "execution_count": null,
   "metadata": {},
   "outputs": [],
   "source": [
    "# scatter_with_errors(test_truth_day, test_preds_day, test_perc_err_day, xmin, xmax, ymin, ymax)\n",
    "# plot_importance(regr, df_subset.loc[train&valid_day,feats], feats)"
   ]
  },
  {
   "cell_type": "code",
   "execution_count": null,
   "metadata": {},
   "outputs": [],
   "source": [
    "# scatter_with_errors(test_truth_day, test_preds_day, test_perc_err_day, xmin, xmax, ymin, ymax)\n",
    "# plot_importance(regr, df_subset.loc[train&valid_day,feats], feats)"
   ]
  },
  {
   "cell_type": "markdown",
   "metadata": {},
   "source": [
    "### Plotting"
   ]
  },
  {
   "cell_type": "markdown",
   "metadata": {
    "pycharm": {
     "name": "#%%\n"
    }
   },
   "source": [
    "#### scatter plots of actual vs. predict using error_diff"
   ]
  },
  {
   "cell_type": "code",
   "execution_count": 32,
   "metadata": {},
   "outputs": [],
   "source": [
    "# %matplotlib inline\n",
    "# scatter_with_errors(test_truth_all, test_preds_all, error_perc, xmin, xmax, ymin, ymax)\n",
    "\n",
    "# scatter_with_errors(test_truth_night, test_preds_night, error_perc, xmin, xmax, ymin, ymax)\n",
    "# plot_importance(regr, df_subset.loc[train&valid_night,feats], feats)\n",
    "\n",
    "# scatter_with_errors(test_truth_night, test_preds_night, error_perc, xmin, xmax, ymin, ymax)\n",
    "# plot_importance(regr, df_subset.loc[train&valid_night,feats], feats)"
   ]
  },
  {
   "cell_type": "markdown",
   "metadata": {},
   "source": []
  },
  {
   "cell_type": "markdown",
   "metadata": {},
   "source": [
    "#### interactive time domain plot of errors\n",
    "\n",
    "switching matplotlib to notebook mode to enable a zoom-in of different portions of the time axis"
   ]
  },
  {
   "cell_type": "code",
   "execution_count": 33,
   "metadata": {},
   "outputs": [],
   "source": [
    "# %matplotlib notebook \n",
    "# plot_errors_in_time(test_truth_all, test_preds_all)"
   ]
  },
  {
   "cell_type": "markdown",
   "metadata": {},
   "source": [
    "#### feature importance\n",
    "\n",
    "feature importance from the model"
   ]
  },
  {
   "cell_type": "code",
   "execution_count": null,
   "metadata": {},
   "outputs": [],
   "source": [
    "# %matplotlib inline"
   ]
  },
  {
   "cell_type": "code",
   "execution_count": 34,
   "metadata": {},
   "outputs": [],
   "source": [
    "# plot_importance(regr, df_subset.loc[train&valid,feats], feats)"
   ]
  },
  {
   "cell_type": "markdown",
   "metadata": {},
   "source": [
    "## debug why CN2 is so low\n",
    "\n",
    "#### What happens if I drop month and SZA\n",
    "\n",
    "Answer: turns out we had to take the log of CN2"
   ]
  },
  {
   "cell_type": "code",
   "execution_count": 35,
   "metadata": {},
   "outputs": [],
   "source": [
    "# feats_no_sza = ['pressure', 'relative_humidity', 'temperature', 'wind_speed', 'logCn2']\n",
    "# preds_all_no_sza, r2_all_no_sza = train_and_test(df_subset.loc[train & valid], df_subset.loc[test & valid], feats_no_sza, label)\n",
    "# scatter_with_errors(test_truth_all, preds_all_no_sza, error_perc, xmin, xmax, ymin, ymax)\n",
    "# plot_importance(regr, df_subset.loc[train&valid,feats_no_sza], feats_no_sza)\n",
    "# r2_all_no_sza"
   ]
  },
  {
   "cell_type": "markdown",
   "metadata": {},
   "source": [
    "#### correlation between the signals using [stats.pearsonr](https://towardsdatascience.com/four-ways-to-quantify-synchrony-between-time-series-data-b99136c4a9c9)\n",
    "\n",
    "We calculate:\n",
    "- overall synchrony between r0 and Cn2\n",
    "- local synchrony between r0 and Cn2"
   ]
  },
  {
   "cell_type": "markdown",
   "metadata": {},
   "source": [
    "#### Overall Synchrony"
   ]
  },
  {
   "cell_type": "code",
   "execution_count": null,
   "metadata": {},
   "outputs": [],
   "source": []
  },
  {
   "cell_type": "code",
   "execution_count": 36,
   "metadata": {},
   "outputs": [],
   "source": [
    "    # r, p = print_pearsonr(df_subset.loc[train&valid,label], df_subset.loc[train&valid,'logCn2'])\n",
    "# plot_overall_synchrony(df_subset.loc[train&valid,label], df_subset.loc[train&valid,['logCn2']], label, 'logCn2', r)"
   ]
  },
  {
   "cell_type": "markdown",
   "metadata": {},
   "source": [
    "#### Local Synchrony"
   ]
  },
  {
   "cell_type": "code",
   "execution_count": 37,
   "metadata": {},
   "outputs": [],
   "source": [
    "# plot_local_synchrony(df_subset.loc[train&valid,label], df_subset.loc[train&valid,['logCn2']], label, 'Cn2')"
   ]
  },
  {
   "cell_type": "markdown",
   "metadata": {},
   "source": [
    "## Synchrony using only R0 daytime data"
   ]
  },
  {
   "cell_type": "markdown",
   "metadata": {},
   "source": [
    "#### Overall Synchrony"
   ]
  },
  {
   "cell_type": "code",
   "execution_count": 38,
   "metadata": {},
   "outputs": [],
   "source": [
    "# r, p = print_pearsonr(df_subset.loc[train&valid_day,label_day], df_subset.loc[train&valid_day,'logCn2'])\n",
    "# r"
   ]
  },
  {
   "cell_type": "code",
   "execution_count": 39,
   "metadata": {},
   "outputs": [],
   "source": [
    "# plot_overall_synchrony(df_subset.loc[train&valid_day,label_day], df_subset.loc[train&valid_day,['logCn2']], label_day, 'logCn2', r)"
   ]
  },
  {
   "cell_type": "markdown",
   "metadata": {},
   "source": [
    "#### Local Synchrony"
   ]
  },
  {
   "cell_type": "code",
   "execution_count": 40,
   "metadata": {},
   "outputs": [],
   "source": [
    "# plot_local_synchrony(df_subset.loc[train&valid_day,label_day], df_subset.loc[train&valid_day,['logCn2']], label_day, 'logCn2')"
   ]
  },
  {
   "cell_type": "markdown",
   "metadata": {},
   "source": [
    "## Performance Histograms by Magnitude"
   ]
  },
  {
   "cell_type": "code",
   "execution_count": null,
   "metadata": {},
   "outputs": [],
   "source": [
    "error_by_r0_histograms(test_truth_all, error_perc(test_truth_all, test_preds_all), 0, 80)\n",
    "error_by_r0_histograms(test_truth_day, error_perc(test_truth_day, test_preds_day), 0, 80)\n",
    "error_by_r0_histograms(test_truth_night, error_perc(test_truth_night, test_preds_night), 0, 80)"
   ]
  },
  {
   "cell_type": "markdown",
   "metadata": {},
   "source": [
    "## Smoothed r0 experiments"
   ]
  },
  {
   "cell_type": "code",
   "execution_count": null,
   "metadata": {},
   "outputs": [],
   "source": []
  }
 ],
 "metadata": {
  "kernelspec": {
   "display_name": "Python 3",
   "language": "python",
   "name": "python3"
  },
  "language_info": {
   "codemirror_mode": {
    "name": "ipython",
    "version": 3
   },
   "file_extension": ".py",
   "mimetype": "text/x-python",
   "name": "python",
   "nbconvert_exporter": "python",
   "pygments_lexer": "ipython3",
   "version": "3.8.5"
  }
 },
 "nbformat": 4,
 "nbformat_minor": 2
}
