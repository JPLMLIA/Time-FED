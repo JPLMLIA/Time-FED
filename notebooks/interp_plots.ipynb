{
  "cells": [
    {
      "cell_type": "code",
      "source": [
        "# Imports\n",
        "import pandas\n",
        "import matplotlib.pyplot as plt\n",
        "\n",
        "from scipy.interpolate import interp1d\n"
      ],
      "outputs": [],
      "execution_count": null,
      "metadata": {
        "collapsed": true,
        "jupyter": {
          "source_hidden": false,
          "outputs_hidden": false
        },
        "nteract": {
          "transient": {
            "deleting": false
          }
        }
      }
    },
    {
      "cell_type": "code",
      "source": [
        "#\n",
        "def predict(data, i, m, t, kind):\n",
        "    testing  = data.iloc[i:i+m]\n",
        "\n",
        "    t1 = data.iloc[i-t : i]\n",
        "    t2 = data.iloc[i+m : i+m+t]\n",
        "\n",
        "    try:\n",
        "        assert t1.isnull().mean() < .25\n",
        "        assert t2.isnull().mean() < .25\n",
        "\n",
        "        training = pd.concat([t1, t2])\n",
        "\n",
        "        interp  = interp1d(x=training.index, y=training.values, kind=kind)\n",
        "        predict = interp  (x=testing.index)\n",
        "\n",
        "        diff = testing - predict\n",
        "\n",
        "        return predict\n",
        "    except Exception as e:\n",
        "        print(e)\n"
      ],
      "outputs": [],
      "execution_count": null,
      "metadata": {
        "collapsed": true,
        "jupyter": {
          "source_hidden": false,
          "outputs_hidden": false
        },
        "nteract": {
          "transient": {
            "deleting": false
          }
        }
      }
    },
    {
      "cell_type": "code",
      "source": [
        "## SETUP\n",
        "# import data\n",
        "file = '/path/to/data.h5'\n",
        "df = pd.read_hdf(file, 'merged')\n",
        "\n",
        "# ndf is typically my 'new' df / secondary df; in this case, date subset\n",
        "ndf = df.loc[('2018/12/15 20:00' <= df.index) & (df.index < '2018/12/16 00:00')]\n",
        "ndf = ndf.reset_index() # Index needs to be integers\n",
        "\n",
        "# Manually set these\n",
        "block = 'night'                      # Used in filename\n",
        "time  = '8pm to 12am on 12/15/2018'  # Subtitle for plot\n",
        "\n",
        "# How to do interpolation predictions\n",
        "m = 3\n",
        "t = 45\n",
        "method = 'linear'\n"
      ],
      "outputs": [],
      "execution_count": null,
      "metadata": {
        "collapsed": true,
        "jupyter": {
          "source_hidden": false,
          "outputs_hidden": false
        },
        "nteract": {
          "transient": {
            "deleting": false
          }
        }
      }
    },
    {
      "cell_type": "code",
      "source": [
        "\n",
        "for c in ndf:\n",
        "    if c in ['datetime']:\n",
        "        continue\n",
        "    if c not in ['r0']:\n",
        "        continue\n",
        "\n",
        "    fig, ax = plt.subplots(1, 1, figsize=(20, 10))\n",
        "\n",
        "    wins = pd.DataFrame(index=range(data.size))\n",
        "    data = ndf[c]\n",
        "\n",
        "    # Create interpolation predictions and average the results per row\n",
        "    for i in range(t, data.shape[0]-m-t):\n",
        "        pred = predict(data, i, m, t, method)\n",
        "        wins[i] = np.nan\n",
        "        wins[i][i:i+m] = pred\n",
        "    mean = wins.mean(axis=1)\n",
        "\n",
        "    ax.scatter(x=mean.index, y=mean.values, s=10, color='red' , alpha=1, label='Predicted')\n",
        "    ax.scatter(x=data.index, y=data.values, s=10, color='blue', alpha=1, label='True')\n",
        "    ax.set_title(f'Predicted vs True for {c}\\n{time}\\nm={m}, t={t}, method={method}')\n",
        "\n",
        "    ax.legend()\n",
        "    ax.set_xlabel('Time')\n",
        "    ax.set_ylabel(c)\n",
        "\n",
        "    # Reset xticks to be datetimes\n",
        "    ticks = ax.get_xticks()\n",
        "    ticks = [0.0] + list(ticks[1:-2]) + [ndf.index[-1]]\n",
        "    ax.set_xticklabels(ndf.loc[ticks].datetime, rotation=45)\n",
        "\n",
        "    plt.tight_layout()\n",
        "    plt.savefig(f'local/plots/subs/{c}.{method}.{block}.png')"
      ],
      "outputs": [],
      "execution_count": null,
      "metadata": {
        "collapsed": true,
        "jupyter": {
          "source_hidden": false,
          "outputs_hidden": false
        },
        "nteract": {
          "transient": {
            "deleting": false
          }
        }
      }
    }
  ],
  "metadata": {},
  "nbformat": 4,
  "nbformat_minor": 0
}