{
 "cells": [
  {
   "cell_type": "markdown",
   "metadata": {
    "pycharm": {
     "name": "#%% md\n"
    }
   },
   "source": [
    "### import statements"
   ]
  },
  {
   "cell_type": "code",
   "execution_count": null,
   "metadata": {},
   "outputs": [],
   "source": [
    "%matplotlib inline\n",
    "import sys\n",
    "import os\n",
    "import pandas as pd\n",
    "sys.path.append('../src')\n",
    "# from utils import load_weather\n",
    "import datetime\n",
    "import matplotlib.pyplot as plt\n",
    "import numpy as np\n",
    "from sklearn.ensemble import RandomForestRegressor\n",
    "from scipy.stats import gaussian_kde"
   ]
  },
  {
   "cell_type": "markdown",
   "metadata": {
    "pycharm": {
     "name": "#%% md\n"
    }
   },
   "source": [
    "### constants"
   ]
  },
  {
   "cell_type": "code",
   "execution_count": null,
   "metadata": {},
   "outputs": [],
   "source": [
    "F_INPUT = '../../data/data.merged.pandas.h5'"
   ]
  },
  {
   "cell_type": "code",
   "execution_count": null,
   "metadata": {
    "pycharm": {
     "name": "#%%\n"
    }
   },
   "outputs": [],
   "source": [
    "feats = ['pressure', 'relative_humidity', 'temperature', 'wind_speed', 'month', 'Cn2', 'solar_zenith_angle']\n",
    "label = 'r0'"
   ]
  },
  {
   "cell_type": "markdown",
   "metadata": {
    "pycharm": {
     "name": "#%% md\n"
    }
   },
   "source": [
    "### read data"
   ]
  },
  {
   "cell_type": "code",
   "execution_count": null,
   "metadata": {
    "pycharm": {
     "name": "#%%\n"
    }
   },
   "outputs": [],
   "source": [
    "df = pd.read_hdf(F_INPUT, 'resampled/median')"
   ]
  },
  {
   "cell_type": "markdown",
   "metadata": {
    "pycharm": {
     "name": "#%% md\n"
    }
   },
   "source": [
    "### add new features"
   ]
  },
  {
   "cell_type": "code",
   "execution_count": null,
   "metadata": {},
   "outputs": [],
   "source": [
    "df['month'] = df['datenum'].index.month"
   ]
  },
  {
   "cell_type": "markdown",
   "metadata": {
    "pycharm": {
     "name": "#%% md\n"
    }
   },
   "source": [
    "### restricting data to usable, relatively dense subset"
   ]
  },
  {
   "cell_type": "code",
   "execution_count": null,
   "metadata": {
    "pycharm": {
     "name": "#%%\n"
    }
   },
   "outputs": [],
   "source": [
    "df_subset = df[(df.index >= '2018-10-01') & (df.index < '2019-01-01')]"
   ]
  },
  {
   "cell_type": "code",
   "execution_count": null,
   "metadata": {},
   "outputs": [],
   "source": [
    "df_subset.describe()"
   ]
  },
  {
   "cell_type": "markdown",
   "metadata": {
    "pycharm": {
     "name": "#%% md\n"
    }
   },
   "source": [
    "### finding non-nan values"
   ]
  },
  {
   "cell_type": "code",
   "execution_count": null,
   "metadata": {
    "pycharm": {
     "name": "#%%\n"
    }
   },
   "outputs": [],
   "source": [
    "valid = ~df_subset.isnull().any(axis=1)"
   ]
  },
  {
   "cell_type": "code",
   "execution_count": null,
   "metadata": {},
   "outputs": [],
   "source": [
    "df_subset[valid].count()"
   ]
  },
  {
   "cell_type": "markdown",
   "metadata": {
    "pycharm": {
     "name": "#%% md\n"
    }
   },
   "source": [
    "### splitting into train and test"
   ]
  },
  {
   "cell_type": "code",
   "execution_count": null,
   "metadata": {
    "pycharm": {
     "name": "#%%\n"
    }
   },
   "outputs": [],
   "source": [
    "train = df_subset.index <= '2018-12-10'\n",
    "test  = df_subset.index > '2018-12-10'"
   ]
  },
  {
   "cell_type": "code",
   "execution_count": null,
   "metadata": {},
   "outputs": [],
   "source": [
    "df_subset.loc[train & valid,feats].count()"
   ]
  },
  {
   "cell_type": "code",
   "execution_count": null,
   "metadata": {},
   "outputs": [],
   "source": [
    "df_subset.loc[test & valid,feats].count()"
   ]
  },
  {
   "cell_type": "markdown",
   "metadata": {},
   "source": [
    "### initializing the RF regressor"
   ]
  },
  {
   "cell_type": "code",
   "execution_count": null,
   "metadata": {
    "pycharm": {
     "name": "#%%\n"
    }
   },
   "outputs": [],
   "source": [
    "regr = RandomForestRegressor(n_estimators=100, random_state=0)\n",
    "regr.fit(df_subset.loc[train&valid,feats], df_subset.loc[train&valid,label])"
   ]
  },
  {
   "cell_type": "markdown",
   "metadata": {
    "pycharm": {
     "name": "#%% md\n"
    }
   },
   "source": [
    "### predict on test set"
   ]
  },
  {
   "cell_type": "code",
   "execution_count": null,
   "metadata": {
    "pycharm": {
     "name": "#%%\n"
    }
   },
   "outputs": [],
   "source": [
    "preds = regr.predict(df_subset.loc[test&valid,feats])"
   ]
  },
  {
   "cell_type": "markdown",
   "metadata": {},
   "source": [
    "### evaluation"
   ]
  },
  {
   "cell_type": "code",
   "execution_count": null,
   "metadata": {
    "pycharm": {
     "name": "#%%\n"
    }
   },
   "outputs": [],
   "source": [
    "r2 = regr.score(df_subset.loc[test&valid,feats], df_subset.loc[test&valid,label])"
   ]
  },
  {
   "cell_type": "code",
   "execution_count": null,
   "metadata": {
    "pycharm": {
     "name": "#%%\n"
    }
   },
   "outputs": [],
   "source": [
    "r2"
   ]
  },
  {
   "cell_type": "code",
   "execution_count": null,
   "metadata": {
    "pycharm": {
     "name": "#%%\n"
    }
   },
   "outputs": [],
   "source": [
    "def error_diff(targ, pred):\n",
    "    return targ-pred\n",
    "def error_perc(targ, pred):\n",
    "    return (targ-pred)/targ"
   ]
  },
  {
   "cell_type": "markdown",
   "metadata": {},
   "source": [
    "### plots"
   ]
  },
  {
   "cell_type": "code",
   "execution_count": null,
   "metadata": {
    "pycharm": {
     "name": "#%%\n"
    }
   },
   "outputs": [],
   "source": [
    "r0_bins = np.arange(0,25,0.5)\n",
    "act_pred_scatter_xbins, act_pred_scatter_ybins = np.meshgrid(r0_bins, r0_bins)"
   ]
  },
  {
   "cell_type": "code",
   "execution_count": null,
   "metadata": {
    "pycharm": {
     "name": "#%%\n"
    }
   },
   "outputs": [],
   "source": [
    "fig, ax = plt.subplots(1, 2, figsize=(20, 10))\n",
    "s = 25\n",
    "a = 0.4\n",
    "ax[0].scatter(df_subset.loc[test&valid,label],\n",
    "           preds,\n",
    "           edgecolor='k', c=\"cornflowerblue\", s=s, alpha=a)\n",
    "# ax[0].hist2d(df_subset.loc[test&valid,label],\n",
    "#            preds,act_pred_scatter_bins, cmap='jet')\n",
    "x = np.linspace(df_subset.loc[test&valid,label].min(), df_subset.loc[test&valid,label].max(), 1000)\n",
    "ax[0].plot(x, x, 'r-')\n",
    "ax[0].set_xlabel(\"Actual r0\")\n",
    "ax[0].set_ylabel(\"Predicted r0\")\n",
    "ax[0].set_xticks(np.arange(0, 25))\n",
    "ax[0].set_yticks(np.arange(0, 25))\n",
    "\n",
    "ax[1].scatter(df_subset.loc[test&valid,label],\n",
    "              error_perc(df_subset.loc[test&valid,label], preds),\n",
    "              edgecolor='k', c=\"forestgreen\", s=s, alpha=a)\n",
    "ax[1].plot(x, np.zeros(x.shape), 'r-')\n",
    "ax[1].set_xlabel(\"Actual r0\")\n",
    "ax[1].set_ylabel(\"Error r0\")\n",
    "ax[1].set_xticks(np.arange(0, 25))\n",
    "\n",
    "\n",
    "plt.show()\n"
   ]
  },
  {
   "cell_type": "code",
   "execution_count": null,
   "metadata": {},
   "outputs": [],
   "source": [
    "fig, ax = plt.subplots(1, 2, figsize=(20, 10))\n",
    "s = 25\n",
    "a = 0.4\n",
    "ax[0].scatter(df_subset.loc[test&valid,label],\n",
    "           preds,\n",
    "           edgecolor='k', c=\"cornflowerblue\", s=s, alpha=a)\n",
    "# ax[0].hist2d(df_subset.loc[test&valid,label],\n",
    "#            preds,act_pred_scatter_bins, cmap='jet')\n",
    "x = np.linspace(df_subset.loc[test&valid,label].min(), df_subset.loc[test&valid,label].max(), 1000)\n",
    "ax[0].plot(x, x, 'r-')\n",
    "ax[0].set_xlabel(\"Actual r0\")\n",
    "ax[0].set_ylabel(\"Predicted r0\")\n",
    "ax[0].set_xticks(np.arange(0, 25))\n",
    "ax[0].set_yticks(np.arange(0, 25))\n",
    "\n",
    "ax[1].scatter(df_subset.loc[test&valid,label],\n",
    "              error_perc(df_subset.loc[test&valid,label], preds),\n",
    "              edgecolor='k', c=\"forestgreen\", s=s, alpha=a)\n",
    "ax[1].plot(x, np.zeros(x.shape), 'r-')\n",
    "ax[1].set_xlabel(\"Actual r0\")\n",
    "ax[1].set_ylabel(\"Error r0\")\n",
    "ax[1].set_xticks(np.arange(0, 25))\n",
    "\n",
    "\n",
    "plt.show()\n"
   ]
  },
  {
   "cell_type": "markdown",
   "metadata": {},
   "source": [
    "### evaluation"
   ]
  },
  {
   "cell_type": "code",
   "execution_count": null,
   "metadata": {},
   "outputs": [],
   "source": [
    "r2 = regr.score(df_subset.loc[test&valid,feats], df_subset.loc[test&valid,label])"
   ]
  },
  {
   "cell_type": "code",
   "execution_count": null,
   "metadata": {},
   "outputs": [],
   "source": [
    "r2"
   ]
  },
  {
   "cell_type": "code",
   "execution_count": null,
   "metadata": {},
   "outputs": [],
   "source": [
    "def error_diff(targ, pred):\n",
    "    return targ-pred\n",
    "def error_perc(targ, pred):\n",
    "    return (targ-pred)/targ"
   ]
  },
  {
   "cell_type": "markdown",
   "metadata": {},
   "source": [
    "### plots"
   ]
  },
  {
   "cell_type": "code",
   "execution_count": null,
   "metadata": {},
   "outputs": [],
   "source": [
    "r0_bins = np.arange(0,25,0.5)\n",
    "act_pred_scatter_xbins, act_pred_scatter_ybins = np.meshgrid(r0_bins, r0_bins)"
   ]
  },
  {
   "cell_type": "code",
   "execution_count": null,
   "metadata": {},
   "outputs": [],
   "source": [
    "fig, ax = plt.subplots(1, 2, figsize=(20, 10))\n",
    "s = 25\n",
    "a = 0.4\n",
    "ax[0].scatter(df_subset.loc[test&valid,label],\n",
    "           preds,\n",
    "           edgecolor='k', c=\"cornflowerblue\", s=s, alpha=a)\n",
    "# ax[0].hist2d(df_subset.loc[test&valid,label],\n",
    "#            preds,act_pred_scatter_bins, cmap='jet')\n",
    "x = np.linspace(df_subset.loc[test&valid,label].min(), df_subset.loc[test&valid,label].max(), 1000)\n",
    "ax[0].plot(x, x, 'r-')\n",
    "ax[0].set_xlabel(\"Actual r0\")\n",
    "ax[0].set_ylabel(\"Predicted r0\")\n",
    "ax[0].set_xticks(np.arange(0, 25))\n",
    "ax[0].set_yticks(np.arange(0, 25))\n",
    "\n",
    "ax[1].scatter(df_subset.loc[test&valid,label],\n",
    "              error_perc(df_subset.loc[test&valid,label], preds),\n",
    "              edgecolor='k', c=\"forestgreen\", s=s, alpha=a)\n",
    "ax[1].plot(x, np.zeros(x.shape), 'r-')\n",
    "ax[1].set_xlabel(\"Actual r0\")\n",
    "ax[1].set_ylabel(\"Perc Error r0\")\n",
    "ax[1].set_xticks(np.arange(0, 25))\n",
    "\n",
    "\n",
    "plt.show()\n"
   ]
  }
 ],
 "metadata": {
  "kernelspec": {
   "display_name": "Python 3",
   "language": "python",
   "name": "python3"
  },
  "language_info": {
   "codemirror_mode": {
    "name": "ipython",
    "version": 3
   },
   "file_extension": ".py",
   "mimetype": "text/x-python",
   "name": "python",
   "nbconvert_exporter": "python",
   "pygments_lexer": "ipython3",
   "version": "3.8.5"
  }
 },
 "nbformat": 4,
 "nbformat_minor": 1
}
