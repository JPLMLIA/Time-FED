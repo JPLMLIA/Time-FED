{
 "cells": [
  {
   "cell_type": "code",
   "execution_count": null,
   "metadata": {
    "jupyter": {
     "outputs_hidden": false,
     "source_hidden": false
    },
    "nteract": {
     "transient": {
      "deleting": false
     }
    }
   },
   "outputs": [],
   "source": [
    "# Imports\n",
    "import pandas as pd\n",
    "import matplotlib.pyplot as plt\n",
    "import numpy as np\n",
    "from scipy.interpolate import interp1d\n",
    "import seaborn as sns\n",
    "sns.set_context('talk')"
   ]
  },
  {
   "cell_type": "code",
   "execution_count": null,
   "metadata": {
    "jupyter": {
     "outputs_hidden": false,
     "source_hidden": false
    },
    "nteract": {
     "transient": {
      "deleting": false
     }
    }
   },
   "outputs": [],
   "source": [
    "# # This is for creating scatter plots of true vs predicted\n",
    "\n",
    "# for c in ndf:\n",
    "#     if c in ['datetime']:\n",
    "#         continue\n",
    "#     if c not in ['r0']:\n",
    "#         continue\n",
    "\n",
    "#     fig, ax = plt.subplots(1, 1, figsize=(20, 10))\n",
    "\n",
    "#     wins = pd.DataFrame(index=range(data.size))\n",
    "#     data = ndf[c]\n",
    "\n",
    "#     # Create interpolation predictions and average the results per row\n",
    "#     for i in range(t, data.shape[0]-m-t):\n",
    "#         pred = predict(data, i, m, t, method)\n",
    "#         wins[i] = np.nan\n",
    "#         wins[i][i:i+m] = pred\n",
    "#     mean = wins.mean(axis=1)\n",
    "\n",
    "#     ax.scatter(x=mean.index, y=mean.values, s=10, color='red' , alpha=1, label='Predicted')\n",
    "#     ax.scatter(x=data.index, y=data.values, s=10, color='blue', alpha=1, label='True')\n",
    "#     ax.set_title(f'Predicted vs True for {c}\\n{time}\\nm={m}, t={t}, method={method}')\n",
    "\n",
    "#     ax.legend()\n",
    "#     ax.set_xlabel('Time')\n",
    "#     ax.set_ylabel(c)\n",
    "\n",
    "#     # Reset xticks to be datetimes\n",
    "#     ticks = ax.get_xticks()\n",
    "#     ticks = [0.0] + list(ticks[1:-2]) + [ndf.index[-1]]\n",
    "#     ax.set_xticklabels(ndf.loc[ticks].datetime, rotation=45)\n",
    "\n",
    "#     plt.tight_layout()\n",
    "#     plt.savefig(f'local/plots/subs/{c}.{method}.{block}.png')\n"
   ]
  },
  {
   "cell_type": "code",
   "execution_count": null,
   "metadata": {
    "jupyter": {
     "outputs_hidden": false,
     "source_hidden": false
    },
    "nteract": {
     "transient": {
      "deleting": false
     }
    }
   },
   "outputs": [],
   "source": [
    "# This code creates the error plots\n",
    "# `data` is the dataframe output of window_interpolate.py\n",
    "mplier = 5\n",
    "def draw_error_plots(data, output, center='mean', error='std', subtitle=''):\n",
    "    m = np.unique(data.index.get_level_values('m'))\n",
    "    t = np.unique(data.index.get_level_values('t'))\n",
    "    k = np.unique(data.index.get_level_values('kind'))\n",
    "    ncols = len(t)\n",
    "# #     win = 10\n",
    "    for c in np.unique(data.columns.get_level_values(0)):\n",
    "        fig, axes = plt.subplots(ncols=ncols, nrows=1, sharey=True, figsize=(10*ncols, 10))\n",
    "        for i, _t in enumerate(t):\n",
    "            ax = axes[i]\n",
    "            ax.set_title(f'{c} | test={_t*mplier} (mins)\\n{subtitle}')\n",
    "            ax.set_xlabel('train (mins)')\n",
    "            ax.set_xticks(m*mplier)\n",
    "            ax.set_ylabel('Error')\n",
    "            for _k in k:\n",
    "                mean = data[c, center][:, _t, _k]\n",
    "                yerr = data[c, error ][:, _t, _k]\n",
    "#                 ax.errorbar(x=m*mplier, y=mean, yerr=yerr, fmt='-o', label=_k)\n",
    "                ax.plot(m*mplier, mean, label=_k)\n",
    "\n",
    "            ax.legend()\n",
    "            plt.tight_layout()\n",
    "            plt.savefig(f'{output}.{c}.png')\n"
   ]
  },
  {
   "cell_type": "code",
   "execution_count": null,
   "metadata": {
    "jupyter": {
     "outputs_hidden": false,
     "source_hidden": false
    },
    "nteract": {
     "transient": {
      "deleting": false
     }
    }
   },
   "outputs": [],
   "source": [
    "# Manually set these; file is the output of window_interpolate.py\n",
    "file   = '/Users/urebbapr/research/opticalcomm/data/interp/temperature.h5'\n",
    "\n",
    "# this dict is just for creating the filename and subtitles to differentiate the different plots\n",
    "# blocks = {\n",
    "#     'spring': '04-01',\n",
    "#     'summer': '07-01',\n",
    "#     'fall'  : '10-01',\n",
    "#     'winter': '12-01'\n",
    "# }\n",
    "\n",
    "blocks = {\n",
    "    'results':'2019-01-01'\n",
    "}\n",
    "subtitle = '12pm to 12am PST'\n",
    "for key, date in blocks.items():\n",
    "    data = pd.read_hdf(file, key)\n",
    "#     draw_error_plots(data, f'local/plots/subs/percent/{season}.{date}', subtitle=f'{date} from {subtitle}')\n",
    "    draw_error_plots(data, f'{key}.{date}')"
   ]
  },
  {
   "cell_type": "code",
   "execution_count": null,
   "metadata": {},
   "outputs": [],
   "source": [
    "t = 5\n",
    "method = 'linear'"
   ]
  },
  {
   "cell_type": "code",
   "execution_count": null,
   "metadata": {},
   "outputs": [],
   "source": [
    "def predict(data, i, m, t, kind):\n",
    "    testing  = data.iloc[i:i+m]\n",
    "\n",
    "    t1 = data.iloc[i-t : i]\n",
    "    t2 = data.iloc[i+m : i+m+t]\n",
    "\n",
    "    try:\n",
    "        assert t1.isnull().mean() < .25\n",
    "        assert t2.isnull().mean() < .25\n",
    "\n",
    "        training = pd.concat([t1, t2])\n",
    "\n",
    "        interp  = interp1d(x=training.index, y=training.values, kind=kind)\n",
    "        predict = interp  (x=testing.index)\n",
    "\n",
    "        diff = testing - predict\n",
    "\n",
    "        return predict\n",
    "    except Exception as e:\n",
    "        print(e)"
   ]
  },
  {
   "cell_type": "code",
   "execution_count": null,
   "metadata": {},
   "outputs": [],
   "source": [
    "## SETUP\n",
    "# import data\n",
    "file = '/Users/urebbapr/research/opticalcomm/data/v3/data.h5'\n",
    "df = pd.read_hdf(file, 'merged')"
   ]
  },
  {
   "cell_type": "code",
   "execution_count": null,
   "metadata": {},
   "outputs": [],
   "source": [
    "# ndf is typically my 'new' df / secondary df; in this case, date subset\n",
    "ndf = df.loc[('2020-01-01 00:00' <= df.index) & (df.index < '2020-01-31 00:00')]\n",
    "# ndf = ndf.reset_index() # Index needs to be integers\n",
    "\n",
    "# How to do interpolation predictions"
   ]
  },
  {
   "cell_type": "code",
   "execution_count": null,
   "metadata": {},
   "outputs": [],
   "source": [
    "#         fig, axes = plt.subplots(ncols=ncols, nrows=nrows, sharey=True, figsize=(10*ncols, 10*nrows))\n",
    "\n",
    "\n",
    "\n",
    "#                 win = data[c, 'windows'][m[0], _t, _k] # a hard-coded 5 here\n",
    "\n",
    "\n",
    "#                         maxv = data[c, center][_m].max()+data[c, error][_m].max()\n",
    "#                         minv = data[c, center][_m].max()+data[c, error][_m].min()\n",
    "\n",
    "# ax.set_ylim(\n",
    "                        #     ymin=min([0, data[c, center][_m].min()-data[c, error][_m].max()]),\n",
    "                        #     ymax=data[c, center][_m].max()+data[c, error][_m].max()\n",
    "                        # )\n",
    "\n",
    "#                     ax.set_ylim(\n",
    "    #                         ymin=minv,\n",
    "    #                         ymax=maxv\n",
    "    #                     )\n",
    "                        # ax.set_ylim(ymin=data[c, 'std'][_m].min(), ymax=data[c, 'std'][_m].max())\n",
    "        \n",
    "    #                     ax.hlines(0, *ax.get_xlim(), color='green', alpha=.5)\n",
    "#                 for _m in m:\n",
    "#                     color = 'blue'\n",
    "#                     if data[c, 'windows'][_m, _t, _k] != win:\n",
    "#                         color = 'orange'\n",
    "#                     mean = data[c, center][_m, _t, _k]\n",
    "#                     yerr = data[c, error ][_m, _t, _k]\n",
    "#                     ax.errorbar(x=_m, y=mean, yerr=yerr, fmt='-o', color=color, ecolor='red', label=_k)\n"
   ]
  }
 ],
 "metadata": {
  "kernelspec": {
   "display_name": "Python 3",
   "language": "python",
   "name": "python3"
  },
  "language_info": {
   "codemirror_mode": {
    "name": "ipython",
    "version": 3
   },
   "file_extension": ".py",
   "mimetype": "text/x-python",
   "name": "python",
   "nbconvert_exporter": "python",
   "pygments_lexer": "ipython3",
   "version": "3.8.5"
  }
 },
 "nbformat": 4,
 "nbformat_minor": 1
}
