{
 "cells": [
  {
   "cell_type": "markdown",
   "metadata": {
    "pycharm": {
     "name": "#%% md\n"
    }
   },
   "source": [
    "### import statements"
   ]
  },
  {
   "cell_type": "code",
   "execution_count": 1,
   "metadata": {},
   "outputs": [],
   "source": [
    "%matplotlib inline\n",
    "import sys\n",
    "import os\n",
    "import pandas as pd\n",
    "sys.path.append('../src')\n",
    "import datetime\n",
    "import matplotlib.pyplot as plt\n",
    "import numpy as np\n",
    "import sklearn\n",
    "import pickle"
   ]
  },
  {
   "cell_type": "code",
   "execution_count": 2,
   "metadata": {},
   "outputs": [],
   "source": [
    "from sklearn.ensemble import RandomForestRegressor\n",
    "from sklearn.metrics import r2_score, mean_squared_error, mean_absolute_percentage_error\n",
    "from plot_utils import *"
   ]
  },
  {
   "cell_type": "markdown",
   "metadata": {
    "pycharm": {
     "name": "#%% md\n"
    }
   },
   "source": [
    "### constants"
   ]
  },
  {
   "cell_type": "code",
   "execution_count": 3,
   "metadata": {},
   "outputs": [],
   "source": [
    "F_INPUT = '../../data/v2/data.h5'\n",
    "ds_label_all = 'r0' # ds stands for data source\n",
    "ds_label_day = 'r0_day'\n",
    "ds_label_ngt = 'r0_night'"
   ]
  },
  {
   "cell_type": "code",
   "execution_count": 4,
   "metadata": {},
   "outputs": [],
   "source": [
    "DENSE_SUBSET_START = '2018-05-03'\n",
    "DENSE_SUBSET_END = '2020-12-30'"
   ]
  },
  {
   "cell_type": "code",
   "execution_count": 5,
   "metadata": {},
   "outputs": [],
   "source": [
    "smooth_mins = [1, 2, 5, 10, 15, 20]\n",
    "r0_map = {'all':'r0_all','day':'r0_day','ngt':'r0_ngt'} # adn = all, day, ngt"
   ]
  },
  {
   "cell_type": "code",
   "execution_count": 6,
   "metadata": {},
   "outputs": [],
   "source": [
    "feats_mnus_cn2 = ['pressure', 'relative_humidity', 'temperature', 'wind_speed', 'solar_zenith_angle','dayofyear', 'hour']\n",
    "feats_plus_cn2 = feats_mnus_cn2 + ['logCn2']\n",
    "feats_map = {'feats_plus_cn2': feats_plus_cn2, 'feats_mnus_cn2': feats_mnus_cn2}"
   ]
  },
  {
   "cell_type": "code",
   "execution_count": 7,
   "metadata": {},
   "outputs": [],
   "source": [
    "# xmin, ymin = 0, 0\n",
    "# xmax, ymax = 20, 20"
   ]
  },
  {
   "cell_type": "markdown",
   "metadata": {
    "pycharm": {
     "name": "#%% md\n"
    }
   },
   "source": [
    "### read data"
   ]
  },
  {
   "cell_type": "code",
   "execution_count": 8,
   "metadata": {
    "pycharm": {
     "name": "#%%\n"
    }
   },
   "outputs": [],
   "source": [
    "df = pd.read_hdf(F_INPUT, 'merged')"
   ]
  },
  {
   "cell_type": "markdown",
   "metadata": {
    "pycharm": {
     "name": "#%% md\n"
    }
   },
   "source": [
    "### add new features"
   ]
  },
  {
   "cell_type": "code",
   "execution_count": 9,
   "metadata": {},
   "outputs": [],
   "source": [
    "df['dayofyear'] = df.index.dayofyear\n",
    "df['hour'] = df.index.hour\n",
    "df['logCn2'] = np.log10(df['Cn2'])"
   ]
  },
  {
   "cell_type": "markdown",
   "metadata": {},
   "source": [
    "### applying smoothing"
   ]
  },
  {
   "cell_type": "code",
   "execution_count": 10,
   "metadata": {},
   "outputs": [],
   "source": [
    "for m in smooth_mins:\n",
    "    for ds_label in [ds_label_all, ds_label_day, ds_label_ngt]:\n",
    "        if ds_label == 'r0':\n",
    "            label = ds_label + '_all_{}T'.format(m)\n",
    "        elif ds_label == 'r0_night':\n",
    "            label = 'r0_ngt_{}T'.format(m)\n",
    "        else:\n",
    "            label = ds_label + '_{}T'.format(m)\n",
    "        if m == 1:\n",
    "            df[label] = df[ds_label]\n",
    "        else:\n",
    "            df[label] = df[ds_label].rolling('{}T'.format(m)).mean()"
   ]
  },
  {
   "cell_type": "code",
   "execution_count": 11,
   "metadata": {},
   "outputs": [
    {
     "data": {
      "text/plain": [
       "Index(['o(I)_I', 'r0', 'solar_zenith_angle', 'r0_day', 'r0_night', 'pressure',\n",
       "       'relative_humidity', 'temperature', 'wind_direction', 'wind_speed',\n",
       "       'Cn2', 'dayofyear', 'hour', 'logCn2', 'r0_all_1T', 'r0_day_1T',\n",
       "       'r0_ngt_1T', 'r0_all_2T', 'r0_day_2T', 'r0_ngt_2T', 'r0_all_5T',\n",
       "       'r0_day_5T', 'r0_ngt_5T', 'r0_all_10T', 'r0_day_10T', 'r0_ngt_10T',\n",
       "       'r0_all_15T', 'r0_day_15T', 'r0_ngt_15T', 'r0_all_20T', 'r0_day_20T',\n",
       "       'r0_ngt_20T'],\n",
       "      dtype='object')"
      ]
     },
     "execution_count": 11,
     "metadata": {},
     "output_type": "execute_result"
    }
   ],
   "source": [
    "df.columns"
   ]
  },
  {
   "cell_type": "code",
   "execution_count": 12,
   "metadata": {},
   "outputs": [
    {
     "data": {
      "text/html": [
       "<div>\n",
       "<style scoped>\n",
       "    .dataframe tbody tr th:only-of-type {\n",
       "        vertical-align: middle;\n",
       "    }\n",
       "\n",
       "    .dataframe tbody tr th {\n",
       "        vertical-align: top;\n",
       "    }\n",
       "\n",
       "    .dataframe thead th {\n",
       "        text-align: right;\n",
       "    }\n",
       "</style>\n",
       "<table border=\"1\" class=\"dataframe\">\n",
       "  <thead>\n",
       "    <tr style=\"text-align: right;\">\n",
       "      <th></th>\n",
       "      <th>o(I)_I</th>\n",
       "      <th>r0</th>\n",
       "      <th>solar_zenith_angle</th>\n",
       "      <th>r0_day</th>\n",
       "      <th>r0_night</th>\n",
       "      <th>pressure</th>\n",
       "      <th>relative_humidity</th>\n",
       "      <th>temperature</th>\n",
       "      <th>wind_direction</th>\n",
       "      <th>wind_speed</th>\n",
       "      <th>...</th>\n",
       "      <th>r0_ngt_5T</th>\n",
       "      <th>r0_all_10T</th>\n",
       "      <th>r0_day_10T</th>\n",
       "      <th>r0_ngt_10T</th>\n",
       "      <th>r0_all_15T</th>\n",
       "      <th>r0_day_15T</th>\n",
       "      <th>r0_ngt_15T</th>\n",
       "      <th>r0_all_20T</th>\n",
       "      <th>r0_day_20T</th>\n",
       "      <th>r0_ngt_20T</th>\n",
       "    </tr>\n",
       "  </thead>\n",
       "  <tbody>\n",
       "    <tr>\n",
       "      <th>count</th>\n",
       "      <td>342443.000000</td>\n",
       "      <td>483758.000000</td>\n",
       "      <td>483758.000000</td>\n",
       "      <td>342443.000000</td>\n",
       "      <td>141315.000000</td>\n",
       "      <td>1.740394e+06</td>\n",
       "      <td>1.653058e+06</td>\n",
       "      <td>1.653063e+06</td>\n",
       "      <td>1.783564e+06</td>\n",
       "      <td>1.783640e+06</td>\n",
       "      <td>...</td>\n",
       "      <td>258373.000000</td>\n",
       "      <td>688752.000000</td>\n",
       "      <td>417620.000000</td>\n",
       "      <td>271132.000000</td>\n",
       "      <td>715555.000000</td>\n",
       "      <td>436672.000000</td>\n",
       "      <td>278883.000000</td>\n",
       "      <td>736339.000000</td>\n",
       "      <td>451326.000000</td>\n",
       "      <td>285013.000000</td>\n",
       "    </tr>\n",
       "    <tr>\n",
       "      <th>mean</th>\n",
       "      <td>0.001379</td>\n",
       "      <td>4.729702</td>\n",
       "      <td>71.757210</td>\n",
       "      <td>3.651714</td>\n",
       "      <td>7.341948</td>\n",
       "      <td>7.746396e+02</td>\n",
       "      <td>3.542895e+01</td>\n",
       "      <td>1.103738e+01</td>\n",
       "      <td>1.908795e+02</td>\n",
       "      <td>2.313792e+00</td>\n",
       "      <td>...</td>\n",
       "      <td>7.335459</td>\n",
       "      <td>5.099589</td>\n",
       "      <td>3.656218</td>\n",
       "      <td>7.322788</td>\n",
       "      <td>5.086838</td>\n",
       "      <td>3.664591</td>\n",
       "      <td>7.313778</td>\n",
       "      <td>5.081379</td>\n",
       "      <td>3.675858</td>\n",
       "      <td>7.307061</td>\n",
       "    </tr>\n",
       "    <tr>\n",
       "      <th>std</th>\n",
       "      <td>0.000450</td>\n",
       "      <td>2.933261</td>\n",
       "      <td>41.077000</td>\n",
       "      <td>2.356312</td>\n",
       "      <td>2.521823</td>\n",
       "      <td>4.565213e+00</td>\n",
       "      <td>2.407449e+01</td>\n",
       "      <td>7.998990e+00</td>\n",
       "      <td>8.232246e+01</td>\n",
       "      <td>1.720400e+00</td>\n",
       "      <td>...</td>\n",
       "      <td>2.474673</td>\n",
       "      <td>3.120671</td>\n",
       "      <td>2.624671</td>\n",
       "      <td>2.444669</td>\n",
       "      <td>3.124712</td>\n",
       "      <td>2.654920</td>\n",
       "      <td>2.426685</td>\n",
       "      <td>3.122820</td>\n",
       "      <td>2.670015</td>\n",
       "      <td>2.413242</td>\n",
       "    </tr>\n",
       "    <tr>\n",
       "      <th>min</th>\n",
       "      <td>0.000102</td>\n",
       "      <td>0.821452</td>\n",
       "      <td>10.943276</td>\n",
       "      <td>0.821452</td>\n",
       "      <td>2.367400</td>\n",
       "      <td>7.516000e+02</td>\n",
       "      <td>1.000000e+00</td>\n",
       "      <td>-1.300000e+01</td>\n",
       "      <td>1.450000e+00</td>\n",
       "      <td>3.500000e-02</td>\n",
       "      <td>...</td>\n",
       "      <td>2.367400</td>\n",
       "      <td>0.821452</td>\n",
       "      <td>0.821452</td>\n",
       "      <td>2.367400</td>\n",
       "      <td>0.821452</td>\n",
       "      <td>0.821452</td>\n",
       "      <td>2.367400</td>\n",
       "      <td>0.821452</td>\n",
       "      <td>0.821452</td>\n",
       "      <td>2.367400</td>\n",
       "    </tr>\n",
       "    <tr>\n",
       "      <th>25%</th>\n",
       "      <td>0.001060</td>\n",
       "      <td>2.571765</td>\n",
       "      <td>42.658571</td>\n",
       "      <td>2.299625</td>\n",
       "      <td>5.500200</td>\n",
       "      <td>7.721000e+02</td>\n",
       "      <td>1.900000e+01</td>\n",
       "      <td>5.400000e+00</td>\n",
       "      <td>1.401579e+02</td>\n",
       "      <td>1.185000e+00</td>\n",
       "      <td>...</td>\n",
       "      <td>5.532833</td>\n",
       "      <td>2.712008</td>\n",
       "      <td>2.322928</td>\n",
       "      <td>5.543217</td>\n",
       "      <td>2.702915</td>\n",
       "      <td>2.322861</td>\n",
       "      <td>5.551622</td>\n",
       "      <td>2.700245</td>\n",
       "      <td>2.324379</td>\n",
       "      <td>5.560275</td>\n",
       "    </tr>\n",
       "    <tr>\n",
       "      <th>50%</th>\n",
       "      <td>0.001353</td>\n",
       "      <td>3.801627</td>\n",
       "      <td>57.746335</td>\n",
       "      <td>3.012749</td>\n",
       "      <td>7.057700</td>\n",
       "      <td>7.753000e+02</td>\n",
       "      <td>2.900000e+01</td>\n",
       "      <td>1.110000e+01</td>\n",
       "      <td>1.879474e+02</td>\n",
       "      <td>1.845000e+00</td>\n",
       "      <td>...</td>\n",
       "      <td>7.072533</td>\n",
       "      <td>4.245727</td>\n",
       "      <td>2.968483</td>\n",
       "      <td>7.074229</td>\n",
       "      <td>4.221276</td>\n",
       "      <td>2.966060</td>\n",
       "      <td>7.076489</td>\n",
       "      <td>4.212579</td>\n",
       "      <td>2.968290</td>\n",
       "      <td>7.076489</td>\n",
       "    </tr>\n",
       "    <tr>\n",
       "      <th>75%</th>\n",
       "      <td>0.001649</td>\n",
       "      <td>6.273073</td>\n",
       "      <td>112.630556</td>\n",
       "      <td>4.262205</td>\n",
       "      <td>8.908900</td>\n",
       "      <td>7.780000e+02</td>\n",
       "      <td>4.500000e+01</td>\n",
       "      <td>1.740000e+01</td>\n",
       "      <td>2.556842e+02</td>\n",
       "      <td>2.865000e+00</td>\n",
       "      <td>...</td>\n",
       "      <td>8.888133</td>\n",
       "      <td>6.924200</td>\n",
       "      <td>4.122536</td>\n",
       "      <td>8.871520</td>\n",
       "      <td>6.915300</td>\n",
       "      <td>4.123222</td>\n",
       "      <td>8.856551</td>\n",
       "      <td>6.913749</td>\n",
       "      <td>4.133728</td>\n",
       "      <td>8.851050</td>\n",
       "    </tr>\n",
       "    <tr>\n",
       "      <th>max</th>\n",
       "      <td>0.003500</td>\n",
       "      <td>86.039498</td>\n",
       "      <td>169.053912</td>\n",
       "      <td>86.039498</td>\n",
       "      <td>24.857700</td>\n",
       "      <td>7.856000e+02</td>\n",
       "      <td>1.100000e+02</td>\n",
       "      <td>3.180000e+01</td>\n",
       "      <td>3.600000e+02</td>\n",
       "      <td>3.196667e+01</td>\n",
       "      <td>...</td>\n",
       "      <td>24.857700</td>\n",
       "      <td>86.039498</td>\n",
       "      <td>86.039498</td>\n",
       "      <td>22.076450</td>\n",
       "      <td>86.039498</td>\n",
       "      <td>86.039498</td>\n",
       "      <td>22.076450</td>\n",
       "      <td>86.039498</td>\n",
       "      <td>86.039498</td>\n",
       "      <td>20.808942</td>\n",
       "    </tr>\n",
       "  </tbody>\n",
       "</table>\n",
       "<p>8 rows × 32 columns</p>\n",
       "</div>"
      ],
      "text/plain": [
       "              o(I)_I             r0  solar_zenith_angle         r0_day  \\\n",
       "count  342443.000000  483758.000000       483758.000000  342443.000000   \n",
       "mean        0.001379       4.729702           71.757210       3.651714   \n",
       "std         0.000450       2.933261           41.077000       2.356312   \n",
       "min         0.000102       0.821452           10.943276       0.821452   \n",
       "25%         0.001060       2.571765           42.658571       2.299625   \n",
       "50%         0.001353       3.801627           57.746335       3.012749   \n",
       "75%         0.001649       6.273073          112.630556       4.262205   \n",
       "max         0.003500      86.039498          169.053912      86.039498   \n",
       "\n",
       "            r0_night      pressure  relative_humidity   temperature  \\\n",
       "count  141315.000000  1.740394e+06       1.653058e+06  1.653063e+06   \n",
       "mean        7.341948  7.746396e+02       3.542895e+01  1.103738e+01   \n",
       "std         2.521823  4.565213e+00       2.407449e+01  7.998990e+00   \n",
       "min         2.367400  7.516000e+02       1.000000e+00 -1.300000e+01   \n",
       "25%         5.500200  7.721000e+02       1.900000e+01  5.400000e+00   \n",
       "50%         7.057700  7.753000e+02       2.900000e+01  1.110000e+01   \n",
       "75%         8.908900  7.780000e+02       4.500000e+01  1.740000e+01   \n",
       "max        24.857700  7.856000e+02       1.100000e+02  3.180000e+01   \n",
       "\n",
       "       wind_direction    wind_speed  ...      r0_ngt_5T     r0_all_10T  \\\n",
       "count    1.783564e+06  1.783640e+06  ...  258373.000000  688752.000000   \n",
       "mean     1.908795e+02  2.313792e+00  ...       7.335459       5.099589   \n",
       "std      8.232246e+01  1.720400e+00  ...       2.474673       3.120671   \n",
       "min      1.450000e+00  3.500000e-02  ...       2.367400       0.821452   \n",
       "25%      1.401579e+02  1.185000e+00  ...       5.532833       2.712008   \n",
       "50%      1.879474e+02  1.845000e+00  ...       7.072533       4.245727   \n",
       "75%      2.556842e+02  2.865000e+00  ...       8.888133       6.924200   \n",
       "max      3.600000e+02  3.196667e+01  ...      24.857700      86.039498   \n",
       "\n",
       "          r0_day_10T     r0_ngt_10T     r0_all_15T     r0_day_15T  \\\n",
       "count  417620.000000  271132.000000  715555.000000  436672.000000   \n",
       "mean        3.656218       7.322788       5.086838       3.664591   \n",
       "std         2.624671       2.444669       3.124712       2.654920   \n",
       "min         0.821452       2.367400       0.821452       0.821452   \n",
       "25%         2.322928       5.543217       2.702915       2.322861   \n",
       "50%         2.968483       7.074229       4.221276       2.966060   \n",
       "75%         4.122536       8.871520       6.915300       4.123222   \n",
       "max        86.039498      22.076450      86.039498      86.039498   \n",
       "\n",
       "          r0_ngt_15T     r0_all_20T     r0_day_20T     r0_ngt_20T  \n",
       "count  278883.000000  736339.000000  451326.000000  285013.000000  \n",
       "mean        7.313778       5.081379       3.675858       7.307061  \n",
       "std         2.426685       3.122820       2.670015       2.413242  \n",
       "min         2.367400       0.821452       0.821452       2.367400  \n",
       "25%         5.551622       2.700245       2.324379       5.560275  \n",
       "50%         7.076489       4.212579       2.968290       7.076489  \n",
       "75%         8.856551       6.913749       4.133728       8.851050  \n",
       "max        22.076450      86.039498      86.039498      20.808942  \n",
       "\n",
       "[8 rows x 32 columns]"
      ]
     },
     "execution_count": 12,
     "metadata": {},
     "output_type": "execute_result"
    }
   ],
   "source": [
    "df.describe()"
   ]
  },
  {
   "cell_type": "markdown",
   "metadata": {
    "pycharm": {
     "name": "#%% md\n"
    }
   },
   "source": [
    "### restricting data to usable, relatively dense subset"
   ]
  },
  {
   "cell_type": "code",
   "execution_count": 13,
   "metadata": {
    "pycharm": {
     "name": "#%%\n"
    }
   },
   "outputs": [
    {
     "data": {
      "text/html": [
       "<div>\n",
       "<style scoped>\n",
       "    .dataframe tbody tr th:only-of-type {\n",
       "        vertical-align: middle;\n",
       "    }\n",
       "\n",
       "    .dataframe tbody tr th {\n",
       "        vertical-align: top;\n",
       "    }\n",
       "\n",
       "    .dataframe thead th {\n",
       "        text-align: right;\n",
       "    }\n",
       "</style>\n",
       "<table border=\"1\" class=\"dataframe\">\n",
       "  <thead>\n",
       "    <tr style=\"text-align: right;\">\n",
       "      <th></th>\n",
       "      <th>o(I)_I</th>\n",
       "      <th>r0</th>\n",
       "      <th>solar_zenith_angle</th>\n",
       "      <th>r0_day</th>\n",
       "      <th>r0_night</th>\n",
       "      <th>pressure</th>\n",
       "      <th>relative_humidity</th>\n",
       "      <th>temperature</th>\n",
       "      <th>wind_direction</th>\n",
       "      <th>wind_speed</th>\n",
       "      <th>...</th>\n",
       "      <th>r0_ngt_5T</th>\n",
       "      <th>r0_all_10T</th>\n",
       "      <th>r0_day_10T</th>\n",
       "      <th>r0_ngt_10T</th>\n",
       "      <th>r0_all_15T</th>\n",
       "      <th>r0_day_15T</th>\n",
       "      <th>r0_ngt_15T</th>\n",
       "      <th>r0_all_20T</th>\n",
       "      <th>r0_day_20T</th>\n",
       "      <th>r0_ngt_20T</th>\n",
       "    </tr>\n",
       "  </thead>\n",
       "  <tbody>\n",
       "    <tr>\n",
       "      <th>count</th>\n",
       "      <td>273728.000000</td>\n",
       "      <td>413091.000000</td>\n",
       "      <td>413091.000000</td>\n",
       "      <td>273728.000000</td>\n",
       "      <td>139363.000000</td>\n",
       "      <td>1.252046e+06</td>\n",
       "      <td>1.164787e+06</td>\n",
       "      <td>1.164792e+06</td>\n",
       "      <td>1.280385e+06</td>\n",
       "      <td>1.280461e+06</td>\n",
       "      <td>...</td>\n",
       "      <td>254844.000000</td>\n",
       "      <td>598586.000000</td>\n",
       "      <td>331070.000000</td>\n",
       "      <td>267516.000000</td>\n",
       "      <td>620687.000000</td>\n",
       "      <td>345468.000000</td>\n",
       "      <td>275219.000000</td>\n",
       "      <td>637842.000000</td>\n",
       "      <td>356538.000000</td>\n",
       "      <td>281304.000000</td>\n",
       "    </tr>\n",
       "    <tr>\n",
       "      <th>mean</th>\n",
       "      <td>0.001382</td>\n",
       "      <td>4.871890</td>\n",
       "      <td>74.698190</td>\n",
       "      <td>3.607425</td>\n",
       "      <td>7.355473</td>\n",
       "      <td>7.744021e+02</td>\n",
       "      <td>3.532743e+01</td>\n",
       "      <td>1.104439e+01</td>\n",
       "      <td>1.747172e+02</td>\n",
       "      <td>2.327763e+00</td>\n",
       "      <td>...</td>\n",
       "      <td>7.350375</td>\n",
       "      <td>5.288679</td>\n",
       "      <td>3.633298</td>\n",
       "      <td>7.337330</td>\n",
       "      <td>5.277392</td>\n",
       "      <td>3.643771</td>\n",
       "      <td>7.327991</td>\n",
       "      <td>5.272362</td>\n",
       "      <td>3.655958</td>\n",
       "      <td>7.321068</td>\n",
       "    </tr>\n",
       "    <tr>\n",
       "      <th>std</th>\n",
       "      <td>0.000448</td>\n",
       "      <td>2.995811</td>\n",
       "      <td>43.192050</td>\n",
       "      <td>2.357307</td>\n",
       "      <td>2.525811</td>\n",
       "      <td>4.687234e+00</td>\n",
       "      <td>2.406511e+01</td>\n",
       "      <td>7.993629e+00</td>\n",
       "      <td>6.763609e+01</td>\n",
       "      <td>1.770945e+00</td>\n",
       "      <td>...</td>\n",
       "      <td>2.478042</td>\n",
       "      <td>3.153837</td>\n",
       "      <td>2.647643</td>\n",
       "      <td>2.448015</td>\n",
       "      <td>3.154897</td>\n",
       "      <td>2.675779</td>\n",
       "      <td>2.430055</td>\n",
       "      <td>3.152587</td>\n",
       "      <td>2.692277</td>\n",
       "      <td>2.416628</td>\n",
       "    </tr>\n",
       "    <tr>\n",
       "      <th>min</th>\n",
       "      <td>0.000102</td>\n",
       "      <td>0.821452</td>\n",
       "      <td>10.943276</td>\n",
       "      <td>0.821452</td>\n",
       "      <td>2.367400</td>\n",
       "      <td>7.516000e+02</td>\n",
       "      <td>1.000000e+00</td>\n",
       "      <td>-1.300000e+01</td>\n",
       "      <td>2.050000e+00</td>\n",
       "      <td>3.500000e-02</td>\n",
       "      <td>...</td>\n",
       "      <td>2.367400</td>\n",
       "      <td>0.821452</td>\n",
       "      <td>0.821452</td>\n",
       "      <td>2.367400</td>\n",
       "      <td>0.821452</td>\n",
       "      <td>0.821452</td>\n",
       "      <td>2.367400</td>\n",
       "      <td>0.821452</td>\n",
       "      <td>0.821452</td>\n",
       "      <td>2.367400</td>\n",
       "    </tr>\n",
       "    <tr>\n",
       "      <th>25%</th>\n",
       "      <td>0.001066</td>\n",
       "      <td>2.599046</td>\n",
       "      <td>42.089154</td>\n",
       "      <td>2.273231</td>\n",
       "      <td>5.509100</td>\n",
       "      <td>7.718000e+02</td>\n",
       "      <td>1.900000e+01</td>\n",
       "      <td>5.200000e+00</td>\n",
       "      <td>1.163684e+02</td>\n",
       "      <td>1.163158e+00</td>\n",
       "      <td>...</td>\n",
       "      <td>5.544700</td>\n",
       "      <td>2.774620</td>\n",
       "      <td>2.302938</td>\n",
       "      <td>5.557414</td>\n",
       "      <td>2.766120</td>\n",
       "      <td>2.303350</td>\n",
       "      <td>5.564280</td>\n",
       "      <td>2.763078</td>\n",
       "      <td>2.305506</td>\n",
       "      <td>5.571400</td>\n",
       "    </tr>\n",
       "    <tr>\n",
       "      <th>50%</th>\n",
       "      <td>0.001360</td>\n",
       "      <td>3.969400</td>\n",
       "      <td>58.682654</td>\n",
       "      <td>2.966270</td>\n",
       "      <td>7.066600</td>\n",
       "      <td>7.751000e+02</td>\n",
       "      <td>2.900000e+01</td>\n",
       "      <td>1.110000e+01</td>\n",
       "      <td>1.835500e+02</td>\n",
       "      <td>1.826316e+00</td>\n",
       "      <td>...</td>\n",
       "      <td>7.084400</td>\n",
       "      <td>4.590917</td>\n",
       "      <td>2.927821</td>\n",
       "      <td>7.087367</td>\n",
       "      <td>4.576505</td>\n",
       "      <td>2.924869</td>\n",
       "      <td>7.089344</td>\n",
       "      <td>4.567925</td>\n",
       "      <td>2.926963</td>\n",
       "      <td>7.088850</td>\n",
       "    </tr>\n",
       "    <tr>\n",
       "      <th>75%</th>\n",
       "      <td>0.001653</td>\n",
       "      <td>6.553345</td>\n",
       "      <td>118.005308</td>\n",
       "      <td>4.196203</td>\n",
       "      <td>8.926700</td>\n",
       "      <td>7.779000e+02</td>\n",
       "      <td>4.500000e+01</td>\n",
       "      <td>1.750000e+01</td>\n",
       "      <td>2.090526e+02</td>\n",
       "      <td>2.880000e+00</td>\n",
       "      <td>...</td>\n",
       "      <td>8.905933</td>\n",
       "      <td>7.212560</td>\n",
       "      <td>4.079838</td>\n",
       "      <td>8.889617</td>\n",
       "      <td>7.207022</td>\n",
       "      <td>4.084673</td>\n",
       "      <td>8.876267</td>\n",
       "      <td>7.209000</td>\n",
       "      <td>4.099386</td>\n",
       "      <td>8.869192</td>\n",
       "    </tr>\n",
       "    <tr>\n",
       "      <th>max</th>\n",
       "      <td>0.003500</td>\n",
       "      <td>86.039498</td>\n",
       "      <td>169.053912</td>\n",
       "      <td>86.039498</td>\n",
       "      <td>24.857700</td>\n",
       "      <td>7.838000e+02</td>\n",
       "      <td>1.100000e+02</td>\n",
       "      <td>3.180000e+01</td>\n",
       "      <td>3.600000e+02</td>\n",
       "      <td>3.196667e+01</td>\n",
       "      <td>...</td>\n",
       "      <td>24.857700</td>\n",
       "      <td>86.039498</td>\n",
       "      <td>86.039498</td>\n",
       "      <td>22.076450</td>\n",
       "      <td>86.039498</td>\n",
       "      <td>86.039498</td>\n",
       "      <td>22.076450</td>\n",
       "      <td>86.039498</td>\n",
       "      <td>86.039498</td>\n",
       "      <td>20.808942</td>\n",
       "    </tr>\n",
       "  </tbody>\n",
       "</table>\n",
       "<p>8 rows × 32 columns</p>\n",
       "</div>"
      ],
      "text/plain": [
       "              o(I)_I             r0  solar_zenith_angle         r0_day  \\\n",
       "count  273728.000000  413091.000000       413091.000000  273728.000000   \n",
       "mean        0.001382       4.871890           74.698190       3.607425   \n",
       "std         0.000448       2.995811           43.192050       2.357307   \n",
       "min         0.000102       0.821452           10.943276       0.821452   \n",
       "25%         0.001066       2.599046           42.089154       2.273231   \n",
       "50%         0.001360       3.969400           58.682654       2.966270   \n",
       "75%         0.001653       6.553345          118.005308       4.196203   \n",
       "max         0.003500      86.039498          169.053912      86.039498   \n",
       "\n",
       "            r0_night      pressure  relative_humidity   temperature  \\\n",
       "count  139363.000000  1.252046e+06       1.164787e+06  1.164792e+06   \n",
       "mean        7.355473  7.744021e+02       3.532743e+01  1.104439e+01   \n",
       "std         2.525811  4.687234e+00       2.406511e+01  7.993629e+00   \n",
       "min         2.367400  7.516000e+02       1.000000e+00 -1.300000e+01   \n",
       "25%         5.509100  7.718000e+02       1.900000e+01  5.200000e+00   \n",
       "50%         7.066600  7.751000e+02       2.900000e+01  1.110000e+01   \n",
       "75%         8.926700  7.779000e+02       4.500000e+01  1.750000e+01   \n",
       "max        24.857700  7.838000e+02       1.100000e+02  3.180000e+01   \n",
       "\n",
       "       wind_direction    wind_speed  ...      r0_ngt_5T     r0_all_10T  \\\n",
       "count    1.280385e+06  1.280461e+06  ...  254844.000000  598586.000000   \n",
       "mean     1.747172e+02  2.327763e+00  ...       7.350375       5.288679   \n",
       "std      6.763609e+01  1.770945e+00  ...       2.478042       3.153837   \n",
       "min      2.050000e+00  3.500000e-02  ...       2.367400       0.821452   \n",
       "25%      1.163684e+02  1.163158e+00  ...       5.544700       2.774620   \n",
       "50%      1.835500e+02  1.826316e+00  ...       7.084400       4.590917   \n",
       "75%      2.090526e+02  2.880000e+00  ...       8.905933       7.212560   \n",
       "max      3.600000e+02  3.196667e+01  ...      24.857700      86.039498   \n",
       "\n",
       "          r0_day_10T     r0_ngt_10T     r0_all_15T     r0_day_15T  \\\n",
       "count  331070.000000  267516.000000  620687.000000  345468.000000   \n",
       "mean        3.633298       7.337330       5.277392       3.643771   \n",
       "std         2.647643       2.448015       3.154897       2.675779   \n",
       "min         0.821452       2.367400       0.821452       0.821452   \n",
       "25%         2.302938       5.557414       2.766120       2.303350   \n",
       "50%         2.927821       7.087367       4.576505       2.924869   \n",
       "75%         4.079838       8.889617       7.207022       4.084673   \n",
       "max        86.039498      22.076450      86.039498      86.039498   \n",
       "\n",
       "          r0_ngt_15T     r0_all_20T     r0_day_20T     r0_ngt_20T  \n",
       "count  275219.000000  637842.000000  356538.000000  281304.000000  \n",
       "mean        7.327991       5.272362       3.655958       7.321068  \n",
       "std         2.430055       3.152587       2.692277       2.416628  \n",
       "min         2.367400       0.821452       0.821452       2.367400  \n",
       "25%         5.564280       2.763078       2.305506       5.571400  \n",
       "50%         7.089344       4.567925       2.926963       7.088850  \n",
       "75%         8.876267       7.209000       4.099386       8.869192  \n",
       "max        22.076450      86.039498      86.039498      20.808942  \n",
       "\n",
       "[8 rows x 32 columns]"
      ]
     },
     "execution_count": 13,
     "metadata": {},
     "output_type": "execute_result"
    }
   ],
   "source": [
    "df_subset = df[(df.index > DENSE_SUBSET_START) & (df.index < DENSE_SUBSET_END)]\n",
    "df_subset.describe()"
   ]
  },
  {
   "cell_type": "markdown",
   "metadata": {},
   "source": [
    "### resampling back down to 5 mins"
   ]
  },
  {
   "cell_type": "code",
   "execution_count": 14,
   "metadata": {},
   "outputs": [
    {
     "data": {
      "text/html": [
       "<div>\n",
       "<style scoped>\n",
       "    .dataframe tbody tr th:only-of-type {\n",
       "        vertical-align: middle;\n",
       "    }\n",
       "\n",
       "    .dataframe tbody tr th {\n",
       "        vertical-align: top;\n",
       "    }\n",
       "\n",
       "    .dataframe thead th {\n",
       "        text-align: right;\n",
       "    }\n",
       "</style>\n",
       "<table border=\"1\" class=\"dataframe\">\n",
       "  <thead>\n",
       "    <tr style=\"text-align: right;\">\n",
       "      <th></th>\n",
       "      <th>o(I)_I</th>\n",
       "      <th>r0</th>\n",
       "      <th>solar_zenith_angle</th>\n",
       "      <th>r0_day</th>\n",
       "      <th>r0_night</th>\n",
       "      <th>pressure</th>\n",
       "      <th>relative_humidity</th>\n",
       "      <th>temperature</th>\n",
       "      <th>wind_direction</th>\n",
       "      <th>wind_speed</th>\n",
       "      <th>...</th>\n",
       "      <th>r0_ngt_5T</th>\n",
       "      <th>r0_all_10T</th>\n",
       "      <th>r0_day_10T</th>\n",
       "      <th>r0_ngt_10T</th>\n",
       "      <th>r0_all_15T</th>\n",
       "      <th>r0_day_15T</th>\n",
       "      <th>r0_ngt_15T</th>\n",
       "      <th>r0_all_20T</th>\n",
       "      <th>r0_day_20T</th>\n",
       "      <th>r0_ngt_20T</th>\n",
       "    </tr>\n",
       "  </thead>\n",
       "  <tbody>\n",
       "    <tr>\n",
       "      <th>count</th>\n",
       "      <td>61816.000000</td>\n",
       "      <td>112767.000000</td>\n",
       "      <td>112767.000000</td>\n",
       "      <td>61816.000000</td>\n",
       "      <td>50951.000000</td>\n",
       "      <td>256360.000000</td>\n",
       "      <td>239076.000000</td>\n",
       "      <td>239077.000000</td>\n",
       "      <td>256372.000000</td>\n",
       "      <td>256386.000000</td>\n",
       "      <td>...</td>\n",
       "      <td>53106.000000</td>\n",
       "      <td>123307.000000</td>\n",
       "      <td>68556.000000</td>\n",
       "      <td>54751.000000</td>\n",
       "      <td>126881.000000</td>\n",
       "      <td>70871.000000</td>\n",
       "      <td>56010.000000</td>\n",
       "      <td>129839.000000</td>\n",
       "      <td>72747.000000</td>\n",
       "      <td>57092.000000</td>\n",
       "    </tr>\n",
       "    <tr>\n",
       "      <th>mean</th>\n",
       "      <td>0.001417</td>\n",
       "      <td>5.282660</td>\n",
       "      <td>84.396171</td>\n",
       "      <td>3.577739</td>\n",
       "      <td>7.351144</td>\n",
       "      <td>774.401450</td>\n",
       "      <td>35.501078</td>\n",
       "      <td>11.022659</td>\n",
       "      <td>174.671009</td>\n",
       "      <td>2.320158</td>\n",
       "      <td>...</td>\n",
       "      <td>7.339237</td>\n",
       "      <td>5.274953</td>\n",
       "      <td>3.634919</td>\n",
       "      <td>7.328508</td>\n",
       "      <td>5.270614</td>\n",
       "      <td>3.649666</td>\n",
       "      <td>7.321646</td>\n",
       "      <td>5.270526</td>\n",
       "      <td>3.665283</td>\n",
       "      <td>7.315937</td>\n",
       "    </tr>\n",
       "    <tr>\n",
       "      <th>std</th>\n",
       "      <td>0.000480</td>\n",
       "      <td>3.156839</td>\n",
       "      <td>44.883292</td>\n",
       "      <td>2.572347</td>\n",
       "      <td>2.494635</td>\n",
       "      <td>4.685693</td>\n",
       "      <td>24.264907</td>\n",
       "      <td>8.002353</td>\n",
       "      <td>65.553669</td>\n",
       "      <td>1.746939</td>\n",
       "      <td>...</td>\n",
       "      <td>2.480251</td>\n",
       "      <td>3.183171</td>\n",
       "      <td>2.713971</td>\n",
       "      <td>2.451988</td>\n",
       "      <td>3.181179</td>\n",
       "      <td>2.735333</td>\n",
       "      <td>2.434412</td>\n",
       "      <td>3.175887</td>\n",
       "      <td>2.746550</td>\n",
       "      <td>2.420576</td>\n",
       "    </tr>\n",
       "    <tr>\n",
       "      <th>min</th>\n",
       "      <td>0.000103</td>\n",
       "      <td>0.821452</td>\n",
       "      <td>10.945537</td>\n",
       "      <td>0.821452</td>\n",
       "      <td>2.367400</td>\n",
       "      <td>752.100000</td>\n",
       "      <td>1.000000</td>\n",
       "      <td>-13.000000</td>\n",
       "      <td>6.000000</td>\n",
       "      <td>0.100000</td>\n",
       "      <td>...</td>\n",
       "      <td>2.367400</td>\n",
       "      <td>0.821452</td>\n",
       "      <td>0.821452</td>\n",
       "      <td>2.367400</td>\n",
       "      <td>0.821452</td>\n",
       "      <td>0.821452</td>\n",
       "      <td>2.367400</td>\n",
       "      <td>0.821452</td>\n",
       "      <td>0.821452</td>\n",
       "      <td>2.367400</td>\n",
       "    </tr>\n",
       "    <tr>\n",
       "      <th>25%</th>\n",
       "      <td>0.001100</td>\n",
       "      <td>2.742663</td>\n",
       "      <td>46.747923</td>\n",
       "      <td>2.249879</td>\n",
       "      <td>5.535800</td>\n",
       "      <td>771.800000</td>\n",
       "      <td>19.000000</td>\n",
       "      <td>5.200000</td>\n",
       "      <td>117.100000</td>\n",
       "      <td>1.170000</td>\n",
       "      <td>...</td>\n",
       "      <td>5.540250</td>\n",
       "      <td>2.756131</td>\n",
       "      <td>2.286729</td>\n",
       "      <td>5.547667</td>\n",
       "      <td>2.754904</td>\n",
       "      <td>2.291331</td>\n",
       "      <td>5.558050</td>\n",
       "      <td>2.755582</td>\n",
       "      <td>2.297297</td>\n",
       "      <td>5.564725</td>\n",
       "    </tr>\n",
       "    <tr>\n",
       "      <th>50%</th>\n",
       "      <td>0.001391</td>\n",
       "      <td>4.598131</td>\n",
       "      <td>67.380905</td>\n",
       "      <td>2.890970</td>\n",
       "      <td>7.084400</td>\n",
       "      <td>775.100000</td>\n",
       "      <td>29.000000</td>\n",
       "      <td>11.100000</td>\n",
       "      <td>183.700000</td>\n",
       "      <td>1.820000</td>\n",
       "      <td>...</td>\n",
       "      <td>7.081433</td>\n",
       "      <td>4.565700</td>\n",
       "      <td>2.916605</td>\n",
       "      <td>7.082917</td>\n",
       "      <td>4.561744</td>\n",
       "      <td>2.918465</td>\n",
       "      <td>7.084845</td>\n",
       "      <td>4.563890</td>\n",
       "      <td>2.922754</td>\n",
       "      <td>7.085142</td>\n",
       "    </tr>\n",
       "    <tr>\n",
       "      <th>75%</th>\n",
       "      <td>0.001665</td>\n",
       "      <td>7.213450</td>\n",
       "      <td>124.278989</td>\n",
       "      <td>4.056879</td>\n",
       "      <td>8.913350</td>\n",
       "      <td>777.800000</td>\n",
       "      <td>45.000000</td>\n",
       "      <td>17.500000</td>\n",
       "      <td>207.526316</td>\n",
       "      <td>2.866667</td>\n",
       "      <td>...</td>\n",
       "      <td>8.900000</td>\n",
       "      <td>7.204868</td>\n",
       "      <td>4.077276</td>\n",
       "      <td>8.885463</td>\n",
       "      <td>7.206033</td>\n",
       "      <td>4.088772</td>\n",
       "      <td>8.873300</td>\n",
       "      <td>7.207808</td>\n",
       "      <td>4.106606</td>\n",
       "      <td>8.865285</td>\n",
       "    </tr>\n",
       "    <tr>\n",
       "      <th>max</th>\n",
       "      <td>0.003500</td>\n",
       "      <td>81.041189</td>\n",
       "      <td>169.048530</td>\n",
       "      <td>81.041189</td>\n",
       "      <td>23.229000</td>\n",
       "      <td>783.800000</td>\n",
       "      <td>110.000000</td>\n",
       "      <td>31.500000</td>\n",
       "      <td>353.789474</td>\n",
       "      <td>20.285000</td>\n",
       "      <td>...</td>\n",
       "      <td>22.076450</td>\n",
       "      <td>77.232305</td>\n",
       "      <td>77.232305</td>\n",
       "      <td>22.076450</td>\n",
       "      <td>77.232305</td>\n",
       "      <td>77.232305</td>\n",
       "      <td>22.076450</td>\n",
       "      <td>77.232305</td>\n",
       "      <td>77.232305</td>\n",
       "      <td>20.613085</td>\n",
       "    </tr>\n",
       "  </tbody>\n",
       "</table>\n",
       "<p>8 rows × 32 columns</p>\n",
       "</div>"
      ],
      "text/plain": [
       "             o(I)_I             r0  solar_zenith_angle        r0_day  \\\n",
       "count  61816.000000  112767.000000       112767.000000  61816.000000   \n",
       "mean       0.001417       5.282660           84.396171      3.577739   \n",
       "std        0.000480       3.156839           44.883292      2.572347   \n",
       "min        0.000103       0.821452           10.945537      0.821452   \n",
       "25%        0.001100       2.742663           46.747923      2.249879   \n",
       "50%        0.001391       4.598131           67.380905      2.890970   \n",
       "75%        0.001665       7.213450          124.278989      4.056879   \n",
       "max        0.003500      81.041189          169.048530     81.041189   \n",
       "\n",
       "           r0_night       pressure  relative_humidity    temperature  \\\n",
       "count  50951.000000  256360.000000      239076.000000  239077.000000   \n",
       "mean       7.351144     774.401450          35.501078      11.022659   \n",
       "std        2.494635       4.685693          24.264907       8.002353   \n",
       "min        2.367400     752.100000           1.000000     -13.000000   \n",
       "25%        5.535800     771.800000          19.000000       5.200000   \n",
       "50%        7.084400     775.100000          29.000000      11.100000   \n",
       "75%        8.913350     777.800000          45.000000      17.500000   \n",
       "max       23.229000     783.800000         110.000000      31.500000   \n",
       "\n",
       "       wind_direction     wind_speed  ...     r0_ngt_5T     r0_all_10T  \\\n",
       "count   256372.000000  256386.000000  ...  53106.000000  123307.000000   \n",
       "mean       174.671009       2.320158  ...      7.339237       5.274953   \n",
       "std         65.553669       1.746939  ...      2.480251       3.183171   \n",
       "min          6.000000       0.100000  ...      2.367400       0.821452   \n",
       "25%        117.100000       1.170000  ...      5.540250       2.756131   \n",
       "50%        183.700000       1.820000  ...      7.081433       4.565700   \n",
       "75%        207.526316       2.866667  ...      8.900000       7.204868   \n",
       "max        353.789474      20.285000  ...     22.076450      77.232305   \n",
       "\n",
       "         r0_day_10T    r0_ngt_10T     r0_all_15T    r0_day_15T    r0_ngt_15T  \\\n",
       "count  68556.000000  54751.000000  126881.000000  70871.000000  56010.000000   \n",
       "mean       3.634919      7.328508       5.270614      3.649666      7.321646   \n",
       "std        2.713971      2.451988       3.181179      2.735333      2.434412   \n",
       "min        0.821452      2.367400       0.821452      0.821452      2.367400   \n",
       "25%        2.286729      5.547667       2.754904      2.291331      5.558050   \n",
       "50%        2.916605      7.082917       4.561744      2.918465      7.084845   \n",
       "75%        4.077276      8.885463       7.206033      4.088772      8.873300   \n",
       "max       77.232305     22.076450      77.232305     77.232305     22.076450   \n",
       "\n",
       "          r0_all_20T    r0_day_20T    r0_ngt_20T  \n",
       "count  129839.000000  72747.000000  57092.000000  \n",
       "mean        5.270526      3.665283      7.315937  \n",
       "std         3.175887      2.746550      2.420576  \n",
       "min         0.821452      0.821452      2.367400  \n",
       "25%         2.755582      2.297297      5.564725  \n",
       "50%         4.563890      2.922754      7.085142  \n",
       "75%         7.207808      4.106606      8.865285  \n",
       "max        77.232305     77.232305     20.613085  \n",
       "\n",
       "[8 rows x 32 columns]"
      ]
     },
     "execution_count": 14,
     "metadata": {},
     "output_type": "execute_result"
    }
   ],
   "source": [
    "df_subset_resamp5 = df_subset.resample('5 min').median()\n",
    "df_subset_resamp5.describe()"
   ]
  },
  {
   "cell_type": "markdown",
   "metadata": {
    "pycharm": {
     "name": "#%%\n"
    }
   },
   "source": [
    "### taking the train and test"
   ]
  },
  {
   "cell_type": "code",
   "execution_count": 15,
   "metadata": {
    "pycharm": {
     "name": "#%%\n"
    }
   },
   "outputs": [],
   "source": [
    "split_date = '2019-12-31'\n",
    "train = df_subset.index <= split_date\n",
    "test  = df_subset.index > split_date"
   ]
  },
  {
   "cell_type": "markdown",
   "metadata": {
    "pycharm": {
     "name": "#%% md\n"
    }
   },
   "source": [
    "### creating non-nan masks"
   ]
  },
  {
   "cell_type": "code",
   "execution_count": 16,
   "metadata": {},
   "outputs": [
    {
     "name": "stdout",
     "output_type": "stream",
     "text": [
      "feats_plus_cn2 all  1  251681   98859\n",
      "feats_plus_cn2 all  2  251681   98859\n",
      "feats_plus_cn2 all  5  251681   98859\n",
      "feats_plus_cn2 all 10  251681   98859\n",
      "feats_plus_cn2 all 15  251681   98859\n",
      "feats_plus_cn2 all 20  251681   98859\n",
      "feats_plus_cn2 day  1  174044   53074\n",
      "feats_plus_cn2 day  2  174044   53074\n",
      "feats_plus_cn2 day  5  174044   53074\n",
      "feats_plus_cn2 day 10  174044   53074\n",
      "feats_plus_cn2 day 15  174044   53074\n",
      "feats_plus_cn2 day 20  174044   53074\n",
      "feats_plus_cn2 ngt  1   77637   45785\n",
      "feats_plus_cn2 ngt  2   77637   45785\n",
      "feats_plus_cn2 ngt  5   77637   45785\n",
      "feats_plus_cn2 ngt 10   77637   45785\n",
      "feats_plus_cn2 ngt 15   77637   45785\n",
      "feats_plus_cn2 ngt 20   77637   45785\n",
      "feats_mnus_cn2 all  1  277105  103478\n",
      "feats_mnus_cn2 all  2  277105  103478\n",
      "feats_mnus_cn2 all  5  277105  103478\n",
      "feats_mnus_cn2 all 10  277105  103478\n",
      "feats_mnus_cn2 all 15  277105  103478\n",
      "feats_mnus_cn2 all 20  277105  103478\n",
      "feats_mnus_cn2 day  1  197939   56874\n",
      "feats_mnus_cn2 day  2  197939   56874\n",
      "feats_mnus_cn2 day  5  197939   56874\n",
      "feats_mnus_cn2 day 10  197939   56874\n",
      "feats_mnus_cn2 day 15  197939   56874\n",
      "feats_mnus_cn2 day 20  197939   56874\n",
      "feats_mnus_cn2 ngt  1   79166   46604\n",
      "feats_mnus_cn2 ngt  2   79166   46604\n",
      "feats_mnus_cn2 ngt  5   79166   46604\n",
      "feats_mnus_cn2 ngt 10   79166   46604\n",
      "feats_mnus_cn2 ngt 15   79166   46604\n",
      "feats_mnus_cn2 ngt 20   79166   46604\n"
     ]
    }
   ],
   "source": [
    "valid_masks = {}\n",
    "for f in feats_map.keys(): \n",
    "    valid_masks[f] = {}\n",
    "    for r in r0_map.keys():\n",
    "        valid_masks[f][r] = {}\n",
    "        for m in smooth_mins:\n",
    "            label = '{}_{}T'.format(r0_map[r], str(m))\n",
    "            feats_plus_label = feats_map[f] + [label]\n",
    "            valid_masks[f][r][m] = ~df_subset[feats_plus_label].isnull().any(axis=1)\n",
    "            print(\"{} {} {:2} {:7} {:7}\".format(f, r, m, np.sum(train & valid_masks[f][r][m]), np.sum(test & valid_masks[f][r][m])))"
   ]
  },
  {
   "cell_type": "markdown",
   "metadata": {
    "pycharm": {
     "name": "#%% md\n"
    }
   },
   "source": [
    "### train and test subroutine"
   ]
  },
  {
   "cell_type": "code",
   "execution_count": 17,
   "metadata": {
    "pycharm": {
     "name": "#%%\n"
    }
   },
   "outputs": [],
   "source": [
    "def train_and_test(train_df, test_df, feats, label):\n",
    "    regr = RandomForestRegressor(n_estimators=100, random_state=0)\n",
    "    forest = regr.fit(train_df[feats], train_df[label])\n",
    "#     r2 = regr.score(test_df[feats], test_df[label])\n",
    "    preds = regr.predict(test_df[feats])\n",
    "    r2 = r2_score(test_df[label], preds)\n",
    "    sq_err = mean_squared_error(test_df[label], preds)\n",
    "    perc_err = mean_absolute_percentage_error(test_df[label], preds)\n",
    "    return {'forest': forest, 'preds': preds, 'r2': r2, 'sq_err': sq_err, 'perc_err': perc_err}"
   ]
  },
  {
   "cell_type": "markdown",
   "metadata": {},
   "source": [
    "### Get All Results"
   ]
  },
  {
   "cell_type": "code",
   "execution_count": null,
   "metadata": {},
   "outputs": [
    {
     "name": "stdout",
     "output_type": "stream",
     "text": [
      "Progress: feats_plus_cn2 all 1\n"
     ]
    }
   ],
   "source": [
    "results = {}\n",
    "for f in feats_map.keys(): \n",
    "    results[f] = {}\n",
    "    for r in r0_map.keys():\n",
    "        results[f][r] = {}\n",
    "        for m in smooth_mins:\n",
    "            print(\"Progress: {} {} {}\".format(f, r, m))\n",
    "            label = '{}_{}T'.format(r0_map[r], str(m))\n",
    "            feats = feats_map[f]\n",
    "            valid = valid_masks[f][r][m]\n",
    "            results[f][r][m] = train_and_test(df_subset.loc[train & valid], df_subset.loc[test & valid], feats, label)\n",
    "            with open('data.merged.smoothed.resampled.pkl', 'wb') as fh:\n",
    "                pickle.dump(results, fh)"
   ]
  },
  {
   "cell_type": "markdown",
   "metadata": {},
   "source": [
    "### Save File"
   ]
  },
  {
   "cell_type": "code",
   "execution_count": null,
   "metadata": {},
   "outputs": [],
   "source": [
    "with open('data.merged.smoothed.resampled.pkl', 'wb') as fh:\n",
    "    pickle.dump(results, fh)"
   ]
  },
  {
   "cell_type": "markdown",
   "metadata": {},
   "source": [
    "### Compare all Results"
   ]
  },
  {
   "cell_type": "code",
   "execution_count": null,
   "metadata": {},
   "outputs": [],
   "source": [
    "# for r in [ results_all_1T, results_all_2T, results_all_5T, results_all_10T, results_all_15T, results_all_20T ]:\n",
    "#     print(f\"{r['r2']:.5},{r['sq_err']:.5},{r['perc_err']:.5}\")"
   ]
  },
  {
   "cell_type": "code",
   "execution_count": null,
   "metadata": {},
   "outputs": [],
   "source": [
    "# for r in [ results_day_1T, results_day_2T, results_day_5T, results_day_10T, results_day_15T, results_day_20T ]:\n",
    "#     print(f\"{r['r2']:.5},{r['sq_err']:.5},{r['perc_err']:.5}\")"
   ]
  },
  {
   "cell_type": "code",
   "execution_count": null,
   "metadata": {},
   "outputs": [],
   "source": [
    "# for r in [ results_night_1T, results_night_2T, results_night_5T, results_night_10T, results_night_15T, results_night_20T ]:\n",
    "#     print(f\"{r['r2']:.5},{r['sq_err']:.5},{r['perc_err']:.5}\")"
   ]
  },
  {
   "cell_type": "code",
   "execution_count": null,
   "metadata": {},
   "outputs": [],
   "source": [
    "# scatter_with_errors(test_truth_day, test_preds_day, test_perc_err_day, xmin, xmax, ymin, ymax)\n",
    "# plot_importance(regr, df_subset.loc[train&valid_day,feats], feats)"
   ]
  },
  {
   "cell_type": "code",
   "execution_count": null,
   "metadata": {},
   "outputs": [],
   "source": [
    "# scatter_with_errors(test_truth_day, test_preds_day, test_perc_err_day, xmin, xmax, ymin, ymax)\n",
    "# plot_importance(regr, df_subset.loc[train&valid_day,feats], feats)"
   ]
  },
  {
   "cell_type": "code",
   "execution_count": null,
   "metadata": {},
   "outputs": [],
   "source": [
    "# error_by_r0_histograms(test_truth_all, error_perc(test_truth_all, test_preds_all), 0, 80)\n",
    "# error_by_r0_histograms(test_truth_day, error_perc(test_truth_day, test_preds_day), 0, 80)\n",
    "# error_by_r0_histograms(test_truth_night, error_perc(test_truth_night, test_preds_night), 0, 80)"
   ]
  },
  {
   "cell_type": "code",
   "execution_count": null,
   "metadata": {},
   "outputs": [],
   "source": [
    "# test_truth_night = df_subset.loc[test&valid_night,label_night]\n",
    "# test_truth_day = df_subset.loc[test&valid_day,label_day]\n",
    "# test_truth_all = df_subset.loc[test&valid,label]"
   ]
  },
  {
   "cell_type": "code",
   "execution_count": null,
   "metadata": {},
   "outputs": [],
   "source": [
    "# test_truth_night_15T = df_subset.loc[test&valid_night,'r0_night_15T']\n",
    "# test_pred_night_15T = results_night_10T['preds']\n",
    "# error_by_r0_histograms(test_truth_night_15T, error_perc(test_truth_night_15T, test_pred_night_15T), 0, 80)\n",
    "# scatter_with_errors(test_truth_night_15T, test_pred_night_15T, error_perc, xmin, xmax, ymin, ymax)"
   ]
  },
  {
   "cell_type": "code",
   "execution_count": null,
   "metadata": {},
   "outputs": [],
   "source": [
    "# test_truth_day_15T = df_subset.loc[test&valid_day,'r0_day_15T']\n",
    "# test_pred_day_15T = results_day_15T['preds']\n",
    "# error_by_r0_histograms(test_truth_day_15T, error_perc(test_truth_day_15T, test_pred_day_15T), 0, 90)\n",
    "# scatter_with_errors(test_truth_day_15T, test_pred_day_15T, error_perc, xmin, xmax, ymin, ymax)"
   ]
  },
  {
   "cell_type": "markdown",
   "metadata": {},
   "source": [
    "### Plotting"
   ]
  },
  {
   "cell_type": "markdown",
   "metadata": {
    "pycharm": {
     "name": "#%%\n"
    }
   },
   "source": [
    "#### scatter plots of actual vs. predict using error_diff"
   ]
  },
  {
   "cell_type": "code",
   "execution_count": null,
   "metadata": {},
   "outputs": [],
   "source": [
    "# %matplotlib inline\n",
    "# scatter_with_errors(test_truth_all, test_preds_all, error_perc, xmin, xmax, ymin, ymax)\n",
    "\n",
    "# scatter_with_errors(test_truth_night, test_preds_night, error_perc, xmin, xmax, ymin, ymax)\n",
    "# plot_importance(regr, df_subset.loc[train&valid_night,feats], feats)\n",
    "\n",
    "# scatter_with_errors(test_truth_night, test_preds_night, error_perc, xmin, xmax, ymin, ymax)\n",
    "# plot_importance(regr, df_subset.loc[train&valid_night,feats], feats)"
   ]
  },
  {
   "cell_type": "markdown",
   "metadata": {},
   "source": []
  },
  {
   "cell_type": "markdown",
   "metadata": {},
   "source": [
    "#### interactive time domain plot of errors\n",
    "\n",
    "switching matplotlib to notebook mode to enable a zoom-in of different portions of the time axis"
   ]
  },
  {
   "cell_type": "code",
   "execution_count": null,
   "metadata": {},
   "outputs": [],
   "source": [
    "# %matplotlib notebook \n",
    "# plot_errors_in_time(test_truth_all, test_preds_all)"
   ]
  },
  {
   "cell_type": "markdown",
   "metadata": {},
   "source": [
    "#### feature importance\n",
    "\n",
    "feature importance from the model"
   ]
  },
  {
   "cell_type": "code",
   "execution_count": null,
   "metadata": {},
   "outputs": [],
   "source": [
    "# %matplotlib inline"
   ]
  },
  {
   "cell_type": "code",
   "execution_count": null,
   "metadata": {},
   "outputs": [],
   "source": [
    "# plot_importance(regr, df_subset.loc[train&valid,feats], feats)"
   ]
  },
  {
   "cell_type": "markdown",
   "metadata": {},
   "source": [
    "## debug why CN2 is so low\n",
    "\n",
    "#### What happens if I drop month and SZA\n",
    "\n",
    "Answer: turns out we had to take the log of CN2"
   ]
  },
  {
   "cell_type": "code",
   "execution_count": null,
   "metadata": {},
   "outputs": [],
   "source": [
    "# feats_no_sza = ['pressure', 'relative_humidity', 'temperature', 'wind_speed', 'logCn2']\n",
    "# preds_all_no_sza, r2_all_no_sza = train_and_test(df_subset.loc[train & valid], df_subset.loc[test & valid], feats_no_sza, label)\n",
    "# scatter_with_errors(test_truth_all, preds_all_no_sza, error_perc, xmin, xmax, ymin, ymax)\n",
    "# plot_importance(regr, df_subset.loc[train&valid,feats_no_sza], feats_no_sza)\n",
    "# r2_all_no_sza"
   ]
  },
  {
   "cell_type": "markdown",
   "metadata": {},
   "source": [
    "#### correlation between the signals using [stats.pearsonr](https://towardsdatascience.com/four-ways-to-quantify-synchrony-between-time-series-data-b99136c4a9c9)\n",
    "\n",
    "We calculate:\n",
    "- overall synchrony between r0 and Cn2\n",
    "- local synchrony between r0 and Cn2"
   ]
  },
  {
   "cell_type": "markdown",
   "metadata": {},
   "source": [
    "#### Overall Synchrony"
   ]
  },
  {
   "cell_type": "code",
   "execution_count": null,
   "metadata": {},
   "outputs": [],
   "source": []
  },
  {
   "cell_type": "code",
   "execution_count": null,
   "metadata": {},
   "outputs": [],
   "source": [
    "    # r, p = print_pearsonr(df_subset.loc[train&valid,label], df_subset.loc[train&valid,'logCn2'])\n",
    "# plot_overall_synchrony(df_subset.loc[train&valid,label], df_subset.loc[train&valid,['logCn2']], label, 'logCn2', r)"
   ]
  },
  {
   "cell_type": "markdown",
   "metadata": {},
   "source": [
    "#### Local Synchrony"
   ]
  },
  {
   "cell_type": "code",
   "execution_count": null,
   "metadata": {},
   "outputs": [],
   "source": [
    "# plot_local_synchrony(df_subset.loc[train&valid,label], df_subset.loc[train&valid,['logCn2']], label, 'Cn2')"
   ]
  },
  {
   "cell_type": "markdown",
   "metadata": {},
   "source": [
    "## Synchrony using only R0 daytime data"
   ]
  },
  {
   "cell_type": "markdown",
   "metadata": {},
   "source": [
    "#### Overall Synchrony"
   ]
  },
  {
   "cell_type": "code",
   "execution_count": null,
   "metadata": {},
   "outputs": [],
   "source": [
    "# r, p = print_pearsonr(df_subset.loc[train&valid_day,label_day], df_subset.loc[train&valid_day,'logCn2'])\n",
    "# r"
   ]
  },
  {
   "cell_type": "code",
   "execution_count": null,
   "metadata": {},
   "outputs": [],
   "source": [
    "# plot_overall_synchrony(df_subset.loc[train&valid_day,label_day], df_subset.loc[train&valid_day,['logCn2']], label_day, 'logCn2', r)"
   ]
  },
  {
   "cell_type": "markdown",
   "metadata": {},
   "source": [
    "#### Local Synchrony"
   ]
  },
  {
   "cell_type": "code",
   "execution_count": null,
   "metadata": {},
   "outputs": [],
   "source": [
    "# plot_local_synchrony(df_subset.loc[train&valid_day,label_day], df_subset.loc[train&valid_day,['logCn2']], label_day, 'logCn2')"
   ]
  },
  {
   "cell_type": "markdown",
   "metadata": {},
   "source": [
    "## Try comparing results without CN2"
   ]
  },
  {
   "cell_type": "code",
   "execution_count": null,
   "metadata": {},
   "outputs": [],
   "source": [
    "# results_all_15T_nocn2 = train_and_test(df_subset.loc[train & valid], df_subset.loc[test & valid], feats_minus_cn2, 'r0_15T')"
   ]
  },
  {
   "cell_type": "code",
   "execution_count": null,
   "metadata": {},
   "outputs": [],
   "source": [
    "# results_day_15T_nocn2 = train_and_test(df_subset.loc[train & valid_day], df_subset.loc[test & valid_day], feats_minus_cn2, 'r0_day_15T')"
   ]
  },
  {
   "cell_type": "code",
   "execution_count": null,
   "metadata": {},
   "outputs": [],
   "source": [
    "# results_night_15T_nocn2 = train_and_test(df_subset.loc[train & valid_night], df_subset.loc[test & valid_night], feats_minus_cn2, 'r0_night_15T')"
   ]
  },
  {
   "cell_type": "code",
   "execution_count": null,
   "metadata": {},
   "outputs": [],
   "source": [
    "# for r in [ results_all_15T, results_all_15T_nocn2 ]:\n",
    "#     print(f\"{r['r2']:.5},{r['sq_err']:.5},{r['perc_err']:.5}\")"
   ]
  },
  {
   "cell_type": "code",
   "execution_count": null,
   "metadata": {},
   "outputs": [],
   "source": [
    "# for r in [ results_day_15T, results_day_15T_nocn2 ]:\n",
    "#     print(f\"{r['r2']:.5},{r['sq_err']:.5},{r['perc_err']:.5}\")"
   ]
  },
  {
   "cell_type": "code",
   "execution_count": null,
   "metadata": {},
   "outputs": [],
   "source": [
    "# for r in [ results_night_15T, results_night_15T_nocn2 ]:\n",
    "#     print(f\"{r['r2']:.5},{r['sq_err']:.5},{r['perc_err']:.5}\")"
   ]
  },
  {
   "cell_type": "code",
   "execution_count": null,
   "metadata": {},
   "outputs": [],
   "source": [
    "# plot_importance(results_all_15T['forest'], df_subset.loc[train & valid, feats], feats)"
   ]
  },
  {
   "cell_type": "code",
   "execution_count": null,
   "metadata": {},
   "outputs": [],
   "source": [
    "# test_truth_night_15T = df_subset.loc[test&valid_night,'r0_night_15T']\n",
    "# test_pred_night_15T = results_night_10T['preds']\n",
    "# error_by_r0_histograms(test_truth_night_15T, error_perc(test_truth_night_15T, test_pred_night_15T), 0, 80)\n",
    "# scatter_with_errors(test_truth_night_15T, test_pred_night_15T, error_perc, xmin, xmax, ymin, ymax)"
   ]
  },
  {
   "cell_type": "markdown",
   "metadata": {},
   "source": [
    "## Why R2 so weird?"
   ]
  },
  {
   "cell_type": "code",
   "execution_count": null,
   "metadata": {},
   "outputs": [],
   "source": [
    "# print(\"{:.5}\".format(np.var(df_subset.loc[test&valid_night,'r0_night'])))\n",
    "# print(\"{:.5}\".format(np.var(df_subset.loc[test&valid_night,'r0_night_2T'])))\n",
    "# print(\"{:.5}\".format(np.var(df_subset.loc[test&valid_night,'r0_night_5T'])))\n",
    "# print(\"{:.5}\".format(np.var(df_subset.loc[test&valid_night,'r0_night_10T'])))\n",
    "# print(\"{:.5}\".format(np.var(df_subset.loc[test&valid_night,'r0_night_15T'])))\n",
    "# print(\"{:.5}\".format(np.var(df_subset.loc[test&valid_night,'r0_night_20T'])))"
   ]
  },
  {
   "cell_type": "markdown",
   "metadata": {},
   "source": [
    "## Plot One Day"
   ]
  },
  {
   "cell_type": "code",
   "execution_count": null,
   "metadata": {},
   "outputs": [],
   "source": [
    "# def plot_one_day(preds, smooth_df, orig_df, startdate, enddate):\n",
    "\n",
    "#     preds_df = pd.DataFrame(preds, index=smooth_df.index) \n",
    "\n",
    "#     daymask = (orig_df.index > startdate ) & (orig_df.index < enddate)\n",
    "\n",
    "#     plt.figure(figsize=(20, 5))\n",
    "#     plt.plot(orig_df[daymask], 'g.', label='r0')\n",
    "#     plt.plot(smooth_df[daymask], 'b.', label='r0 smoothed (15min)')\n",
    "#     plt.plot(preds_df[daymask], 'r.', label='preds')\n",
    "#     plt.ylabel('r0')\n",
    "#     plt.legend()\n",
    "#     return"
   ]
  },
  {
   "cell_type": "code",
   "execution_count": null,
   "metadata": {},
   "outputs": [],
   "source": [
    "# plot_one_day(results_all_15T['preds'], df_subset.loc[test & valid, 'r0_15T'], df_subset.loc[test & valid, 'r0'], '2020-05-30 04:00', '2020-05-31')\n"
   ]
  },
  {
   "cell_type": "code",
   "execution_count": null,
   "metadata": {},
   "outputs": [],
   "source": [
    "# plot_one_day(results_all_15T['preds'], df_subset.loc[test & valid, 'r0_15T'], df_subset.loc[test & valid, 'r0'], '2020-08-30 04:00', '2020-08-31 00:00')"
   ]
  },
  {
   "cell_type": "code",
   "execution_count": null,
   "metadata": {},
   "outputs": [],
   "source": [
    "# plot_one_day(results_all_15T['preds'], df_subset.loc[test & valid, 'r0_15T'], df_subset.loc[test & valid, 'r0'], '2020-02-15 04:00', '2020-02-16 00:00')"
   ]
  },
  {
   "cell_type": "code",
   "execution_count": null,
   "metadata": {},
   "outputs": [],
   "source": [
    "# plot_one_day(results_all_15T['preds'], df_subset.loc[test & valid, 'r0_15T'], df_subset.loc[test & valid, 'r0'], '2020-11-15 04:00', '2020-11-16 00:00')"
   ]
  },
  {
   "cell_type": "code",
   "execution_count": null,
   "metadata": {},
   "outputs": [],
   "source": []
  }
 ],
 "metadata": {
  "kernelspec": {
   "display_name": "Python 3",
   "language": "python",
   "name": "python3"
  },
  "language_info": {
   "codemirror_mode": {
    "name": "ipython",
    "version": 3
   },
   "file_extension": ".py",
   "mimetype": "text/x-python",
   "name": "python",
   "nbconvert_exporter": "python",
   "pygments_lexer": "ipython3",
   "version": "3.8.5"
  }
 },
 "nbformat": 4,
 "nbformat_minor": 2
}
