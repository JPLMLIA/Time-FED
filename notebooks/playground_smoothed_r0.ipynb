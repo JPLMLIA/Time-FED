{
 "cells": [
  {
   "cell_type": "markdown",
   "metadata": {
    "pycharm": {
     "name": "#%% md\n"
    }
   },
   "source": [
    "### import statements"
   ]
  },
  {
   "cell_type": "code",
   "execution_count": null,
   "metadata": {},
   "outputs": [],
   "source": [
    "%matplotlib inline\n",
    "import sys\n",
    "import os\n",
    "import pandas as pd\n",
    "sys.path.append('../src')\n",
    "import datetime\n",
    "import matplotlib.pyplot as plt\n",
    "import numpy as np\n",
    "import sklearn\n",
    "import pickle"
   ]
  },
  {
   "cell_type": "code",
   "execution_count": null,
   "metadata": {},
   "outputs": [],
   "source": [
    "from plot_utils import *"
   ]
  },
  {
   "cell_type": "markdown",
   "metadata": {
    "pycharm": {
     "name": "#%% md\n"
    }
   },
   "source": [
    "### constants"
   ]
  },
  {
   "cell_type": "code",
   "execution_count": null,
   "metadata": {},
   "outputs": [],
   "source": [
    "smooth_mins = [1, 2, 5, 10, 15, 20]\n",
    "r0_map = {'all':'r0_all','day':'r0_day','ngt':'r0_ngt'} # adn = all, day, ngt"
   ]
  },
  {
   "cell_type": "code",
   "execution_count": null,
   "metadata": {},
   "outputs": [],
   "source": [
    "feats_mnus_cn2 = ['pressure', 'relative_humidity', 'temperature', 'wind_speed', 'solar_zenith_angle','dayofyear', 'hour']\n",
    "feats_plus_cn2 = feats_mnus_cn2 + ['logCn2']\n",
    "feats_map = {'feats_plus_cn2': feats_plus_cn2, 'feats_mnus_cn2': feats_mnus_cn2}"
   ]
  },
  {
   "cell_type": "code",
   "execution_count": null,
   "metadata": {},
   "outputs": [],
   "source": [
    "split_date = '2019-12-31'"
   ]
  },
  {
   "cell_type": "code",
   "execution_count": null,
   "metadata": {},
   "outputs": [],
   "source": [
    "# xmin, ymin = 0, 0\n",
    "# xmax, ymax = 20, 20"
   ]
  },
  {
   "cell_type": "markdown",
   "metadata": {
    "pycharm": {
     "name": "#%% md\n"
    }
   },
   "source": [
    "### read data"
   ]
  },
  {
   "cell_type": "code",
   "execution_count": null,
   "metadata": {},
   "outputs": [],
   "source": [
    "with open('results.r0.pkl', 'rb') as fh:\n",
    "    results = pickle.load(fh)"
   ]
  },
  {
   "cell_type": "code",
   "execution_count": null,
   "metadata": {},
   "outputs": [],
   "source": [
    "df_subset_resamp5 = pd.read_hdf('df_subset_resamp5.r0.h5')\n",
    "df_subset = df_subset_resamp5"
   ]
  },
  {
   "cell_type": "code",
   "execution_count": null,
   "metadata": {},
   "outputs": [],
   "source": [
    "with open('valid_masks.r0.pkl', 'rb') as fh:\n",
    "    valid_masks = pickle.load(fh)"
   ]
  },
  {
   "cell_type": "markdown",
   "metadata": {},
   "source": [
    "### Compare the Results"
   ]
  },
  {
   "cell_type": "code",
   "execution_count": null,
   "metadata": {},
   "outputs": [],
   "source": [
    "results_by_smooth_sqerr = {}\n",
    "results_by_smooth_perr = {}\n",
    "\n",
    "f = 'feats_plus_cn2'\n",
    "for m in smooth_mins:\n",
    "    results_by_smooth_sqerr[m] = []\n",
    "    results_by_smooth_sqerr[m].append(results[f]['all'][m]['sq_err'])\n",
    "    results_by_smooth_sqerr[m].append(results[f]['day'][m]['sq_err'])\n",
    "    results_by_smooth_sqerr[m].append(results[f]['ngt'][m]['sq_err'])\n",
    "    \n",
    "    results_by_smooth_perr[m] = []\n",
    "    results_by_smooth_perr[m].append(results[f]['all'][m]['perc_err'])\n",
    "    results_by_smooth_perr[m].append(results[f]['day'][m]['perc_err'])\n",
    "    results_by_smooth_perr[m].append(results[f]['ngt'][m]['perc_err'])"
   ]
  },
  {
   "cell_type": "code",
   "execution_count": null,
   "metadata": {},
   "outputs": [],
   "source": [
    "print('all')\n",
    "for m in results_by_smooth_sqerr.keys():\n",
    "    print(\"{:2} {:.5}, {:.5}\".format(m, results_by_smooth_sqerr[m][0], results_by_smooth_perr[m][0]))\n",
    "print('day')\n",
    "for m in results_by_smooth_sqerr.keys():\n",
    "    print(\"{:2} {:.5}, {:.5}\".format(m, results_by_smooth_sqerr[m][1], results_by_smooth_perr[m][1]))\n",
    "print('ngt')\n",
    "for m in results_by_smooth_sqerr.keys():\n",
    "    print(\"{:2} {:.5}, {:.5}\".format(m, results_by_smooth_sqerr[m][2], results_by_smooth_perr[m][2]))"
   ]
  },
  {
   "cell_type": "code",
   "execution_count": null,
   "metadata": {},
   "outputs": [],
   "source": [
    "results_by_smooth_perr"
   ]
  },
  {
   "cell_type": "code",
   "execution_count": null,
   "metadata": {},
   "outputs": [],
   "source": [
    "def plot_bar_plots(results_by_smooth, ylabel):\n",
    "    \n",
    "    labels = ['all', 'day', 'ngt']\n",
    "\n",
    "    x = np.arange(len(labels))  # the label locations\n",
    "    width = 0.1  # the width of the bars\n",
    "\n",
    "    fig, ax = plt.subplots()\n",
    "    ax.bar(x - 2*width, results_by_smooth[1], width, label='1min')\n",
    "    ax.bar(x - width, results_by_smooth[2], width, label='2min')\n",
    "    ax.bar(x, results_by_smooth[5], width, label='5min')\n",
    "    ax.bar(x + width, results_by_smooth[10], width, label='10min')\n",
    "    ax.bar(x + 2*width, results_by_smooth[15], width, label='15min')\n",
    "    ax.bar(x + 3*width, results_by_smooth[20], width, label='20min')\n",
    "\n",
    "    # Add some text for labels, title and custom x-axis tick labels, etc.\n",
    "    ax.set_ylabel(ylabel)\n",
    "    ax.set_xticks(x)\n",
    "    ax.set_xticklabels(labels)\n",
    "    ax.legend(loc='center left', bbox_to_anchor=(1, 0.5))\n",
    "    "
   ]
  },
  {
   "cell_type": "code",
   "execution_count": null,
   "metadata": {},
   "outputs": [],
   "source": [
    "plot_bar_plots(results_by_smooth_sqerr, 'r0 squared error')"
   ]
  },
  {
   "cell_type": "code",
   "execution_count": null,
   "metadata": {},
   "outputs": [],
   "source": [
    "plot_bar_plots(results_by_smooth_perr, 'r0 perc error')"
   ]
  }
 ],
 "metadata": {
  "kernelspec": {
   "display_name": "Python 3",
   "language": "python",
   "name": "python3"
  },
  "language_info": {
   "codemirror_mode": {
    "name": "ipython",
    "version": 3
   },
   "file_extension": ".py",
   "mimetype": "text/x-python",
   "name": "python",
   "nbconvert_exporter": "python",
   "pygments_lexer": "ipython3",
   "version": "3.8.5"
  }
 },
 "nbformat": 4,
 "nbformat_minor": 2
}
