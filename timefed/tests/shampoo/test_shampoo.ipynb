{
 "cells": [
  {
   "cell_type": "code",
   "execution_count": 1,
   "id": "6c22934f",
   "metadata": {},
   "outputs": [],
   "source": [
    "import pandas as pd"
   ]
  },
  {
   "cell_type": "markdown",
   "id": "d12f85d4",
   "metadata": {},
   "source": [
    "# Testing Extract"
   ]
  },
  {
   "cell_type": "code",
   "execution_count": 2,
   "id": "f7a1775b",
   "metadata": {},
   "outputs": [],
   "source": [
    "shampoo_extracted_df = pd.read_hdf('shampoo.extract.h5')"
   ]
  },
  {
   "cell_type": "code",
   "execution_count": 3,
   "id": "089fb620",
   "metadata": {},
   "outputs": [
    {
     "data": {
      "text/plain": [
       "(24, 372)"
      ]
     },
     "execution_count": 3,
     "metadata": {},
     "output_type": "execute_result"
    }
   ],
   "source": [
    "shampoo_extracted_df.shape"
   ]
  },
  {
   "cell_type": "code",
   "execution_count": 4,
   "id": "c0a75f1e",
   "metadata": {},
   "outputs": [
    {
     "data": {
      "text/html": [
       "<div>\n",
       "<style scoped>\n",
       "    .dataframe tbody tr th:only-of-type {\n",
       "        vertical-align: middle;\n",
       "    }\n",
       "\n",
       "    .dataframe tbody tr th {\n",
       "        vertical-align: top;\n",
       "    }\n",
       "\n",
       "    .dataframe thead th {\n",
       "        text-align: right;\n",
       "    }\n",
       "</style>\n",
       "<table border=\"1\" class=\"dataframe\">\n",
       "  <thead>\n",
       "    <tr style=\"text-align: right;\">\n",
       "      <th></th>\n",
       "      <th>Number of shampoo sales__variance_larger_than_standard_deviation</th>\n",
       "      <th>Number of shampoo sales__has_duplicate_max</th>\n",
       "      <th>Number of shampoo sales__has_duplicate_min</th>\n",
       "      <th>Number of shampoo sales__has_duplicate</th>\n",
       "      <th>Number of shampoo sales__sum_values</th>\n",
       "      <th>Number of shampoo sales__abs_energy</th>\n",
       "      <th>Number of shampoo sales__mean_abs_change</th>\n",
       "      <th>Number of shampoo sales__mean_change</th>\n",
       "      <th>Number of shampoo sales__mean_second_derivative_central</th>\n",
       "      <th>Number of shampoo sales__median</th>\n",
       "      <th>...</th>\n",
       "      <th>Number of shampoo sales__fourier_entropy__bins_5</th>\n",
       "      <th>Number of shampoo sales__fourier_entropy__bins_10</th>\n",
       "      <th>Number of shampoo sales__fourier_entropy__bins_100</th>\n",
       "      <th>Number of shampoo sales__permutation_entropy__dimension_3__tau_1</th>\n",
       "      <th>Number of shampoo sales__permutation_entropy__dimension_4__tau_1</th>\n",
       "      <th>Number of shampoo sales__permutation_entropy__dimension_5__tau_1</th>\n",
       "      <th>Number of shampoo sales__permutation_entropy__dimension_6__tau_1</th>\n",
       "      <th>Number of shampoo sales__permutation_entropy__dimension_7__tau_1</th>\n",
       "      <th>Number of shampoo sales__mean_n_absolute_max__number_of_maxima_7</th>\n",
       "      <th>label</th>\n",
       "    </tr>\n",
       "  </thead>\n",
       "  <tbody>\n",
       "    <tr>\n",
       "      <th>1992-01-01</th>\n",
       "      <td>1.0</td>\n",
       "      <td>0.0</td>\n",
       "      <td>0.0</td>\n",
       "      <td>0.0</td>\n",
       "      <td>2285.8</td>\n",
       "      <td>471896.54</td>\n",
       "      <td>65.327273</td>\n",
       "      <td>4.400000</td>\n",
       "      <td>-1.44</td>\n",
       "      <td>184.50</td>\n",
       "      <td>...</td>\n",
       "      <td>1.351784</td>\n",
       "      <td>1.747868</td>\n",
       "      <td>1.945910</td>\n",
       "      <td>1.557113</td>\n",
       "      <td>2.197225</td>\n",
       "      <td>2.079442</td>\n",
       "      <td>1.94591</td>\n",
       "      <td>1.791759</td>\n",
       "      <td>221.271429</td>\n",
       "      <td>185.9</td>\n",
       "    </tr>\n",
       "    <tr>\n",
       "      <th>1992-02-01</th>\n",
       "      <td>1.0</td>\n",
       "      <td>0.0</td>\n",
       "      <td>0.0</td>\n",
       "      <td>0.0</td>\n",
       "      <td>2289.4</td>\n",
       "      <td>472959.98</td>\n",
       "      <td>66.018182</td>\n",
       "      <td>-3.054545</td>\n",
       "      <td>0.95</td>\n",
       "      <td>184.50</td>\n",
       "      <td>...</td>\n",
       "      <td>1.277034</td>\n",
       "      <td>1.475076</td>\n",
       "      <td>1.747868</td>\n",
       "      <td>1.557113</td>\n",
       "      <td>2.197225</td>\n",
       "      <td>2.079442</td>\n",
       "      <td>1.94591</td>\n",
       "      <td>1.791759</td>\n",
       "      <td>221.271429</td>\n",
       "      <td>194.3</td>\n",
       "    </tr>\n",
       "    <tr>\n",
       "      <th>1992-03-01</th>\n",
       "      <td>1.0</td>\n",
       "      <td>0.0</td>\n",
       "      <td>0.0</td>\n",
       "      <td>0.0</td>\n",
       "      <td>2316.4</td>\n",
       "      <td>483576.38</td>\n",
       "      <td>65.727273</td>\n",
       "      <td>8.254545</td>\n",
       "      <td>-0.02</td>\n",
       "      <td>189.35</td>\n",
       "      <td>...</td>\n",
       "      <td>1.004242</td>\n",
       "      <td>1.277034</td>\n",
       "      <td>1.945910</td>\n",
       "      <td>1.504788</td>\n",
       "      <td>2.197225</td>\n",
       "      <td>2.079442</td>\n",
       "      <td>1.94591</td>\n",
       "      <td>1.791759</td>\n",
       "      <td>225.128571</td>\n",
       "      <td>149.5</td>\n",
       "    </tr>\n",
       "    <tr>\n",
       "      <th>1992-04-01</th>\n",
       "      <td>1.0</td>\n",
       "      <td>0.0</td>\n",
       "      <td>0.0</td>\n",
       "      <td>0.0</td>\n",
       "      <td>2470.4</td>\n",
       "      <td>544036.78</td>\n",
       "      <td>65.927273</td>\n",
       "      <td>8.454545</td>\n",
       "      <td>3.75</td>\n",
       "      <td>193.55</td>\n",
       "      <td>...</td>\n",
       "      <td>1.351784</td>\n",
       "      <td>1.549826</td>\n",
       "      <td>1.945910</td>\n",
       "      <td>1.695743</td>\n",
       "      <td>2.197225</td>\n",
       "      <td>2.079442</td>\n",
       "      <td>1.94591</td>\n",
       "      <td>1.791759</td>\n",
       "      <td>237.614286</td>\n",
       "      <td>210.1</td>\n",
       "    </tr>\n",
       "    <tr>\n",
       "      <th>1992-05-01</th>\n",
       "      <td>1.0</td>\n",
       "      <td>0.0</td>\n",
       "      <td>0.0</td>\n",
       "      <td>0.0</td>\n",
       "      <td>2481.5</td>\n",
       "      <td>548162.65</td>\n",
       "      <td>72.300000</td>\n",
       "      <td>2.081818</td>\n",
       "      <td>-7.26</td>\n",
       "      <td>193.55</td>\n",
       "      <td>...</td>\n",
       "      <td>1.351784</td>\n",
       "      <td>1.747868</td>\n",
       "      <td>1.945910</td>\n",
       "      <td>1.748067</td>\n",
       "      <td>2.197225</td>\n",
       "      <td>2.079442</td>\n",
       "      <td>1.94591</td>\n",
       "      <td>1.791759</td>\n",
       "      <td>237.614286</td>\n",
       "      <td>273.3</td>\n",
       "    </tr>\n",
       "  </tbody>\n",
       "</table>\n",
       "<p>5 rows × 372 columns</p>\n",
       "</div>"
      ],
      "text/plain": [
       "            Number of shampoo sales__variance_larger_than_standard_deviation  \\\n",
       "1992-01-01                                                1.0                  \n",
       "1992-02-01                                                1.0                  \n",
       "1992-03-01                                                1.0                  \n",
       "1992-04-01                                                1.0                  \n",
       "1992-05-01                                                1.0                  \n",
       "\n",
       "            Number of shampoo sales__has_duplicate_max  \\\n",
       "1992-01-01                                         0.0   \n",
       "1992-02-01                                         0.0   \n",
       "1992-03-01                                         0.0   \n",
       "1992-04-01                                         0.0   \n",
       "1992-05-01                                         0.0   \n",
       "\n",
       "            Number of shampoo sales__has_duplicate_min  \\\n",
       "1992-01-01                                         0.0   \n",
       "1992-02-01                                         0.0   \n",
       "1992-03-01                                         0.0   \n",
       "1992-04-01                                         0.0   \n",
       "1992-05-01                                         0.0   \n",
       "\n",
       "            Number of shampoo sales__has_duplicate  \\\n",
       "1992-01-01                                     0.0   \n",
       "1992-02-01                                     0.0   \n",
       "1992-03-01                                     0.0   \n",
       "1992-04-01                                     0.0   \n",
       "1992-05-01                                     0.0   \n",
       "\n",
       "            Number of shampoo sales__sum_values  \\\n",
       "1992-01-01                               2285.8   \n",
       "1992-02-01                               2289.4   \n",
       "1992-03-01                               2316.4   \n",
       "1992-04-01                               2470.4   \n",
       "1992-05-01                               2481.5   \n",
       "\n",
       "            Number of shampoo sales__abs_energy  \\\n",
       "1992-01-01                            471896.54   \n",
       "1992-02-01                            472959.98   \n",
       "1992-03-01                            483576.38   \n",
       "1992-04-01                            544036.78   \n",
       "1992-05-01                            548162.65   \n",
       "\n",
       "            Number of shampoo sales__mean_abs_change  \\\n",
       "1992-01-01                                 65.327273   \n",
       "1992-02-01                                 66.018182   \n",
       "1992-03-01                                 65.727273   \n",
       "1992-04-01                                 65.927273   \n",
       "1992-05-01                                 72.300000   \n",
       "\n",
       "            Number of shampoo sales__mean_change  \\\n",
       "1992-01-01                              4.400000   \n",
       "1992-02-01                             -3.054545   \n",
       "1992-03-01                              8.254545   \n",
       "1992-04-01                              8.454545   \n",
       "1992-05-01                              2.081818   \n",
       "\n",
       "            Number of shampoo sales__mean_second_derivative_central  \\\n",
       "1992-01-01                                              -1.44         \n",
       "1992-02-01                                               0.95         \n",
       "1992-03-01                                              -0.02         \n",
       "1992-04-01                                               3.75         \n",
       "1992-05-01                                              -7.26         \n",
       "\n",
       "            Number of shampoo sales__median  ...  \\\n",
       "1992-01-01                           184.50  ...   \n",
       "1992-02-01                           184.50  ...   \n",
       "1992-03-01                           189.35  ...   \n",
       "1992-04-01                           193.55  ...   \n",
       "1992-05-01                           193.55  ...   \n",
       "\n",
       "            Number of shampoo sales__fourier_entropy__bins_5  \\\n",
       "1992-01-01                                          1.351784   \n",
       "1992-02-01                                          1.277034   \n",
       "1992-03-01                                          1.004242   \n",
       "1992-04-01                                          1.351784   \n",
       "1992-05-01                                          1.351784   \n",
       "\n",
       "            Number of shampoo sales__fourier_entropy__bins_10  \\\n",
       "1992-01-01                                           1.747868   \n",
       "1992-02-01                                           1.475076   \n",
       "1992-03-01                                           1.277034   \n",
       "1992-04-01                                           1.549826   \n",
       "1992-05-01                                           1.747868   \n",
       "\n",
       "            Number of shampoo sales__fourier_entropy__bins_100  \\\n",
       "1992-01-01                                           1.945910    \n",
       "1992-02-01                                           1.747868    \n",
       "1992-03-01                                           1.945910    \n",
       "1992-04-01                                           1.945910    \n",
       "1992-05-01                                           1.945910    \n",
       "\n",
       "            Number of shampoo sales__permutation_entropy__dimension_3__tau_1  \\\n",
       "1992-01-01                                           1.557113                  \n",
       "1992-02-01                                           1.557113                  \n",
       "1992-03-01                                           1.504788                  \n",
       "1992-04-01                                           1.695743                  \n",
       "1992-05-01                                           1.748067                  \n",
       "\n",
       "            Number of shampoo sales__permutation_entropy__dimension_4__tau_1  \\\n",
       "1992-01-01                                           2.197225                  \n",
       "1992-02-01                                           2.197225                  \n",
       "1992-03-01                                           2.197225                  \n",
       "1992-04-01                                           2.197225                  \n",
       "1992-05-01                                           2.197225                  \n",
       "\n",
       "            Number of shampoo sales__permutation_entropy__dimension_5__tau_1  \\\n",
       "1992-01-01                                           2.079442                  \n",
       "1992-02-01                                           2.079442                  \n",
       "1992-03-01                                           2.079442                  \n",
       "1992-04-01                                           2.079442                  \n",
       "1992-05-01                                           2.079442                  \n",
       "\n",
       "            Number of shampoo sales__permutation_entropy__dimension_6__tau_1  \\\n",
       "1992-01-01                                            1.94591                  \n",
       "1992-02-01                                            1.94591                  \n",
       "1992-03-01                                            1.94591                  \n",
       "1992-04-01                                            1.94591                  \n",
       "1992-05-01                                            1.94591                  \n",
       "\n",
       "            Number of shampoo sales__permutation_entropy__dimension_7__tau_1  \\\n",
       "1992-01-01                                           1.791759                  \n",
       "1992-02-01                                           1.791759                  \n",
       "1992-03-01                                           1.791759                  \n",
       "1992-04-01                                           1.791759                  \n",
       "1992-05-01                                           1.791759                  \n",
       "\n",
       "            Number of shampoo sales__mean_n_absolute_max__number_of_maxima_7  \\\n",
       "1992-01-01                                         221.271429                  \n",
       "1992-02-01                                         221.271429                  \n",
       "1992-03-01                                         225.128571                  \n",
       "1992-04-01                                         237.614286                  \n",
       "1992-05-01                                         237.614286                  \n",
       "\n",
       "            label  \n",
       "1992-01-01  185.9  \n",
       "1992-02-01  194.3  \n",
       "1992-03-01  149.5  \n",
       "1992-04-01  210.1  \n",
       "1992-05-01  273.3  \n",
       "\n",
       "[5 rows x 372 columns]"
      ]
     },
     "execution_count": 4,
     "metadata": {},
     "output_type": "execute_result"
    }
   ],
   "source": [
    "shampoo_extracted_df.head()"
   ]
  },
  {
   "cell_type": "code",
   "execution_count": 5,
   "id": "bb5de677",
   "metadata": {},
   "outputs": [
    {
     "data": {
      "text/plain": [
       "1992-01-01    185.9\n",
       "1992-02-01    194.3\n",
       "1992-03-01    149.5\n",
       "1992-04-01    210.1\n",
       "1992-05-01    273.3\n",
       "1992-06-01    191.4\n",
       "1992-07-01    287.0\n",
       "1992-08-01    226.0\n",
       "1992-09-01    303.6\n",
       "1992-10-01    289.9\n",
       "1992-11-01    421.6\n",
       "1992-12-01    264.5\n",
       "1993-01-01    342.3\n",
       "1993-02-01    339.7\n",
       "1993-03-01    440.4\n",
       "1993-04-01    315.9\n",
       "1993-05-01    439.3\n",
       "1993-06-01    401.3\n",
       "1993-07-01    437.4\n",
       "1993-08-01    575.5\n",
       "1993-09-01    407.6\n",
       "1993-10-01    682.0\n",
       "1993-11-01    475.3\n",
       "1993-12-01    581.3\n",
       "Name: label, dtype: float64"
      ]
     },
     "execution_count": 5,
     "metadata": {},
     "output_type": "execute_result"
    }
   ],
   "source": [
    "shampoo_extracted_df['label']"
   ]
  },
  {
   "cell_type": "code",
   "execution_count": 6,
   "id": "f314e40a",
   "metadata": {},
   "outputs": [],
   "source": [
    "shampoo_stats_df = shampoo_extracted_df.describe()"
   ]
  },
  {
   "cell_type": "code",
   "execution_count": 7,
   "id": "6943e895",
   "metadata": {},
   "outputs": [
    {
     "data": {
      "text/plain": [
       "289"
      ]
     },
     "execution_count": 7,
     "metadata": {},
     "output_type": "execute_result"
    }
   ],
   "source": [
    "shampoo_stats_df.loc['std',shampoo_stats_df.loc['std'] != 0].count()"
   ]
  },
  {
   "cell_type": "code",
   "execution_count": 8,
   "id": "2e057fb3",
   "metadata": {},
   "outputs": [
    {
     "data": {
      "text/plain": [
       "Number of shampoo sales__sum_values                                   1088.710848\n",
       "Number of shampoo sales__abs_energy                                 737477.497951\n",
       "Number of shampoo sales__mean_abs_change                                17.749584\n",
       "Number of shampoo sales__mean_change                                     8.567886\n",
       "Number of shampoo sales__mean_second_derivative_central                  8.320532\n",
       "                                                                        ...      \n",
       "Number of shampoo sales__permutation_entropy__dimension_5__tau_1         0.169478\n",
       "Number of shampoo sales__permutation_entropy__dimension_6__tau_1         0.120393\n",
       "Number of shampoo sales__permutation_entropy__dimension_7__tau_1         0.065232\n",
       "Number of shampoo sales__mean_n_absolute_max__number_of_maxima_7       102.443528\n",
       "label                                                                  138.440528\n",
       "Name: std, Length: 289, dtype: float64"
      ]
     },
     "execution_count": 8,
     "metadata": {},
     "output_type": "execute_result"
    }
   ],
   "source": [
    "shampoo_stats_df.loc['std',shampoo_stats_df.loc['std'] != 0]"
   ]
  },
  {
   "cell_type": "markdown",
   "id": "172a8d85",
   "metadata": {},
   "source": [
    "# Testing subselect"
   ]
  },
  {
   "cell_type": "code",
   "execution_count": 21,
   "id": "a0e07c1c",
   "metadata": {},
   "outputs": [],
   "source": [
    "shampoo_subselect_train_df = pd.read_hdf('shampoo.subselect.h5','select/train')\n",
    "shampoo_subselect_test_df = pd.read_hdf('shampoo.subselect.h5','select/test')"
   ]
  },
  {
   "cell_type": "code",
   "execution_count": 22,
   "id": "0ba125d6",
   "metadata": {},
   "outputs": [
    {
     "data": {
      "text/plain": [
       "DatetimeIndex(['1992-01-01', '1992-02-01', '1992-03-01', '1992-04-01',\n",
       "               '1992-05-01', '1992-06-01', '1992-07-01', '1992-08-01',\n",
       "               '1992-09-01', '1992-10-01', '1992-11-01', '1992-12-01',\n",
       "               '1993-01-01', '1993-02-01', '1993-03-01', '1993-04-01',\n",
       "               '1993-05-01', '1993-06-01'],\n",
       "              dtype='datetime64[ns]', freq=None)"
      ]
     },
     "execution_count": 22,
     "metadata": {},
     "output_type": "execute_result"
    }
   ],
   "source": [
    "shampoo_subselect_train_df.index"
   ]
  },
  {
   "cell_type": "code",
   "execution_count": 23,
   "id": "c5df9eea",
   "metadata": {},
   "outputs": [
    {
     "data": {
      "text/plain": [
       "DatetimeIndex(['1993-07-01', '1993-08-01', '1993-09-01', '1993-10-01',\n",
       "               '1993-11-01', '1993-12-01'],\n",
       "              dtype='datetime64[ns]', freq=None)"
      ]
     },
     "execution_count": 23,
     "metadata": {},
     "output_type": "execute_result"
    }
   ],
   "source": [
    "shampoo_subselect_test_df.index"
   ]
  },
  {
   "cell_type": "code",
   "execution_count": null,
   "id": "f527c3c5",
   "metadata": {},
   "outputs": [],
   "source": []
  }
 ],
 "metadata": {
  "kernelspec": {
   "display_name": "timefed (ipykernel)",
   "language": "python",
   "name": "python3"
  },
  "language_info": {
   "codemirror_mode": {
    "name": "ipython",
    "version": 3
   },
   "file_extension": ".py",
   "mimetype": "text/x-python",
   "name": "python",
   "nbconvert_exporter": "python",
   "pygments_lexer": "ipython3",
   "version": "3.10.4"
  }
 },
 "nbformat": 4,
 "nbformat_minor": 5
}
