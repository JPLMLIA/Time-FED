{
 "cells": [
  {
   "cell_type": "code",
   "execution_count": 2,
   "id": "073c3fa9",
   "metadata": {},
   "outputs": [],
   "source": [
    "import pandas as pd\n",
    "import matplotlib.pyplot as plt\n",
    "import numpy as np\n",
    "import sktime"
   ]
  },
  {
   "cell_type": "markdown",
   "id": "0e5cd7dd",
   "metadata": {},
   "source": [
    "## Italy Power Demand dataset"
   ]
  },
  {
   "cell_type": "code",
   "execution_count": null,
   "id": "6f53e26a",
   "metadata": {},
   "outputs": [],
   "source": [
    "mloc_orig_df = pd.read_hdf('merged.h5')"
   ]
  },
  {
   "cell_type": "code",
   "execution_count": null,
   "id": "44563dbc",
   "metadata": {},
   "outputs": [],
   "source": [
    "mloc_orig_df.shape"
   ]
  },
  {
   "cell_type": "code",
   "execution_count": null,
   "id": "7c9af216",
   "metadata": {},
   "outputs": [],
   "source": [
    "mloc_orig_df.describe()"
   ]
  },
  {
   "cell_type": "markdown",
   "id": "8f6b9512",
   "metadata": {},
   "source": [
    "Going to keep only relevant columns\n",
    "- pressure\n",
    "- relative_humidity\n",
    "- temperature\n",
    "- wind_soeed\n",
    "- Cn2\n",
    "- label is r0_10T (smoothed over 10 mins)"
   ]
  },
  {
   "cell_type": "code",
   "execution_count": null,
   "id": "999e6e58",
   "metadata": {},
   "outputs": [],
   "source": [
    " .index"
   ]
  },
  {
   "cell_type": "code",
   "execution_count": null,
   "id": "a683c7d3",
   "metadata": {},
   "outputs": [],
   "source": [
    "mloc_reduced_df = mloc_orig_df[['pressure', 'relative_humidity', 'temperature', 'wind_speed','Cn2', 'r0_10T']]"
   ]
  },
  {
   "cell_type": "code",
   "execution_count": null,
   "id": "af9e677a",
   "metadata": {},
   "outputs": [],
   "source": [
    "mloc_reduced_df = mloc_reduced_df.dropna()"
   ]
  },
  {
   "cell_type": "code",
   "execution_count": null,
   "id": "9631769a",
   "metadata": {},
   "outputs": [],
   "source": [
    "mloc_reduced_df.describe()"
   ]
  },
  {
   "cell_type": "code",
   "execution_count": null,
   "id": "824cf970",
   "metadata": {},
   "outputs": [],
   "source": [
    "mloc_reduced_df.index"
   ]
  },
  {
   "cell_type": "code",
   "execution_count": null,
   "id": "852072ae",
   "metadata": {},
   "outputs": [],
   "source": [
    "mask_2019 = (mloc_reduced_df.index >= '2019-01-01') & (mloc_reduced_df.index < '2020-01-01')\n",
    "mask_2020 = (mloc_reduced_df.index >= '2020-01-01') & (mloc_reduced_df.index < '2021-01-01')"
   ]
  },
  {
   "cell_type": "code",
   "execution_count": null,
   "id": "3abc8e3f",
   "metadata": {},
   "outputs": [],
   "source": [
    "plt.figure(figsize=(20,10))\n",
    "plt.plot(mloc_reduced_df.loc[mask_2019,'pressure'], 'r.')"
   ]
  },
  {
   "cell_type": "code",
   "execution_count": null,
   "id": "62e7d0fb",
   "metadata": {},
   "outputs": [],
   "source": [
    "plt.figure(figsize=(20,10))\n",
    "plt.plot(mloc_reduced_df.loc[mask_2020,'pressure'], 'r.')"
   ]
  },
  {
   "cell_type": "code",
   "execution_count": null,
   "id": "bd14c856",
   "metadata": {},
   "outputs": [],
   "source": [
    "mask_2019_q1 = (mloc_reduced_df.index >= '2019-01-01') & (mloc_reduced_df.index < '2019-04-01')\n",
    "mask_2020_q1 = (mloc_reduced_df.index >= '2020-01-01') & (mloc_reduced_df.index < '2020-04-01')"
   ]
  },
  {
   "cell_type": "code",
   "execution_count": null,
   "id": "b59716de",
   "metadata": {},
   "outputs": [],
   "source": [
    "plt.figure(figsize=(20,10))\n",
    "plt.plot(mloc_reduced_df.loc[mask_2019_q1,'pressure'], 'r.')\n",
    "plt.show()"
   ]
  },
  {
   "cell_type": "code",
   "execution_count": null,
   "id": "a36e917c",
   "metadata": {},
   "outputs": [],
   "source": [
    "plt.figure(figsize=(20,10))\n",
    "plt.plot(mloc_reduced_df.loc[mask_2020_q1,'pressure'], 'r.')\n",
    "plt.show()"
   ]
  },
  {
   "cell_type": "code",
   "execution_count": null,
   "id": "949209ab",
   "metadata": {},
   "outputs": [],
   "source": [
    "mask_2019_q1_2020_q1  = mask_2019_q1 | mask_2020_q1"
   ]
  },
  {
   "cell_type": "code",
   "execution_count": null,
   "id": "37d3b82a",
   "metadata": {},
   "outputs": [],
   "source": []
  },
  {
   "cell_type": "code",
   "execution_count": null,
   "id": "32d7d132",
   "metadata": {},
   "outputs": [],
   "source": [
    "plt.figure(figsize=(20,10))\n",
    "plt.plot(mloc_reduced_df.loc[mask_2019_q1_2020_q1,'pressure'], 'r.')\n",
    "plt.show()"
   ]
  },
  {
   "cell_type": "code",
   "execution_count": null,
   "id": "c1cc1226",
   "metadata": {},
   "outputs": [],
   "source": [
    "mask_2019_w1 = (mloc_reduced_df.index >= '2019-01-01') & (mloc_reduced_df.index < '2019-01-08')\n",
    "mask_2020_w1 = (mloc_reduced_df.index >= '2020-01-01') & (mloc_reduced_df.index < '2020-01-08')\n",
    "mask_2019_w1_2020_w1  = mask_2019_w1 | mask_2020_w1\n",
    "mloc_reduced_df.loc[mask_2019_w1_2020_w1].to_hdf('mloc_testdata_2019w1_2020w1.h5','data')"
   ]
  },
  {
   "cell_type": "code",
   "execution_count": null,
   "id": "14437382",
   "metadata": {
    "scrolled": true
   },
   "outputs": [],
   "source": [
    "plt.figure(figsize=(20,10))\n",
    "plt.plot(mloc_reduced_df.loc[mask_2019_w1,'pressure'], 'r.')\n",
    "plt.show()\n",
    "\n",
    "plt.figure(figsize=(20,10))\n",
    "plt.plot(mloc_reduced_df.loc[mask_2020_w1,'pressure'], 'r.')\n",
    "plt.show()"
   ]
  },
  {
   "cell_type": "markdown",
   "id": "7d82df7e",
   "metadata": {},
   "source": [
    "## Output from extract.py"
   ]
  },
  {
   "cell_type": "code",
   "execution_count": null,
   "id": "113b4d43",
   "metadata": {},
   "outputs": [],
   "source": [
    "mloc_extracted_df = pd.read_hdf('mloc.w1.extract.h5')"
   ]
  },
  {
   "cell_type": "code",
   "execution_count": null,
   "id": "ec1284e2",
   "metadata": {},
   "outputs": [],
   "source": [
    "mloc_extracted_stats_df = mloc_extracted_df.describe()"
   ]
  },
  {
   "cell_type": "code",
   "execution_count": null,
   "id": "28bad0b2",
   "metadata": {},
   "outputs": [],
   "source": [
    "np.sum(mloc_extracted_stats_df.loc['std'] != 0)"
   ]
  },
  {
   "cell_type": "code",
   "execution_count": null,
   "id": "444bb6d1",
   "metadata": {},
   "outputs": [],
   "source": [
    "feats = mloc_extracted_stats_df.loc['std',mloc_extracted_stats_df.loc['std'] != 0].index"
   ]
  },
  {
   "cell_type": "code",
   "execution_count": null,
   "id": "3bee982c",
   "metadata": {},
   "outputs": [],
   "source": [
    "feats"
   ]
  },
  {
   "cell_type": "markdown",
   "id": "99de97d0",
   "metadata": {},
   "source": [
    "Can I look at different distributions of columns"
   ]
  },
  {
   "cell_type": "code",
   "execution_count": null,
   "id": "346d5d75",
   "metadata": {},
   "outputs": [],
   "source": [
    "mloc_extracted_df[feats].describe()\n",
    "type(feats)"
   ]
  },
  {
   "cell_type": "code",
   "execution_count": null,
   "id": "49748dae",
   "metadata": {},
   "outputs": [],
   "source": [
    "mloc_extracted_df_cols_randsamp = mloc_extracted_df[feats].sample(n=10,axis='columns')\n",
    "    "
   ]
  },
  {
   "cell_type": "code",
   "execution_count": null,
   "id": "93975b04",
   "metadata": {},
   "outputs": [],
   "source": [
    "mloc_extracted_df_cols_randsamp.columns"
   ]
  },
  {
   "cell_type": "code",
   "execution_count": null,
   "id": "e7aa0b71",
   "metadata": {},
   "outputs": [],
   "source": [
    "# mloc_extracted_df_cols_randsamp.index"
   ]
  },
  {
   "cell_type": "code",
   "execution_count": null,
   "id": "c9c4f093",
   "metadata": {
    "scrolled": false
   },
   "outputs": [],
   "source": [
    "fig, ax = plt.subplots(1, 2, figsize=(20,10))\n",
    "mloc_extracted_df.loc[mask_2019,'r0_10T'].plot(ax=ax[0], label='r0_10T', color='r')\n",
    "mloc_extracted_df.loc[mask_2020,'r0_10T'].plot(ax=ax[1], label='r0_10T', color='r')\n",
    "\n",
    "mask_2019 = mloc_extracted_df_cols_randsamp.index < '2020-01-01'\n",
    "mask_2020 = mloc_extracted_df_cols_randsamp.index >= '2020-01-01'\n",
    "for col in mloc_extracted_df_cols_randsamp.columns:\n",
    "    fig, ax = plt.subplots(1, 2, figsize=(20,10))\n",
    "    mloc_extracted_df_cols_randsamp.loc[mask_2019,col].plot(ax=ax[0], label=col)\n",
    "    mloc_extracted_df_cols_randsamp.loc[mask_2020,col].plot(ax=ax[1], label=col)\n",
    "    ax[0].legend()\n"
   ]
  },
  {
   "cell_type": "code",
   "execution_count": null,
   "id": "59f182b7",
   "metadata": {},
   "outputs": [],
   "source": []
  }
 ],
 "metadata": {
  "kernelspec": {
   "display_name": "timefed (ipykernel)",
   "language": "python",
   "name": "python3"
  },
  "language_info": {
   "codemirror_mode": {
    "name": "ipython",
    "version": 3
   },
   "file_extension": ".py",
   "mimetype": "text/x-python",
   "name": "python",
   "nbconvert_exporter": "python",
   "pygments_lexer": "ipython3",
   "version": "3.10.4"
  }
 },
 "nbformat": 4,
 "nbformat_minor": 5
}
