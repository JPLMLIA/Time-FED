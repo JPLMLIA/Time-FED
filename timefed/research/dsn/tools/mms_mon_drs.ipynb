{
  "cells": [
    {
      "cell_type": "code",
      "source": [
        "%load_ext autoreload\n",
        "%autoreload 2\n",
        "%matplotlib inline"
      ],
      "outputs": [],
      "execution_count": null,
      "metadata": {
        "jupyter": {
          "source_hidden": false,
          "outputs_hidden": false
        },
        "nteract": {
          "transient": {
            "deleting": false
          }
        }
      }
    },
    {
      "cell_type": "code",
      "source": [
        "# export LD_LIBRARY_PATH=/Users/jamesmo/projects/sqa-utils/lib\n",
        "import cx_Oracle\n",
        "\n",
        "from sqa import query\n",
        "\n",
        "try:\n",
        "    cx_Oracle.init_oracle_client('/Users/jamesmo/projects/sqa-utils/lib')\n",
        "except:\n",
        "    pass\n",
        "\n",
        "query.connect()\n"
      ],
      "outputs": [],
      "execution_count": null,
      "metadata": {
        "jupyter": {
          "source_hidden": false,
          "outputs_hidden": false
        },
        "nteract": {
          "transient": {
            "deleting": false
          }
        }
      }
    },
    {
      "cell_type": "code",
      "source": [
        "scs = query.get_all_sc()\n"
      ],
      "outputs": [],
      "execution_count": null,
      "metadata": {
        "jupyter": {
          "source_hidden": false,
          "outputs_hidden": false
        },
        "nteract": {
          "transient": {
            "deleting": false
          }
        }
      }
    },
    {
      "cell_type": "code",
      "source": [
        "import numpy as np\n",
        "import pandas as pd\n",
        "\n",
        "# Convert SC IDs to pandas\n",
        "scs = np.array(scs)\n",
        "scids = pd.DataFrame(scs, columns=['name', 'id'])\n",
        "\n",
        "scids.query('name == \"JWST\"')\n"
      ],
      "outputs": [],
      "execution_count": null,
      "metadata": {
        "jupyter": {
          "source_hidden": false,
          "outputs_hidden": false
        },
        "nteract": {
          "transient": {
            "deleting": false
          }
        }
      }
    },
    {
      "cell_type": "code",
      "source": [
        "# Check for duplicates\n",
        "dups = scids.loc[list(set(scids.index) - set(scids.drop_duplicates(subset='id', keep=False).index))].sort_values('id')\n",
        "dups\n",
        "dups.sort_values('name')\n"
      ],
      "outputs": [],
      "execution_count": null,
      "metadata": {
        "jupyter": {
          "source_hidden": false,
          "outputs_hidden": false
        },
        "nteract": {
          "transient": {
            "deleting": false
          }
        }
      }
    },
    {
      "cell_type": "code",
      "source": [
        "\n",
        "scid = int(df[df.name=='MMS1'].id)\n",
        "scid = 170\n",
        "\n",
        "_, tracks = query.get_tracks(scid)\n",
        "\n",
        "# Convert tracks to dataframe\n",
        "tracks = pd.DataFrame(tracks, columns=['track'])\n",
        "tracks\n"
      ],
      "outputs": [],
      "execution_count": null,
      "metadata": {
        "jupyter": {
          "source_hidden": false,
          "outputs_hidden": false
        },
        "nteract": {
          "transient": {
            "deleting": false
          }
        }
      }
    },
    {
      "cell_type": "code",
      "source": [
        "# Retrieve the monitor data\n",
        "data = query.get_monitor_data(tracks.track, count=10)\n",
        "sub  = list(data.keys())\n",
        "\n",
        "tracks.query(f'track in {sub}')\n"
      ],
      "outputs": [],
      "execution_count": null,
      "metadata": {
        "jupyter": {
          "source_hidden": false,
          "outputs_hidden": false
        },
        "nteract": {
          "transient": {
            "deleting": false
          }
        }
      }
    },
    {
      "cell_type": "code",
      "source": [
        "# Current working MMS monitor queries\n",
        "qString = \"\"\"\n",
        "SELECT\n",
        "    dcc.SCHEDULE_ITEM_ID,\n",
        "    dcc.GROUND_ANTENNA_ID,\n",
        "    dcc.RECEIVED_AT_TS,\n",
        "    si.BEGINNING_OF_TRACK_TIME_DT,\n",
        "    si.END_OF_TRACK_TIME_DT,\n",
        "    dcc.TLM_GOOD_FRAME_COUNT,\n",
        "    dcc.TLM_BAD_FRAME_COUNT,\n",
        "    dcc.CAR_TRK_LOOP_LOCK_STATUS,\n",
        "    dcc.CARRIER_SYSTEM_NOISE_TEMP,\n",
        "    dcc.AGC_VOLTAGE\n",
        "FROM\n",
        "    SQADW.TF_DCC dcc\n",
        "INNER JOIN\n",
        "    SQADW.TL_SCHEDULE_ITEM si\n",
        "ON  dcc.SCHEDULE_ITEM_ID = si.SCHEDULE_ITEM_ID\n",
        "WHERE\n",
        "    dcc.SPACECRAFT_ID = '{mission_id}'\n",
        "ORDER BY\n",
        "    dcc.RECEIVED_AT_TS\n",
        "\"\"\"\n",
        "\n",
        "missions = ['MMS1', 'MMS2', 'MMS3', 'MMS4']\n",
        "for mission in missions:\n",
        "    # Retrieve the data from SQA\n",
        "    scid = int(scids.query(f'name == \"{mission}\"').id)\n",
        "    desc, data = query.exec_query(qString.format(mission_id=scid))\n",
        "    df = query.create_dict(desc, data, df=True)\n",
        "    # Now save to h5\n",
        "    ants = np.unique(df.GROUND_ANTENNA_ID)\n",
        "    for ant in ants:\n",
        "        nf = df[df.GROUND_ANTENNA_ID == ant]\n",
        "        tracks = np.unique(nf.SCHEDULE_ITEM_ID)\n",
        "        for track in tracks:\n",
        "            tf = nf[nf.SCHEDULE_ITEM_ID == track]\n",
        "            tf.to_hdf('/Users/jamesmo/projects/sqa-utils/local/data/tracks.h5', f'{mission}/{ant}/{track}')\n"
      ],
      "outputs": [],
      "execution_count": null,
      "metadata": {
        "jupyter": {
          "source_hidden": false,
          "outputs_hidden": false
        },
        "nteract": {
          "transient": {
            "deleting": false
          }
        }
      }
    },
    {
      "cell_type": "code",
      "source": [
        "from datetime import datetime as dtt\n",
        "\n",
        "def timestamp_to_datetime(timestamps):\n",
        "    \"\"\"\n",
        "    Converts an integer or floating point timestamp to a Python datetime object.\n",
        "\n",
        "    Parameters\n",
        "    ----------\n",
        "    timestamps: single or iterable of int or float\n",
        "        A singular or a list of timestamps to convert\n",
        "\n",
        "    Returns\n",
        "    -------\n",
        "    list of or single datetime\n",
        "    \"\"\"\n",
        "    if isinstance(timestamps, (int, float)):\n",
        "        return dtt.fromtimestamp(timestamps)\n",
        "    else:\n",
        "        return [dtt.fromtimestamp(ts) for ts in timestamps]\n",
        "\n",
        "\n",
        "df.index = timestamp_to_datetime(df.index)\n",
        "\n",
        "for name, column in df.items():\n",
        "    if 'DT' in name:\n",
        "        df[name] = timestamp_to_datetime(column)\n",
        "\n",
        "def decode_strings(df):\n",
        "    \"\"\"\n",
        "    Attempts to apply string.decode() to any column with a dtype of object.\n",
        "\n",
        "    Parameters\n",
        "    ----------\n",
        "    df: pandas.DataFrame\n",
        "        The DataFrame object to iterate over searching for object dtype columns\n",
        "        to apply decoding to\n",
        "\n",
        "    Returns\n",
        "    -------\n",
        "    df: pandas.DataFrame\n",
        "        Same DataFrame object as input but with decoded columns\n",
        "    \"\"\"\n",
        "    for name, column in df.items():\n",
        "        if column.dtype == 'object':\n",
        "            try:\n",
        "                df[name] = column.apply(lambda string: string.decode())\n",
        "                print(f'Decoded column {name}')\n",
        "            except:\n",
        "                print(f'Failed to decode column {name}')\n",
        "\n",
        "    return df\n",
        "\n",
        "df = decode_strings(df)\n"
      ],
      "outputs": [],
      "execution_count": null,
      "metadata": {
        "jupyter": {
          "source_hidden": false,
          "outputs_hidden": false
        },
        "nteract": {
          "transient": {
            "deleting": false
          }
        }
      }
    },
    {
      "cell_type": "code",
      "source": [
        "# Pull down DR information and save to H5\n",
        "from tqdm import tqdm\n",
        "\n",
        "missions = ['MMS1', 'MMS2', 'MMS3', 'MMS4']\n",
        "for mission in tqdm(missions, desc='Missions Processed'):\n",
        "    scid = int(scids.query(f'name == \"{mission}\"').id)\n",
        "    _, tracks = query.get_tracks(scid)\n",
        "    drs = query.get_dr_data(tracks)\n",
        "    drs = pd.concat(drs.values())\n",
        "    drs.to_hdf('/Users/jamesmo/projects/sqa-utils/local/data/drs.h5', mission)\n"
      ],
      "outputs": [],
      "execution_count": null,
      "metadata": {
        "jupyter": {
          "source_hidden": false,
          "outputs_hidden": false
        },
        "nteract": {
          "transient": {
            "deleting": false
          }
        }
      }
    }
  ],
  "metadata": {
    "kernelspec": {
      "argv": [
        "/Users/jamesmo/miniconda3/envs/timefed/bin/python",
        "-m",
        "ipykernel_launcher",
        "-f",
        "{connection_file}"
      ],
      "display_name": "timefed",
      "language": "python",
      "metadata": {
        "debugger": true
      },
      "name": "timefed"
    }
  },
  "nbformat": 4,
  "nbformat_minor": 0
}